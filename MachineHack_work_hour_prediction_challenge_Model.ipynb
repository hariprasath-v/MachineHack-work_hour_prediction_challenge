{
  "nbformat": 4,
  "nbformat_minor": 0,
  "metadata": {
    "colab": {
      "name": "MachineHack-work_hour_prediction_challenge-Model.ipynb",
      "provenance": [],
      "collapsed_sections": []
    },
    "kernelspec": {
      "name": "python3",
      "display_name": "Python 3"
    },
    "language_info": {
      "name": "python"
    },
    "accelerator": "GPU"
  },
  "cells": [
    {
      "cell_type": "code",
      "metadata": {
        "id": "ub_umNLBe284",
        "colab": {
          "base_uri": "https://localhost:8080/"
        },
        "outputId": "b7552d19-bc17-4eb9-8e6e-7ef3fe79c757"
      },
      "source": [
        "!pip install -U scikit-learn\n"
      ],
      "execution_count": 2,
      "outputs": [
        {
          "output_type": "stream",
          "name": "stdout",
          "text": [
            "Requirement already satisfied: scikit-learn in /usr/local/lib/python3.7/dist-packages (1.0)\n",
            "Requirement already satisfied: numpy>=1.14.6 in /usr/local/lib/python3.7/dist-packages (from scikit-learn) (1.19.5)\n",
            "Requirement already satisfied: threadpoolctl>=2.0.0 in /usr/local/lib/python3.7/dist-packages (from scikit-learn) (3.0.0)\n",
            "Requirement already satisfied: joblib>=0.11 in /usr/local/lib/python3.7/dist-packages (from scikit-learn) (1.0.1)\n",
            "Requirement already satisfied: scipy>=1.1.0 in /usr/local/lib/python3.7/dist-packages (from scikit-learn) (1.4.1)\n"
          ]
        }
      ]
    },
    {
      "cell_type": "markdown",
      "metadata": {
        "id": "-wI0aHxp_nWS"
      },
      "source": [
        "### Import Necessary Packages"
      ]
    },
    {
      "cell_type": "code",
      "metadata": {
        "id": "cvPIfnFaeLTw"
      },
      "source": [
        "import numpy as np # linear algebra\n",
        "import pandas as pd # data processing, CSV file I/O (e.g. pd.read_csv)\n",
        "import seaborn as sns # visualization\n",
        "from matplotlib import pyplot as plt # visualization\n",
        "\n",
        "%matplotlib inline\n",
        "import warnings\n",
        "warnings.filterwarnings(\"ignore\")"
      ],
      "execution_count": 3,
      "outputs": []
    },
    {
      "cell_type": "code",
      "metadata": {
        "colab": {
          "base_uri": "https://localhost:8080/"
        },
        "id": "pBCQYS4teaZX",
        "outputId": "8d135267-2416-4c95-fbd1-d6c8b0a051db"
      },
      "source": [
        "from google.colab import drive\n",
        "drive.mount('/content/gdrive')"
      ],
      "execution_count": 4,
      "outputs": [
        {
          "output_type": "stream",
          "name": "stdout",
          "text": [
            "Drive already mounted at /content/gdrive; to attempt to forcibly remount, call drive.mount(\"/content/gdrive\", force_remount=True).\n"
          ]
        }
      ]
    },
    {
      "cell_type": "markdown",
      "metadata": {
        "id": "qc8p4cCOAI7V"
      },
      "source": [
        "### Import train and test dataset"
      ]
    },
    {
      "cell_type": "code",
      "metadata": {
        "id": "XDKOFDFeeq2V"
      },
      "source": [
        "train=pd.read_csv(\"/content/gdrive/MyDrive/MachineHack-work_hour_prediction_challenge/train.csv\")\n",
        "test=pd.read_csv(\"/content/gdrive/MyDrive/MachineHack-work_hour_prediction_challenge/test.csv\")"
      ],
      "execution_count": 5,
      "outputs": []
    },
    {
      "cell_type": "markdown",
      "metadata": {
        "id": "7vPHzTdjAN_y"
      },
      "source": [
        "### For easy pre-processing let's combine the train and test dataset."
      ]
    },
    {
      "cell_type": "code",
      "metadata": {
        "id": "-mv8McTU_AvB"
      },
      "source": [
        "full_data=pd.concat([train,test],axis=0)"
      ],
      "execution_count": 6,
      "outputs": []
    },
    {
      "cell_type": "markdown",
      "metadata": {
        "id": "IybrOvT4AYNH"
      },
      "source": [
        "#### The income column contains **>** and **<** symbols.If used directly in encoding it will raise a problem.So let's convert it as l50k and g50k."
      ]
    },
    {
      "cell_type": "code",
      "metadata": {
        "id": "6gR9vwGMDqm-"
      },
      "source": [
        "mapv={' <=50K':'l50k',' >50K':'g50k'}\n",
        "full_data['income']=full_data['income'].map(mapv)"
      ],
      "execution_count": 7,
      "outputs": []
    },
    {
      "cell_type": "markdown",
      "metadata": {
        "id": "PQm10-N2DBcU"
      },
      "source": [
        "### Import sklearn pre-processing module."
      ]
    },
    {
      "cell_type": "code",
      "metadata": {
        "id": "vOT5zuUOgc7k"
      },
      "source": [
        "from sklearn.preprocessing import LabelEncoder,StandardScaler"
      ],
      "execution_count": 8,
      "outputs": []
    },
    {
      "cell_type": "code",
      "metadata": {
        "id": "fiNn5rLen2RO"
      },
      "source": [
        "#Initialize scaler and label enoder.\n",
        "scale=StandardScaler()\n",
        "\n",
        "lbl=LabelEncoder()\n"
      ],
      "execution_count": 9,
      "outputs": []
    },
    {
      "cell_type": "markdown",
      "metadata": {
        "id": "Rxs9mxzZDcCf"
      },
      "source": [
        "#### Scale the numerical columns."
      ]
    },
    {
      "cell_type": "code",
      "metadata": {
        "id": "9UtSdZ4EFABu"
      },
      "source": [
        "for i in ['age','capital-gain','capital-loss','fnlwgt']:\n",
        "  full_data[i]=scale.fit_transform(full_data[[i]])"
      ],
      "execution_count": 10,
      "outputs": []
    },
    {
      "cell_type": "markdown",
      "metadata": {
        "id": "DUWdnyhbDi2i"
      },
      "source": [
        "### Apply the Label encoding to categorical column."
      ]
    },
    {
      "cell_type": "code",
      "metadata": {
        "id": "wLaLBti3_804"
      },
      "source": [
        "for i in ['workclass','education','marital-status','occupation','relationship','race','native-country']:\n",
        "  full_data[i]=lbl.fit_transform(full_data[[i]])"
      ],
      "execution_count": 11,
      "outputs": []
    },
    {
      "cell_type": "markdown",
      "metadata": {
        "id": "yGuEm12uDwSb"
      },
      "source": [
        "### Create and store one-hot encoding for sex and income column. "
      ]
    },
    {
      "cell_type": "code",
      "metadata": {
        "id": "85xpi0LaANU-"
      },
      "source": [
        "oh=pd.get_dummies(full_data[['sex','income']])"
      ],
      "execution_count": 12,
      "outputs": []
    },
    {
      "cell_type": "markdown",
      "metadata": {
        "id": "CS2ae8pjDpys"
      },
      "source": [
        "### Join the one-hot encoded columns to actual dataframe."
      ]
    },
    {
      "cell_type": "code",
      "metadata": {
        "id": "MwVzZsWAAi6u"
      },
      "source": [
        "full_data=pd.concat([full_data,oh],axis=1)"
      ],
      "execution_count": 13,
      "outputs": []
    },
    {
      "cell_type": "markdown",
      "metadata": {
        "id": "VNt370MuD0HB"
      },
      "source": [
        "### Pre-processed data"
      ]
    },
    {
      "cell_type": "code",
      "metadata": {
        "colab": {
          "base_uri": "https://localhost:8080/",
          "height": 195
        },
        "id": "0va3pgpNArgi",
        "outputId": "cff832d2-917e-46a3-c72b-17af42935f7d"
      },
      "source": [
        "full_data.head(3)"
      ],
      "execution_count": 14,
      "outputs": [
        {
          "output_type": "execute_result",
          "data": {
            "text/html": [
              "<div>\n",
              "<style scoped>\n",
              "    .dataframe tbody tr th:only-of-type {\n",
              "        vertical-align: middle;\n",
              "    }\n",
              "\n",
              "    .dataframe tbody tr th {\n",
              "        vertical-align: top;\n",
              "    }\n",
              "\n",
              "    .dataframe thead th {\n",
              "        text-align: right;\n",
              "    }\n",
              "</style>\n",
              "<table border=\"1\" class=\"dataframe\">\n",
              "  <thead>\n",
              "    <tr style=\"text-align: right;\">\n",
              "      <th></th>\n",
              "      <th>age</th>\n",
              "      <th>workclass</th>\n",
              "      <th>fnlwgt</th>\n",
              "      <th>education</th>\n",
              "      <th>education-num</th>\n",
              "      <th>marital-status</th>\n",
              "      <th>occupation</th>\n",
              "      <th>relationship</th>\n",
              "      <th>race</th>\n",
              "      <th>sex</th>\n",
              "      <th>capital-gain</th>\n",
              "      <th>capital-loss</th>\n",
              "      <th>hours-per-week</th>\n",
              "      <th>native-country</th>\n",
              "      <th>income</th>\n",
              "      <th>sex_ Female</th>\n",
              "      <th>sex_ Male</th>\n",
              "      <th>income_g50k</th>\n",
              "      <th>income_l50k</th>\n",
              "    </tr>\n",
              "  </thead>\n",
              "  <tbody>\n",
              "    <tr>\n",
              "      <th>0</th>\n",
              "      <td>0.958184</td>\n",
              "      <td>3</td>\n",
              "      <td>-0.696569</td>\n",
              "      <td>11</td>\n",
              "      <td>9</td>\n",
              "      <td>4</td>\n",
              "      <td>7</td>\n",
              "      <td>4</td>\n",
              "      <td>4</td>\n",
              "      <td>Male</td>\n",
              "      <td>-0.239333</td>\n",
              "      <td>-0.133809</td>\n",
              "      <td>44.0</td>\n",
              "      <td>38</td>\n",
              "      <td>l50k</td>\n",
              "      <td>0</td>\n",
              "      <td>1</td>\n",
              "      <td>0</td>\n",
              "      <td>1</td>\n",
              "    </tr>\n",
              "    <tr>\n",
              "      <th>1</th>\n",
              "      <td>2.758350</td>\n",
              "      <td>5</td>\n",
              "      <td>-0.338149</td>\n",
              "      <td>9</td>\n",
              "      <td>12</td>\n",
              "      <td>2</td>\n",
              "      <td>11</td>\n",
              "      <td>0</td>\n",
              "      <td>4</td>\n",
              "      <td>Male</td>\n",
              "      <td>2.887524</td>\n",
              "      <td>-0.133809</td>\n",
              "      <td>44.0</td>\n",
              "      <td>38</td>\n",
              "      <td>g50k</td>\n",
              "      <td>0</td>\n",
              "      <td>1</td>\n",
              "      <td>1</td>\n",
              "      <td>0</td>\n",
              "    </tr>\n",
              "    <tr>\n",
              "      <th>2</th>\n",
              "      <td>0.058100</td>\n",
              "      <td>3</td>\n",
              "      <td>0.839355</td>\n",
              "      <td>9</td>\n",
              "      <td>13</td>\n",
              "      <td>2</td>\n",
              "      <td>13</td>\n",
              "      <td>0</td>\n",
              "      <td>0</td>\n",
              "      <td>Male</td>\n",
              "      <td>-0.230197</td>\n",
              "      <td>-0.133809</td>\n",
              "      <td>57.0</td>\n",
              "      <td>38</td>\n",
              "      <td>g50k</td>\n",
              "      <td>0</td>\n",
              "      <td>1</td>\n",
              "      <td>1</td>\n",
              "      <td>0</td>\n",
              "    </tr>\n",
              "  </tbody>\n",
              "</table>\n",
              "</div>"
            ],
            "text/plain": [
              "        age  workclass    fnlwgt  ...  sex_ Male  income_g50k  income_l50k\n",
              "0  0.958184          3 -0.696569  ...          1            0            1\n",
              "1  2.758350          5 -0.338149  ...          1            1            0\n",
              "2  0.058100          3  0.839355  ...          1            1            0\n",
              "\n",
              "[3 rows x 19 columns]"
            ]
          },
          "metadata": {},
          "execution_count": 14
        }
      ]
    },
    {
      "cell_type": "markdown",
      "metadata": {
        "id": "lXmJAiIAD9xH"
      },
      "source": [
        "### Create a group by age column numerical summary."
      ]
    },
    {
      "cell_type": "code",
      "metadata": {
        "id": "dTwT9XYuOftj"
      },
      "source": [
        "age_group=full_data.groupby(['relationship','race','sex','income'])['age'].agg({'min','mean','max'}).reset_index()"
      ],
      "execution_count": 14,
      "outputs": []
    },
    {
      "cell_type": "markdown",
      "metadata": {
        "id": "N4n83MZSERMS"
      },
      "source": [
        "### Create a group by fnlwgt column numerical summary."
      ]
    },
    {
      "cell_type": "code",
      "metadata": {
        "id": "qEPwSCROjQl3"
      },
      "source": [
        "fnlwgt_group=full_data.groupby(['relationship','race','sex','income'])['fnlwgt'].agg({'min','mean','max'}).reset_index()"
      ],
      "execution_count": 15,
      "outputs": []
    },
    {
      "cell_type": "code",
      "metadata": {
        "colab": {
          "base_uri": "https://localhost:8080/"
        },
        "id": "J3AQhjdWRlmb",
        "outputId": "7ac4d92c-6b58-44bf-d3f1-3d5f4a3e3d6d"
      },
      "source": [
        "age_group.info()"
      ],
      "execution_count": 39,
      "outputs": [
        {
          "output_type": "stream",
          "name": "stdout",
          "text": [
            "<class 'pandas.core.frame.DataFrame'>\n",
            "RangeIndex: 117 entries, 0 to 116\n",
            "Data columns (total 7 columns):\n",
            " #   Column        Non-Null Count  Dtype  \n",
            "---  ------        --------------  -----  \n",
            " 0   relationship  117 non-null    int64  \n",
            " 1   race          117 non-null    int64  \n",
            " 2   sex           117 non-null    object \n",
            " 3   income        117 non-null    object \n",
            " 4   min           117 non-null    float64\n",
            " 5   mean          117 non-null    float64\n",
            " 6   max           117 non-null    float64\n",
            "dtypes: float64(3), int64(2), object(2)\n",
            "memory usage: 6.5+ KB\n"
          ]
        }
      ]
    },
    {
      "cell_type": "code",
      "metadata": {
        "colab": {
          "base_uri": "https://localhost:8080/",
          "height": 417
        },
        "id": "_CJX6A2bJ4Jr",
        "outputId": "494684a7-6024-44c6-adbe-3f5a1d582628"
      },
      "source": [
        "fnlwgt_group"
      ],
      "execution_count": 17,
      "outputs": [
        {
          "output_type": "execute_result",
          "data": {
            "text/html": [
              "<div>\n",
              "<style scoped>\n",
              "    .dataframe tbody tr th:only-of-type {\n",
              "        vertical-align: middle;\n",
              "    }\n",
              "\n",
              "    .dataframe tbody tr th {\n",
              "        vertical-align: top;\n",
              "    }\n",
              "\n",
              "    .dataframe thead th {\n",
              "        text-align: right;\n",
              "    }\n",
              "</style>\n",
              "<table border=\"1\" class=\"dataframe\">\n",
              "  <thead>\n",
              "    <tr style=\"text-align: right;\">\n",
              "      <th></th>\n",
              "      <th>relationship</th>\n",
              "      <th>race</th>\n",
              "      <th>sex</th>\n",
              "      <th>income</th>\n",
              "      <th>min</th>\n",
              "      <th>max</th>\n",
              "      <th>mean</th>\n",
              "    </tr>\n",
              "  </thead>\n",
              "  <tbody>\n",
              "    <tr>\n",
              "      <th>0</th>\n",
              "      <td>0</td>\n",
              "      <td>0</td>\n",
              "      <td>Female</td>\n",
              "      <td>g50k</td>\n",
              "      <td>-1.470011</td>\n",
              "      <td>0.646657</td>\n",
              "      <td>-0.347786</td>\n",
              "    </tr>\n",
              "    <tr>\n",
              "      <th>1</th>\n",
              "      <td>0</td>\n",
              "      <td>0</td>\n",
              "      <td>Female</td>\n",
              "      <td>l50k</td>\n",
              "      <td>-1.455007</td>\n",
              "      <td>0.876952</td>\n",
              "      <td>-0.460736</td>\n",
              "    </tr>\n",
              "    <tr>\n",
              "      <th>2</th>\n",
              "      <td>0</td>\n",
              "      <td>0</td>\n",
              "      <td>Male</td>\n",
              "      <td>g50k</td>\n",
              "      <td>-1.553739</td>\n",
              "      <td>3.006538</td>\n",
              "      <td>-0.102155</td>\n",
              "    </tr>\n",
              "    <tr>\n",
              "      <th>3</th>\n",
              "      <td>0</td>\n",
              "      <td>0</td>\n",
              "      <td>Male</td>\n",
              "      <td>l50k</td>\n",
              "      <td>-1.542502</td>\n",
              "      <td>2.830058</td>\n",
              "      <td>-0.143322</td>\n",
              "    </tr>\n",
              "    <tr>\n",
              "      <th>4</th>\n",
              "      <td>0</td>\n",
              "      <td>1</td>\n",
              "      <td>Female</td>\n",
              "      <td>g50k</td>\n",
              "      <td>-1.216837</td>\n",
              "      <td>2.187880</td>\n",
              "      <td>-0.215788</td>\n",
              "    </tr>\n",
              "    <tr>\n",
              "      <th>...</th>\n",
              "      <td>...</td>\n",
              "      <td>...</td>\n",
              "      <td>...</td>\n",
              "      <td>...</td>\n",
              "      <td>...</td>\n",
              "      <td>...</td>\n",
              "      <td>...</td>\n",
              "    </tr>\n",
              "    <tr>\n",
              "      <th>112</th>\n",
              "      <td>5</td>\n",
              "      <td>3</td>\n",
              "      <td>Male</td>\n",
              "      <td>l50k</td>\n",
              "      <td>-1.204344</td>\n",
              "      <td>1.070011</td>\n",
              "      <td>-0.067166</td>\n",
              "    </tr>\n",
              "    <tr>\n",
              "      <th>113</th>\n",
              "      <td>5</td>\n",
              "      <td>4</td>\n",
              "      <td>Female</td>\n",
              "      <td>g50k</td>\n",
              "      <td>-1.629061</td>\n",
              "      <td>2.751204</td>\n",
              "      <td>-0.215130</td>\n",
              "    </tr>\n",
              "    <tr>\n",
              "      <th>114</th>\n",
              "      <td>5</td>\n",
              "      <td>4</td>\n",
              "      <td>Female</td>\n",
              "      <td>l50k</td>\n",
              "      <td>-1.633519</td>\n",
              "      <td>3.004112</td>\n",
              "      <td>-0.102491</td>\n",
              "    </tr>\n",
              "    <tr>\n",
              "      <th>115</th>\n",
              "      <td>5</td>\n",
              "      <td>4</td>\n",
              "      <td>Male</td>\n",
              "      <td>g50k</td>\n",
              "      <td>-1.461179</td>\n",
              "      <td>2.751438</td>\n",
              "      <td>0.040099</td>\n",
              "    </tr>\n",
              "    <tr>\n",
              "      <th>116</th>\n",
              "      <td>5</td>\n",
              "      <td>4</td>\n",
              "      <td>Male</td>\n",
              "      <td>l50k</td>\n",
              "      <td>-1.511854</td>\n",
              "      <td>2.261584</td>\n",
              "      <td>-0.045775</td>\n",
              "    </tr>\n",
              "  </tbody>\n",
              "</table>\n",
              "<p>117 rows × 7 columns</p>\n",
              "</div>"
            ],
            "text/plain": [
              "     relationship  race      sex income       min       max      mean\n",
              "0               0     0   Female   g50k -1.470011  0.646657 -0.347786\n",
              "1               0     0   Female   l50k -1.455007  0.876952 -0.460736\n",
              "2               0     0     Male   g50k -1.553739  3.006538 -0.102155\n",
              "3               0     0     Male   l50k -1.542502  2.830058 -0.143322\n",
              "4               0     1   Female   g50k -1.216837  2.187880 -0.215788\n",
              "..            ...   ...      ...    ...       ...       ...       ...\n",
              "112             5     3     Male   l50k -1.204344  1.070011 -0.067166\n",
              "113             5     4   Female   g50k -1.629061  2.751204 -0.215130\n",
              "114             5     4   Female   l50k -1.633519  3.004112 -0.102491\n",
              "115             5     4     Male   g50k -1.461179  2.751438  0.040099\n",
              "116             5     4     Male   l50k -1.511854  2.261584 -0.045775\n",
              "\n",
              "[117 rows x 7 columns]"
            ]
          },
          "metadata": {},
          "execution_count": 17
        }
      ]
    },
    {
      "cell_type": "markdown",
      "metadata": {
        "id": "apzEvnzsEZw8"
      },
      "source": [
        "### Change the column name"
      ]
    },
    {
      "cell_type": "code",
      "metadata": {
        "id": "asQ7sdxqRpLv"
      },
      "source": [
        "age_group=age_group.rename(columns={col:'age'+'_'+col for col in age_group.iloc[:,4:7]})"
      ],
      "execution_count": 16,
      "outputs": []
    },
    {
      "cell_type": "markdown",
      "metadata": {
        "id": "X1YJOHd2EerY"
      },
      "source": [
        "### Join the age summary data to the actual dataframe."
      ]
    },
    {
      "cell_type": "code",
      "metadata": {
        "id": "nozXDkq4TED1"
      },
      "source": [
        "full_data=pd.merge(full_data,age_group,on=['relationship','race','sex','income'],how='left')"
      ],
      "execution_count": 17,
      "outputs": []
    },
    {
      "cell_type": "markdown",
      "metadata": {
        "id": "nFXxRguhEwOi"
      },
      "source": [
        "### Change the column name"
      ]
    },
    {
      "cell_type": "code",
      "metadata": {
        "id": "MPbEGmpITMJv"
      },
      "source": [
        "fnlwgt_group=fnlwgt_group.rename(columns={col:'fnlwgt'+'_'+col for col in fnlwgt_group.iloc[:,4:7]})"
      ],
      "execution_count": 18,
      "outputs": []
    },
    {
      "cell_type": "markdown",
      "metadata": {
        "id": "CdGqCAQmE3km"
      },
      "source": [
        "### Join the fnlwgt summary data to the actual dataframe."
      ]
    },
    {
      "cell_type": "code",
      "metadata": {
        "id": "LApwSKulkx5Z"
      },
      "source": [
        "full_data=pd.merge(full_data,fnlwgt_group,on=['relationship','race','sex','income'],how='left')"
      ],
      "execution_count": 19,
      "outputs": []
    },
    {
      "cell_type": "markdown",
      "metadata": {
        "id": "JD62GQAoE8Oy"
      },
      "source": [
        "### The final data look like this,"
      ]
    },
    {
      "cell_type": "code",
      "metadata": {
        "colab": {
          "base_uri": "https://localhost:8080/",
          "height": 195
        },
        "id": "uei03vPIFBxe",
        "outputId": "e0c11597-4876-40a5-c446-31dad342d743"
      },
      "source": [
        "full_data.head(3)"
      ],
      "execution_count": 22,
      "outputs": [
        {
          "output_type": "execute_result",
          "data": {
            "text/html": [
              "<div>\n",
              "<style scoped>\n",
              "    .dataframe tbody tr th:only-of-type {\n",
              "        vertical-align: middle;\n",
              "    }\n",
              "\n",
              "    .dataframe tbody tr th {\n",
              "        vertical-align: top;\n",
              "    }\n",
              "\n",
              "    .dataframe thead th {\n",
              "        text-align: right;\n",
              "    }\n",
              "</style>\n",
              "<table border=\"1\" class=\"dataframe\">\n",
              "  <thead>\n",
              "    <tr style=\"text-align: right;\">\n",
              "      <th></th>\n",
              "      <th>age</th>\n",
              "      <th>workclass</th>\n",
              "      <th>fnlwgt</th>\n",
              "      <th>education</th>\n",
              "      <th>education-num</th>\n",
              "      <th>marital-status</th>\n",
              "      <th>occupation</th>\n",
              "      <th>relationship</th>\n",
              "      <th>race</th>\n",
              "      <th>sex</th>\n",
              "      <th>capital-gain</th>\n",
              "      <th>capital-loss</th>\n",
              "      <th>hours-per-week</th>\n",
              "      <th>native-country</th>\n",
              "      <th>income</th>\n",
              "      <th>sex_ Female</th>\n",
              "      <th>sex_ Male</th>\n",
              "      <th>income_g50k</th>\n",
              "      <th>income_l50k</th>\n",
              "      <th>age_min</th>\n",
              "      <th>age_max</th>\n",
              "      <th>age_mean</th>\n",
              "      <th>fnlwgt_min</th>\n",
              "      <th>fnlwgt_max</th>\n",
              "      <th>fnlwgt_mean</th>\n",
              "    </tr>\n",
              "  </thead>\n",
              "  <tbody>\n",
              "    <tr>\n",
              "      <th>0</th>\n",
              "      <td>0.958184</td>\n",
              "      <td>3</td>\n",
              "      <td>-0.696569</td>\n",
              "      <td>11</td>\n",
              "      <td>9</td>\n",
              "      <td>4</td>\n",
              "      <td>7</td>\n",
              "      <td>4</td>\n",
              "      <td>4</td>\n",
              "      <td>Male</td>\n",
              "      <td>-0.239333</td>\n",
              "      <td>-0.133809</td>\n",
              "      <td>44.0</td>\n",
              "      <td>38</td>\n",
              "      <td>l50k</td>\n",
              "      <td>0</td>\n",
              "      <td>1</td>\n",
              "      <td>0</td>\n",
              "      <td>1</td>\n",
              "      <td>-1.742066</td>\n",
              "      <td>3.883454</td>\n",
              "      <td>0.161565</td>\n",
              "      <td>-1.595838</td>\n",
              "      <td>4.501811</td>\n",
              "      <td>0.140415</td>\n",
              "    </tr>\n",
              "    <tr>\n",
              "      <th>1</th>\n",
              "      <td>2.758350</td>\n",
              "      <td>5</td>\n",
              "      <td>-0.338149</td>\n",
              "      <td>9</td>\n",
              "      <td>12</td>\n",
              "      <td>2</td>\n",
              "      <td>11</td>\n",
              "      <td>0</td>\n",
              "      <td>4</td>\n",
              "      <td>Male</td>\n",
              "      <td>2.887524</td>\n",
              "      <td>-0.133809</td>\n",
              "      <td>44.0</td>\n",
              "      <td>38</td>\n",
              "      <td>g50k</td>\n",
              "      <td>0</td>\n",
              "      <td>1</td>\n",
              "      <td>1</td>\n",
              "      <td>0</td>\n",
              "      <td>-1.517045</td>\n",
              "      <td>3.958461</td>\n",
              "      <td>0.461354</td>\n",
              "      <td>-1.651993</td>\n",
              "      <td>5.108968</td>\n",
              "      <td>-0.086402</td>\n",
              "    </tr>\n",
              "    <tr>\n",
              "      <th>2</th>\n",
              "      <td>0.058100</td>\n",
              "      <td>3</td>\n",
              "      <td>0.839355</td>\n",
              "      <td>9</td>\n",
              "      <td>13</td>\n",
              "      <td>2</td>\n",
              "      <td>13</td>\n",
              "      <td>0</td>\n",
              "      <td>0</td>\n",
              "      <td>Male</td>\n",
              "      <td>-0.230197</td>\n",
              "      <td>-0.133809</td>\n",
              "      <td>57.0</td>\n",
              "      <td>38</td>\n",
              "      <td>g50k</td>\n",
              "      <td>0</td>\n",
              "      <td>1</td>\n",
              "      <td>1</td>\n",
              "      <td>0</td>\n",
              "      <td>-1.442038</td>\n",
              "      <td>3.058378</td>\n",
              "      <td>0.389279</td>\n",
              "      <td>-1.553739</td>\n",
              "      <td>3.006538</td>\n",
              "      <td>-0.102155</td>\n",
              "    </tr>\n",
              "  </tbody>\n",
              "</table>\n",
              "</div>"
            ],
            "text/plain": [
              "        age  workclass    fnlwgt  ...  fnlwgt_min  fnlwgt_max  fnlwgt_mean\n",
              "0  0.958184          3 -0.696569  ...   -1.595838    4.501811     0.140415\n",
              "1  2.758350          5 -0.338149  ...   -1.651993    5.108968    -0.086402\n",
              "2  0.058100          3  0.839355  ...   -1.553739    3.006538    -0.102155\n",
              "\n",
              "[3 rows x 25 columns]"
            ]
          },
          "metadata": {},
          "execution_count": 22
        }
      ]
    },
    {
      "cell_type": "markdown",
      "metadata": {
        "id": "7j0F_dbDFHZ1"
      },
      "source": [
        "### Create an negative value indicator column for capital-gain and capital-loss columns."
      ]
    },
    {
      "cell_type": "code",
      "metadata": {
        "id": "6VYkwfgtNtH6"
      },
      "source": [
        "full_data['cap-gain-neg']=(full_data['capital-gain']<0).astype('int')\n",
        "full_data['cap-loss-neg']=(full_data['capital-loss']<0).astype('int')"
      ],
      "execution_count": 20,
      "outputs": []
    },
    {
      "cell_type": "markdown",
      "metadata": {
        "id": "XJYMNy39FekD"
      },
      "source": [
        "### Split the train and test data from combined dataframe."
      ]
    },
    {
      "cell_type": "code",
      "metadata": {
        "id": "tyLVjKjfCrgD"
      },
      "source": [
        "train=full_data[full_data['hours-per-week'].notnull()]\n",
        "test=full_data[full_data['hours-per-week'].isnull()]"
      ],
      "execution_count": 21,
      "outputs": []
    },
    {
      "cell_type": "markdown",
      "metadata": {
        "id": "ACW60oaSFumF"
      },
      "source": [
        "### Create X and y Column."
      ]
    },
    {
      "cell_type": "code",
      "metadata": {
        "id": "uifAsABpFtD4"
      },
      "source": [
        "X=train.iloc[:,np.r_[0:4,5:9,10,11,13,15:27]]\n",
        "y=train['hours-per-week']"
      ],
      "execution_count": 22,
      "outputs": []
    },
    {
      "cell_type": "markdown",
      "metadata": {
        "id": "FahXnIZ3GaBq"
      },
      "source": [
        "### Import xgboost library\n"
      ]
    },
    {
      "cell_type": "code",
      "metadata": {
        "id": "ohvYUt9_tVfs"
      },
      "source": [
        "import xgboost as xgb"
      ],
      "execution_count": 23,
      "outputs": []
    },
    {
      "cell_type": "markdown",
      "metadata": {
        "id": "mstp8hKbGh5s"
      },
      "source": [
        "#### Import optuna framework for hyperparameter optimization."
      ]
    },
    {
      "cell_type": "code",
      "metadata": {
        "colab": {
          "base_uri": "https://localhost:8080/"
        },
        "id": "nCaFmoJgGvox",
        "outputId": "b7d588a8-c0d7-4c0d-f7ba-a8a6c38f0dfe"
      },
      "source": [
        "!pip install optuna"
      ],
      "execution_count": 24,
      "outputs": [
        {
          "output_type": "stream",
          "name": "stdout",
          "text": [
            "Requirement already satisfied: optuna in /usr/local/lib/python3.7/dist-packages (2.10.0)\n",
            "Requirement already satisfied: scipy!=1.4.0 in /usr/local/lib/python3.7/dist-packages (from optuna) (1.4.1)\n",
            "Requirement already satisfied: colorlog in /usr/local/lib/python3.7/dist-packages (from optuna) (6.4.1)\n",
            "Requirement already satisfied: PyYAML in /usr/local/lib/python3.7/dist-packages (from optuna) (3.13)\n",
            "Requirement already satisfied: numpy in /usr/local/lib/python3.7/dist-packages (from optuna) (1.19.5)\n",
            "Requirement already satisfied: tqdm in /usr/local/lib/python3.7/dist-packages (from optuna) (4.62.3)\n",
            "Requirement already satisfied: sqlalchemy>=1.1.0 in /usr/local/lib/python3.7/dist-packages (from optuna) (1.4.25)\n",
            "Requirement already satisfied: alembic in /usr/local/lib/python3.7/dist-packages (from optuna) (1.7.3)\n",
            "Requirement already satisfied: cliff in /usr/local/lib/python3.7/dist-packages (from optuna) (3.9.0)\n",
            "Requirement already satisfied: packaging>=20.0 in /usr/local/lib/python3.7/dist-packages (from optuna) (21.0)\n",
            "Requirement already satisfied: cmaes>=0.8.2 in /usr/local/lib/python3.7/dist-packages (from optuna) (0.8.2)\n",
            "Requirement already satisfied: pyparsing>=2.0.2 in /usr/local/lib/python3.7/dist-packages (from packaging>=20.0->optuna) (2.4.7)\n",
            "Requirement already satisfied: importlib-metadata in /usr/local/lib/python3.7/dist-packages (from sqlalchemy>=1.1.0->optuna) (4.8.1)\n",
            "Requirement already satisfied: greenlet!=0.4.17 in /usr/local/lib/python3.7/dist-packages (from sqlalchemy>=1.1.0->optuna) (1.1.1)\n",
            "Requirement already satisfied: Mako in /usr/local/lib/python3.7/dist-packages (from alembic->optuna) (1.1.5)\n",
            "Requirement already satisfied: importlib-resources in /usr/local/lib/python3.7/dist-packages (from alembic->optuna) (5.2.2)\n",
            "Requirement already satisfied: PrettyTable>=0.7.2 in /usr/local/lib/python3.7/dist-packages (from cliff->optuna) (2.2.0)\n",
            "Requirement already satisfied: cmd2>=1.0.0 in /usr/local/lib/python3.7/dist-packages (from cliff->optuna) (2.2.0)\n",
            "Requirement already satisfied: pbr!=2.1.0,>=2.0.0 in /usr/local/lib/python3.7/dist-packages (from cliff->optuna) (5.6.0)\n",
            "Requirement already satisfied: autopage>=0.4.0 in /usr/local/lib/python3.7/dist-packages (from cliff->optuna) (0.4.0)\n",
            "Requirement already satisfied: stevedore>=2.0.1 in /usr/local/lib/python3.7/dist-packages (from cliff->optuna) (3.4.0)\n",
            "Requirement already satisfied: attrs>=16.3.0 in /usr/local/lib/python3.7/dist-packages (from cmd2>=1.0.0->cliff->optuna) (21.2.0)\n",
            "Requirement already satisfied: colorama>=0.3.7 in /usr/local/lib/python3.7/dist-packages (from cmd2>=1.0.0->cliff->optuna) (0.4.4)\n",
            "Requirement already satisfied: wcwidth>=0.1.7 in /usr/local/lib/python3.7/dist-packages (from cmd2>=1.0.0->cliff->optuna) (0.2.5)\n",
            "Requirement already satisfied: typing-extensions in /usr/local/lib/python3.7/dist-packages (from cmd2>=1.0.0->cliff->optuna) (3.7.4.3)\n",
            "Requirement already satisfied: pyperclip>=1.6 in /usr/local/lib/python3.7/dist-packages (from cmd2>=1.0.0->cliff->optuna) (1.8.2)\n",
            "Requirement already satisfied: zipp>=0.5 in /usr/local/lib/python3.7/dist-packages (from importlib-metadata->sqlalchemy>=1.1.0->optuna) (3.5.0)\n",
            "Requirement already satisfied: MarkupSafe>=0.9.2 in /usr/local/lib/python3.7/dist-packages (from Mako->alembic->optuna) (2.0.1)\n"
          ]
        }
      ]
    },
    {
      "cell_type": "code",
      "metadata": {
        "id": "ckWwZ5K0G1rM"
      },
      "source": [
        "import optuna"
      ],
      "execution_count": 25,
      "outputs": []
    },
    {
      "cell_type": "markdown",
      "metadata": {
        "id": "jma8s8TyHLAB"
      },
      "source": [
        "### Import train_test_split"
      ]
    },
    {
      "cell_type": "code",
      "metadata": {
        "id": "ksS0_YHUHDvo"
      },
      "source": [
        "from sklearn.metrics import mean_squared_error\n",
        "from sklearn.model_selection import train_test_split"
      ],
      "execution_count": 26,
      "outputs": []
    },
    {
      "cell_type": "markdown",
      "metadata": {
        "id": "rzJocgdrHSGQ"
      },
      "source": [
        "### Create XGBoost regressor model with optuna framework hyperparameter optimization."
      ]
    },
    {
      "cell_type": "code",
      "metadata": {
        "colab": {
          "base_uri": "https://localhost:8080/"
        },
        "id": "mTahycGLHdMw",
        "outputId": "b68a991d-2302-4354-c43c-3413620c5b31"
      },
      "source": [
        "def objective(trial):\n",
        "  train_x, test_x, train_y, test_y = train_test_split(X, y, test_size=0.15,random_state=42)\n",
        "  param = {\n",
        "        #'tree_method':'gpu_hist',  # this parameter means using the GPU when training our model to speedup the training process\n",
        "        #'lambda': trial.suggest_float(\"lambda\", 1e-8, 1.0, log=True),\n",
        "        #'alpha': trial.suggest_float(\"alpha\", 1e-8, 1.0, log=True),\n",
        "        'reg_lambda':trial.suggest_categorical('reg_lambda',[0.1, 1.0, 5.0, 10.0, 50.0, 100.0]),\n",
        "        'eval_metric':'rmse',\n",
        "        'colsample_bytree': trial.suggest_categorical('colsample_bytree', [0.5,0.6,0.7,0.8,0.9, 1.0]),\n",
        "        'subsample': trial.suggest_categorical('subsample', [0.4,0.5,0.6,0.7,0.8,1.0]),\n",
        "        'learning_rate': trial.suggest_float('learning_rate', 0.001,1.0),\n",
        "        'n_estimators': trial.suggest_categorical('n_estimators',[500]),\n",
        "        'max_depth': trial.suggest_int('max_depth', 2,12),\n",
        "        'random_state': trial.suggest_categorical('random_state', [24, 48,2020]),\n",
        "        'min_child_weight': trial.suggest_int('min_child_weight', 1, 300)\n",
        "        }\n",
        "  model=xgb.XGBRegressor(**param)\n",
        "  model.fit(train_x,train_y,eval_set=[(test_x,test_y)],early_stopping_rounds=100,verbose=False)\n",
        "  preds = model.predict(test_x)\n",
        "  rmse = mean_squared_error(test_y, preds,squared=False)\n",
        "  return rmse\n",
        "\n",
        "\n",
        "if __name__ == \"__main__\":\n",
        "    study = optuna.create_study(direction='minimize')\n",
        "    study.optimize(objective, n_trials=50)\n",
        "    print('Number of finished trials:', len(study.trials))\n",
        "    print('Best trial:', study.best_trial.params)  "
      ],
      "execution_count": 112,
      "outputs": [
        {
          "output_type": "stream",
          "name": "stderr",
          "text": [
            "\u001b[32m[I 2021-10-04 15:37:20,576]\u001b[0m A new study created in memory with name: no-name-cef69165-0aaf-425c-814b-2f874fd403c3\u001b[0m\n"
          ]
        },
        {
          "output_type": "stream",
          "name": "stdout",
          "text": [
            "[15:37:20] WARNING: /workspace/src/objective/regression_obj.cu:152: reg:linear is now deprecated in favor of reg:squarederror.\n"
          ]
        },
        {
          "output_type": "stream",
          "name": "stderr",
          "text": [
            "\u001b[32m[I 2021-10-04 15:37:23,804]\u001b[0m Trial 0 finished with value: 9.568781637823227 and parameters: {'reg_lambda': 10.0, 'colsample_bytree': 0.5, 'subsample': 0.5, 'learning_rate': 0.10468598509995006, 'n_estimators': 500, 'max_depth': 5, 'random_state': 48, 'min_child_weight': 150}. Best is trial 0 with value: 9.568781637823227.\u001b[0m\n"
          ]
        },
        {
          "output_type": "stream",
          "name": "stdout",
          "text": [
            "[15:37:23] WARNING: /workspace/src/objective/regression_obj.cu:152: reg:linear is now deprecated in favor of reg:squarederror.\n"
          ]
        },
        {
          "output_type": "stream",
          "name": "stderr",
          "text": [
            "\u001b[32m[I 2021-10-04 15:37:26,008]\u001b[0m Trial 1 finished with value: 9.61638766800896 and parameters: {'reg_lambda': 100.0, 'colsample_bytree': 0.7, 'subsample': 0.8, 'learning_rate': 0.5521781910953454, 'n_estimators': 500, 'max_depth': 2, 'random_state': 48, 'min_child_weight': 169}. Best is trial 0 with value: 9.568781637823227.\u001b[0m\n"
          ]
        },
        {
          "output_type": "stream",
          "name": "stdout",
          "text": [
            "[15:37:26] WARNING: /workspace/src/objective/regression_obj.cu:152: reg:linear is now deprecated in favor of reg:squarederror.\n"
          ]
        },
        {
          "output_type": "stream",
          "name": "stderr",
          "text": [
            "\u001b[32m[I 2021-10-04 15:37:28,454]\u001b[0m Trial 2 finished with value: 9.639972369971087 and parameters: {'reg_lambda': 50.0, 'colsample_bytree': 0.7, 'subsample': 0.7, 'learning_rate': 0.26677563404135307, 'n_estimators': 500, 'max_depth': 5, 'random_state': 48, 'min_child_weight': 35}. Best is trial 0 with value: 9.568781637823227.\u001b[0m\n"
          ]
        },
        {
          "output_type": "stream",
          "name": "stdout",
          "text": [
            "[15:37:28] WARNING: /workspace/src/objective/regression_obj.cu:152: reg:linear is now deprecated in favor of reg:squarederror.\n"
          ]
        },
        {
          "output_type": "stream",
          "name": "stderr",
          "text": [
            "\u001b[32m[I 2021-10-04 15:37:38,140]\u001b[0m Trial 3 finished with value: 9.571686765652023 and parameters: {'reg_lambda': 0.1, 'colsample_bytree': 0.6, 'subsample': 1.0, 'learning_rate': 0.016964294086155896, 'n_estimators': 500, 'max_depth': 9, 'random_state': 48, 'min_child_weight': 107}. Best is trial 0 with value: 9.568781637823227.\u001b[0m\n"
          ]
        },
        {
          "output_type": "stream",
          "name": "stdout",
          "text": [
            "[15:37:38] WARNING: /workspace/src/objective/regression_obj.cu:152: reg:linear is now deprecated in favor of reg:squarederror.\n"
          ]
        },
        {
          "output_type": "stream",
          "name": "stderr",
          "text": [
            "\u001b[32m[I 2021-10-04 15:37:39,532]\u001b[0m Trial 4 finished with value: 9.600253517077046 and parameters: {'reg_lambda': 100.0, 'colsample_bytree': 0.5, 'subsample': 0.7, 'learning_rate': 0.35101312667035056, 'n_estimators': 500, 'max_depth': 3, 'random_state': 2020, 'min_child_weight': 156}. Best is trial 0 with value: 9.568781637823227.\u001b[0m\n"
          ]
        },
        {
          "output_type": "stream",
          "name": "stdout",
          "text": [
            "[15:37:39] WARNING: /workspace/src/objective/regression_obj.cu:152: reg:linear is now deprecated in favor of reg:squarederror.\n"
          ]
        },
        {
          "output_type": "stream",
          "name": "stderr",
          "text": [
            "\u001b[32m[I 2021-10-04 15:37:43,462]\u001b[0m Trial 5 finished with value: 9.656755051752546 and parameters: {'reg_lambda': 10.0, 'colsample_bytree': 0.9, 'subsample': 0.5, 'learning_rate': 0.5600553959069497, 'n_estimators': 500, 'max_depth': 12, 'random_state': 24, 'min_child_weight': 199}. Best is trial 0 with value: 9.568781637823227.\u001b[0m\n"
          ]
        },
        {
          "output_type": "stream",
          "name": "stdout",
          "text": [
            "[15:37:43] WARNING: /workspace/src/objective/regression_obj.cu:152: reg:linear is now deprecated in favor of reg:squarederror.\n"
          ]
        },
        {
          "output_type": "stream",
          "name": "stderr",
          "text": [
            "\u001b[32m[I 2021-10-04 15:37:48,404]\u001b[0m Trial 6 finished with value: 9.577755218447942 and parameters: {'reg_lambda': 100.0, 'colsample_bytree': 0.8, 'subsample': 1.0, 'learning_rate': 0.11778742760482278, 'n_estimators': 500, 'max_depth': 11, 'random_state': 24, 'min_child_weight': 197}. Best is trial 0 with value: 9.568781637823227.\u001b[0m\n"
          ]
        },
        {
          "output_type": "stream",
          "name": "stdout",
          "text": [
            "[15:37:48] WARNING: /workspace/src/objective/regression_obj.cu:152: reg:linear is now deprecated in favor of reg:squarederror.\n"
          ]
        },
        {
          "output_type": "stream",
          "name": "stderr",
          "text": [
            "\u001b[32m[I 2021-10-04 15:37:52,883]\u001b[0m Trial 7 finished with value: 9.836606202560223 and parameters: {'reg_lambda': 1.0, 'colsample_bytree': 0.8, 'subsample': 0.6, 'learning_rate': 0.7447483170416535, 'n_estimators': 500, 'max_depth': 12, 'random_state': 48, 'min_child_weight': 81}. Best is trial 0 with value: 9.568781637823227.\u001b[0m\n"
          ]
        },
        {
          "output_type": "stream",
          "name": "stdout",
          "text": [
            "[15:37:52] WARNING: /workspace/src/objective/regression_obj.cu:152: reg:linear is now deprecated in favor of reg:squarederror.\n"
          ]
        },
        {
          "output_type": "stream",
          "name": "stderr",
          "text": [
            "\u001b[32m[I 2021-10-04 15:37:57,813]\u001b[0m Trial 8 finished with value: 9.636997910508535 and parameters: {'reg_lambda': 100.0, 'colsample_bytree': 1.0, 'subsample': 0.8, 'learning_rate': 0.5062185148570854, 'n_estimators': 500, 'max_depth': 11, 'random_state': 2020, 'min_child_weight': 292}. Best is trial 0 with value: 9.568781637823227.\u001b[0m\n"
          ]
        },
        {
          "output_type": "stream",
          "name": "stdout",
          "text": [
            "[15:37:57] WARNING: /workspace/src/objective/regression_obj.cu:152: reg:linear is now deprecated in favor of reg:squarederror.\n"
          ]
        },
        {
          "output_type": "stream",
          "name": "stderr",
          "text": [
            "\u001b[32m[I 2021-10-04 15:38:00,577]\u001b[0m Trial 9 finished with value: 9.638093031123107 and parameters: {'reg_lambda': 1.0, 'colsample_bytree': 0.5, 'subsample': 0.5, 'learning_rate': 0.25443092569660947, 'n_estimators': 500, 'max_depth': 12, 'random_state': 48, 'min_child_weight': 252}. Best is trial 0 with value: 9.568781637823227.\u001b[0m\n"
          ]
        },
        {
          "output_type": "stream",
          "name": "stdout",
          "text": [
            "[15:38:00] WARNING: /workspace/src/objective/regression_obj.cu:152: reg:linear is now deprecated in favor of reg:squarederror.\n"
          ]
        },
        {
          "output_type": "stream",
          "name": "stderr",
          "text": [
            "\u001b[32m[I 2021-10-04 15:38:02,424]\u001b[0m Trial 10 finished with value: 10.051717817262857 and parameters: {'reg_lambda': 10.0, 'colsample_bytree': 0.5, 'subsample': 0.4, 'learning_rate': 0.9112709116935019, 'n_estimators': 500, 'max_depth': 6, 'random_state': 24, 'min_child_weight': 16}. Best is trial 0 with value: 9.568781637823227.\u001b[0m\n"
          ]
        },
        {
          "output_type": "stream",
          "name": "stdout",
          "text": [
            "[15:38:02] WARNING: /workspace/src/objective/regression_obj.cu:152: reg:linear is now deprecated in favor of reg:squarederror.\n"
          ]
        },
        {
          "output_type": "stream",
          "name": "stderr",
          "text": [
            "\u001b[32m[I 2021-10-04 15:38:07,675]\u001b[0m Trial 11 finished with value: 9.588660697142362 and parameters: {'reg_lambda': 0.1, 'colsample_bytree': 0.6, 'subsample': 1.0, 'learning_rate': 0.03637259470182558, 'n_estimators': 500, 'max_depth': 8, 'random_state': 48, 'min_child_weight': 97}. Best is trial 0 with value: 9.568781637823227.\u001b[0m\n"
          ]
        },
        {
          "output_type": "stream",
          "name": "stdout",
          "text": [
            "[15:38:07] WARNING: /workspace/src/objective/regression_obj.cu:152: reg:linear is now deprecated in favor of reg:squarederror.\n"
          ]
        },
        {
          "output_type": "stream",
          "name": "stderr",
          "text": [
            "\u001b[32m[I 2021-10-04 15:38:14,862]\u001b[0m Trial 12 finished with value: 9.55752234082176 and parameters: {'reg_lambda': 5.0, 'colsample_bytree': 0.6, 'subsample': 1.0, 'learning_rate': 0.020245263713278283, 'n_estimators': 500, 'max_depth': 8, 'random_state': 48, 'min_child_weight': 113}. Best is trial 12 with value: 9.55752234082176.\u001b[0m\n"
          ]
        },
        {
          "output_type": "stream",
          "name": "stdout",
          "text": [
            "[15:38:14] WARNING: /workspace/src/objective/regression_obj.cu:152: reg:linear is now deprecated in favor of reg:squarederror.\n"
          ]
        },
        {
          "output_type": "stream",
          "name": "stderr",
          "text": [
            "\u001b[32m[I 2021-10-04 15:38:16,833]\u001b[0m Trial 13 finished with value: 9.597397219374438 and parameters: {'reg_lambda': 5.0, 'colsample_bytree': 0.6, 'subsample': 0.5, 'learning_rate': 0.1730438801188095, 'n_estimators': 500, 'max_depth': 4, 'random_state': 48, 'min_child_weight': 123}. Best is trial 12 with value: 9.55752234082176.\u001b[0m\n"
          ]
        },
        {
          "output_type": "stream",
          "name": "stdout",
          "text": [
            "[15:38:16] WARNING: /workspace/src/objective/regression_obj.cu:152: reg:linear is now deprecated in favor of reg:squarederror.\n"
          ]
        },
        {
          "output_type": "stream",
          "name": "stderr",
          "text": [
            "\u001b[32m[I 2021-10-04 15:38:20,337]\u001b[0m Trial 14 finished with value: 9.63888835054381 and parameters: {'reg_lambda': 5.0, 'colsample_bytree': 1.0, 'subsample': 0.6, 'learning_rate': 0.36813215691575385, 'n_estimators': 500, 'max_depth': 7, 'random_state': 48, 'min_child_weight': 57}. Best is trial 12 with value: 9.55752234082176.\u001b[0m\n"
          ]
        },
        {
          "output_type": "stream",
          "name": "stdout",
          "text": [
            "[15:38:20] WARNING: /workspace/src/objective/regression_obj.cu:152: reg:linear is now deprecated in favor of reg:squarederror.\n"
          ]
        },
        {
          "output_type": "stream",
          "name": "stderr",
          "text": [
            "\u001b[32m[I 2021-10-04 15:38:24,397]\u001b[0m Trial 15 finished with value: 9.59193607885431 and parameters: {'reg_lambda': 5.0, 'colsample_bytree': 0.9, 'subsample': 0.4, 'learning_rate': 0.14114996819063488, 'n_estimators': 500, 'max_depth': 9, 'random_state': 2020, 'min_child_weight': 139}. Best is trial 12 with value: 9.55752234082176.\u001b[0m\n"
          ]
        },
        {
          "output_type": "stream",
          "name": "stdout",
          "text": [
            "[15:38:24] WARNING: /workspace/src/objective/regression_obj.cu:152: reg:linear is now deprecated in favor of reg:squarederror.\n"
          ]
        },
        {
          "output_type": "stream",
          "name": "stderr",
          "text": [
            "\u001b[32m[I 2021-10-04 15:38:26,214]\u001b[0m Trial 16 finished with value: 9.581801430120228 and parameters: {'reg_lambda': 10.0, 'colsample_bytree': 0.6, 'subsample': 1.0, 'learning_rate': 0.3749238671121523, 'n_estimators': 500, 'max_depth': 6, 'random_state': 48, 'min_child_weight': 216}. Best is trial 12 with value: 9.55752234082176.\u001b[0m\n"
          ]
        },
        {
          "output_type": "stream",
          "name": "stdout",
          "text": [
            "[15:38:26] WARNING: /workspace/src/objective/regression_obj.cu:152: reg:linear is now deprecated in favor of reg:squarederror.\n"
          ]
        },
        {
          "output_type": "stream",
          "name": "stderr",
          "text": [
            "\u001b[32m[I 2021-10-04 15:38:28,771]\u001b[0m Trial 17 finished with value: 9.767541442806303 and parameters: {'reg_lambda': 50.0, 'colsample_bytree': 0.5, 'subsample': 0.5, 'learning_rate': 0.7076617506202928, 'n_estimators': 500, 'max_depth': 8, 'random_state': 48, 'min_child_weight': 69}. Best is trial 12 with value: 9.55752234082176.\u001b[0m\n"
          ]
        },
        {
          "output_type": "stream",
          "name": "stdout",
          "text": [
            "[15:38:28] WARNING: /workspace/src/objective/regression_obj.cu:152: reg:linear is now deprecated in favor of reg:squarederror.\n"
          ]
        },
        {
          "output_type": "stream",
          "name": "stderr",
          "text": [
            "\u001b[32m[I 2021-10-04 15:38:33,514]\u001b[0m Trial 18 finished with value: 23.434824768855417 and parameters: {'reg_lambda': 10.0, 'colsample_bytree': 0.5, 'subsample': 1.0, 'learning_rate': 0.0012571553319187072, 'n_estimators': 500, 'max_depth': 4, 'random_state': 24, 'min_child_weight': 160}. Best is trial 12 with value: 9.55752234082176.\u001b[0m\n"
          ]
        },
        {
          "output_type": "stream",
          "name": "stdout",
          "text": [
            "[15:38:33] WARNING: /workspace/src/objective/regression_obj.cu:152: reg:linear is now deprecated in favor of reg:squarederror.\n"
          ]
        },
        {
          "output_type": "stream",
          "name": "stderr",
          "text": [
            "\u001b[32m[I 2021-10-04 15:38:35,923]\u001b[0m Trial 19 finished with value: 9.592843635105474 and parameters: {'reg_lambda': 5.0, 'colsample_bytree': 0.6, 'subsample': 0.5, 'learning_rate': 0.24240989832841286, 'n_estimators': 500, 'max_depth': 6, 'random_state': 2020, 'min_child_weight': 244}. Best is trial 12 with value: 9.55752234082176.\u001b[0m\n"
          ]
        },
        {
          "output_type": "stream",
          "name": "stdout",
          "text": [
            "[15:38:35] WARNING: /workspace/src/objective/regression_obj.cu:152: reg:linear is now deprecated in favor of reg:squarederror.\n"
          ]
        },
        {
          "output_type": "stream",
          "name": "stderr",
          "text": [
            "\u001b[32m[I 2021-10-04 15:38:40,008]\u001b[0m Trial 20 finished with value: 9.572856454698744 and parameters: {'reg_lambda': 10.0, 'colsample_bytree': 0.7, 'subsample': 0.8, 'learning_rate': 0.10991137580789087, 'n_estimators': 500, 'max_depth': 9, 'random_state': 48, 'min_child_weight': 125}. Best is trial 12 with value: 9.55752234082176.\u001b[0m\n"
          ]
        },
        {
          "output_type": "stream",
          "name": "stdout",
          "text": [
            "[15:38:40] WARNING: /workspace/src/objective/regression_obj.cu:152: reg:linear is now deprecated in favor of reg:squarederror.\n"
          ]
        },
        {
          "output_type": "stream",
          "name": "stderr",
          "text": [
            "\u001b[32m[I 2021-10-04 15:38:52,509]\u001b[0m Trial 21 finished with value: 9.56894214739348 and parameters: {'reg_lambda': 0.1, 'colsample_bytree': 0.6, 'subsample': 1.0, 'learning_rate': 0.00997893926385062, 'n_estimators': 500, 'max_depth': 9, 'random_state': 48, 'min_child_weight': 104}. Best is trial 12 with value: 9.55752234082176.\u001b[0m\n"
          ]
        },
        {
          "output_type": "stream",
          "name": "stdout",
          "text": [
            "[15:38:52] WARNING: /workspace/src/objective/regression_obj.cu:152: reg:linear is now deprecated in favor of reg:squarederror.\n"
          ]
        },
        {
          "output_type": "stream",
          "name": "stderr",
          "text": [
            "\u001b[32m[I 2021-10-04 15:38:56,419]\u001b[0m Trial 22 finished with value: 9.575018409713248 and parameters: {'reg_lambda': 0.1, 'colsample_bytree': 0.6, 'subsample': 1.0, 'learning_rate': 0.07990571782485359, 'n_estimators': 500, 'max_depth': 10, 'random_state': 48, 'min_child_weight': 87}. Best is trial 12 with value: 9.55752234082176.\u001b[0m\n"
          ]
        },
        {
          "output_type": "stream",
          "name": "stdout",
          "text": [
            "[15:38:56] WARNING: /workspace/src/objective/regression_obj.cu:152: reg:linear is now deprecated in favor of reg:squarederror.\n"
          ]
        },
        {
          "output_type": "stream",
          "name": "stderr",
          "text": [
            "\u001b[32m[I 2021-10-04 15:38:58,543]\u001b[0m Trial 23 finished with value: 9.614893676173038 and parameters: {'reg_lambda': 0.1, 'colsample_bytree': 0.6, 'subsample': 1.0, 'learning_rate': 0.22381759001174278, 'n_estimators': 500, 'max_depth': 7, 'random_state': 48, 'min_child_weight': 53}. Best is trial 12 with value: 9.55752234082176.\u001b[0m\n"
          ]
        },
        {
          "output_type": "stream",
          "name": "stdout",
          "text": [
            "[15:38:58] WARNING: /workspace/src/objective/regression_obj.cu:152: reg:linear is now deprecated in favor of reg:squarederror.\n"
          ]
        },
        {
          "output_type": "stream",
          "name": "stderr",
          "text": [
            "\u001b[32m[I 2021-10-04 15:39:01,859]\u001b[0m Trial 24 finished with value: 9.573773365826595 and parameters: {'reg_lambda': 0.1, 'colsample_bytree': 0.6, 'subsample': 1.0, 'learning_rate': 0.07791736840959575, 'n_estimators': 500, 'max_depth': 8, 'random_state': 48, 'min_child_weight': 184}. Best is trial 12 with value: 9.55752234082176.\u001b[0m\n"
          ]
        },
        {
          "output_type": "stream",
          "name": "stdout",
          "text": [
            "[15:39:01] WARNING: /workspace/src/objective/regression_obj.cu:152: reg:linear is now deprecated in favor of reg:squarederror.\n"
          ]
        },
        {
          "output_type": "stream",
          "name": "stderr",
          "text": [
            "\u001b[32m[I 2021-10-04 15:39:05,245]\u001b[0m Trial 25 finished with value: 9.607309632949827 and parameters: {'reg_lambda': 5.0, 'colsample_bytree': 0.9, 'subsample': 0.6, 'learning_rate': 0.16377553143687246, 'n_estimators': 500, 'max_depth': 5, 'random_state': 48, 'min_child_weight': 133}. Best is trial 12 with value: 9.55752234082176.\u001b[0m\n"
          ]
        },
        {
          "output_type": "stream",
          "name": "stdout",
          "text": [
            "[15:39:05] WARNING: /workspace/src/objective/regression_obj.cu:152: reg:linear is now deprecated in favor of reg:squarederror.\n"
          ]
        },
        {
          "output_type": "stream",
          "name": "stderr",
          "text": [
            "\u001b[32m[I 2021-10-04 15:39:08,995]\u001b[0m Trial 26 finished with value: 9.65968609205725 and parameters: {'reg_lambda': 50.0, 'colsample_bytree': 0.8, 'subsample': 0.4, 'learning_rate': 0.32010584309181245, 'n_estimators': 500, 'max_depth': 10, 'random_state': 48, 'min_child_weight': 109}. Best is trial 12 with value: 9.55752234082176.\u001b[0m\n"
          ]
        },
        {
          "output_type": "stream",
          "name": "stdout",
          "text": [
            "[15:39:09] WARNING: /workspace/src/objective/regression_obj.cu:152: reg:linear is now deprecated in favor of reg:squarederror.\n"
          ]
        },
        {
          "output_type": "stream",
          "name": "stderr",
          "text": [
            "\u001b[32m[I 2021-10-04 15:39:12,596]\u001b[0m Trial 27 finished with value: 9.954822806152457 and parameters: {'reg_lambda': 1.0, 'colsample_bytree': 1.0, 'subsample': 0.7, 'learning_rate': 0.44125682465757116, 'n_estimators': 500, 'max_depth': 7, 'random_state': 48, 'min_child_weight': 2}. Best is trial 12 with value: 9.55752234082176.\u001b[0m\n"
          ]
        },
        {
          "output_type": "stream",
          "name": "stdout",
          "text": [
            "[15:39:12] WARNING: /workspace/src/objective/regression_obj.cu:152: reg:linear is now deprecated in favor of reg:squarederror.\n"
          ]
        },
        {
          "output_type": "stream",
          "name": "stderr",
          "text": [
            "\u001b[32m[I 2021-10-04 15:39:25,044]\u001b[0m Trial 28 finished with value: 9.559011794361863 and parameters: {'reg_lambda': 0.1, 'colsample_bytree': 0.5, 'subsample': 0.5, 'learning_rate': 0.0123682956180217, 'n_estimators': 500, 'max_depth': 10, 'random_state': 2020, 'min_child_weight': 145}. Best is trial 12 with value: 9.55752234082176.\u001b[0m\n"
          ]
        },
        {
          "output_type": "stream",
          "name": "stdout",
          "text": [
            "[15:39:25] WARNING: /workspace/src/objective/regression_obj.cu:152: reg:linear is now deprecated in favor of reg:squarederror.\n"
          ]
        },
        {
          "output_type": "stream",
          "name": "stderr",
          "text": [
            "\u001b[32m[I 2021-10-04 15:39:26,238]\u001b[0m Trial 29 finished with value: 9.668533382786986 and parameters: {'reg_lambda': 10.0, 'colsample_bytree': 0.5, 'subsample': 0.5, 'learning_rate': 0.6014893339519825, 'n_estimators': 500, 'max_depth': 3, 'random_state': 2020, 'min_child_weight': 184}. Best is trial 12 with value: 9.55752234082176.\u001b[0m\n"
          ]
        },
        {
          "output_type": "stream",
          "name": "stdout",
          "text": [
            "[15:39:26] WARNING: /workspace/src/objective/regression_obj.cu:152: reg:linear is now deprecated in favor of reg:squarederror.\n"
          ]
        },
        {
          "output_type": "stream",
          "name": "stderr",
          "text": [
            "\u001b[32m[I 2021-10-04 15:39:29,435]\u001b[0m Trial 30 finished with value: 9.585943341265375 and parameters: {'reg_lambda': 5.0, 'colsample_bytree': 0.5, 'subsample': 0.5, 'learning_rate': 0.1783601870724144, 'n_estimators': 500, 'max_depth': 10, 'random_state': 2020, 'min_child_weight': 150}. Best is trial 12 with value: 9.55752234082176.\u001b[0m\n"
          ]
        },
        {
          "output_type": "stream",
          "name": "stdout",
          "text": [
            "[15:39:29] WARNING: /workspace/src/objective/regression_obj.cu:152: reg:linear is now deprecated in favor of reg:squarederror.\n"
          ]
        },
        {
          "output_type": "stream",
          "name": "stderr",
          "text": [
            "\u001b[32m[I 2021-10-04 15:39:35,289]\u001b[0m Trial 31 finished with value: 9.570645123669436 and parameters: {'reg_lambda': 0.1, 'colsample_bytree': 0.5, 'subsample': 0.5, 'learning_rate': 0.0692642812431251, 'n_estimators': 500, 'max_depth': 9, 'random_state': 2020, 'min_child_weight': 172}. Best is trial 12 with value: 9.55752234082176.\u001b[0m\n"
          ]
        },
        {
          "output_type": "stream",
          "name": "stdout",
          "text": [
            "[15:39:35] WARNING: /workspace/src/objective/regression_obj.cu:152: reg:linear is now deprecated in favor of reg:squarederror.\n"
          ]
        },
        {
          "output_type": "stream",
          "name": "stderr",
          "text": [
            "\u001b[32m[I 2021-10-04 15:39:48,741]\u001b[0m Trial 32 finished with value: 9.561621278347758 and parameters: {'reg_lambda': 0.1, 'colsample_bytree': 0.7, 'subsample': 0.8, 'learning_rate': 0.011008747514058115, 'n_estimators': 500, 'max_depth': 8, 'random_state': 2020, 'min_child_weight': 111}. Best is trial 12 with value: 9.55752234082176.\u001b[0m\n"
          ]
        },
        {
          "output_type": "stream",
          "name": "stdout",
          "text": [
            "[15:39:48] WARNING: /workspace/src/objective/regression_obj.cu:152: reg:linear is now deprecated in favor of reg:squarederror.\n"
          ]
        },
        {
          "output_type": "stream",
          "name": "stderr",
          "text": [
            "\u001b[32m[I 2021-10-04 15:39:53,654]\u001b[0m Trial 33 finished with value: 9.559435953147611 and parameters: {'reg_lambda': 0.1, 'colsample_bytree': 0.7, 'subsample': 0.8, 'learning_rate': 0.06342267482151942, 'n_estimators': 500, 'max_depth': 8, 'random_state': 2020, 'min_child_weight': 117}. Best is trial 12 with value: 9.55752234082176.\u001b[0m\n"
          ]
        },
        {
          "output_type": "stream",
          "name": "stdout",
          "text": [
            "[15:39:53] WARNING: /workspace/src/objective/regression_obj.cu:152: reg:linear is now deprecated in favor of reg:squarederror.\n"
          ]
        },
        {
          "output_type": "stream",
          "name": "stderr",
          "text": [
            "\u001b[32m[I 2021-10-04 15:39:58,444]\u001b[0m Trial 34 finished with value: 9.570272380076588 and parameters: {'reg_lambda': 0.1, 'colsample_bytree': 0.7, 'subsample': 0.8, 'learning_rate': 0.055089374664581164, 'n_estimators': 500, 'max_depth': 8, 'random_state': 2020, 'min_child_weight': 120}. Best is trial 12 with value: 9.55752234082176.\u001b[0m\n"
          ]
        },
        {
          "output_type": "stream",
          "name": "stdout",
          "text": [
            "[15:39:58] WARNING: /workspace/src/objective/regression_obj.cu:152: reg:linear is now deprecated in favor of reg:squarederror.\n"
          ]
        },
        {
          "output_type": "stream",
          "name": "stderr",
          "text": [
            "\u001b[32m[I 2021-10-04 15:40:02,547]\u001b[0m Trial 35 finished with value: 9.571362373800001 and parameters: {'reg_lambda': 0.1, 'colsample_bytree': 0.7, 'subsample': 0.8, 'learning_rate': 0.20217309174671275, 'n_estimators': 500, 'max_depth': 11, 'random_state': 2020, 'min_child_weight': 142}. Best is trial 12 with value: 9.55752234082176.\u001b[0m\n"
          ]
        },
        {
          "output_type": "stream",
          "name": "stdout",
          "text": [
            "[15:40:02] WARNING: /workspace/src/objective/regression_obj.cu:152: reg:linear is now deprecated in favor of reg:squarederror.\n"
          ]
        },
        {
          "output_type": "stream",
          "name": "stderr",
          "text": [
            "\u001b[32m[I 2021-10-04 15:40:05,148]\u001b[0m Trial 36 finished with value: 9.608658239516233 and parameters: {'reg_lambda': 0.1, 'colsample_bytree': 0.7, 'subsample': 0.8, 'learning_rate': 0.2860065791038583, 'n_estimators': 500, 'max_depth': 7, 'random_state': 2020, 'min_child_weight': 80}. Best is trial 12 with value: 9.55752234082176.\u001b[0m\n"
          ]
        },
        {
          "output_type": "stream",
          "name": "stdout",
          "text": [
            "[15:40:05] WARNING: /workspace/src/objective/regression_obj.cu:152: reg:linear is now deprecated in favor of reg:squarederror.\n"
          ]
        },
        {
          "output_type": "stream",
          "name": "stderr",
          "text": [
            "\u001b[32m[I 2021-10-04 15:40:09,503]\u001b[0m Trial 37 finished with value: 9.627795299190629 and parameters: {'reg_lambda': 0.1, 'colsample_bytree': 0.7, 'subsample': 0.8, 'learning_rate': 0.13157844891547432, 'n_estimators': 500, 'max_depth': 10, 'random_state': 2020, 'min_child_weight': 50}. Best is trial 12 with value: 9.55752234082176.\u001b[0m\n"
          ]
        },
        {
          "output_type": "stream",
          "name": "stdout",
          "text": [
            "[15:40:09] WARNING: /workspace/src/objective/regression_obj.cu:152: reg:linear is now deprecated in favor of reg:squarederror.\n"
          ]
        },
        {
          "output_type": "stream",
          "name": "stderr",
          "text": [
            "\u001b[32m[I 2021-10-04 15:40:22,954]\u001b[0m Trial 38 finished with value: 9.559281168990369 and parameters: {'reg_lambda': 0.1, 'colsample_bytree': 0.7, 'subsample': 0.8, 'learning_rate': 0.011276695037204769, 'n_estimators': 500, 'max_depth': 8, 'random_state': 2020, 'min_child_weight': 114}. Best is trial 12 with value: 9.55752234082176.\u001b[0m\n"
          ]
        },
        {
          "output_type": "stream",
          "name": "stdout",
          "text": [
            "[15:40:22] WARNING: /workspace/src/objective/regression_obj.cu:152: reg:linear is now deprecated in favor of reg:squarederror.\n"
          ]
        },
        {
          "output_type": "stream",
          "name": "stderr",
          "text": [
            "\u001b[32m[I 2021-10-04 15:40:27,375]\u001b[0m Trial 39 finished with value: 9.58061494638999 and parameters: {'reg_lambda': 100.0, 'colsample_bytree': 0.7, 'subsample': 0.7, 'learning_rate': 0.1078542035997751, 'n_estimators': 500, 'max_depth': 8, 'random_state': 2020, 'min_child_weight': 164}. Best is trial 12 with value: 9.55752234082176.\u001b[0m\n"
          ]
        },
        {
          "output_type": "stream",
          "name": "stdout",
          "text": [
            "[15:40:27] WARNING: /workspace/src/objective/regression_obj.cu:152: reg:linear is now deprecated in favor of reg:squarederror.\n"
          ]
        },
        {
          "output_type": "stream",
          "name": "stderr",
          "text": [
            "\u001b[32m[I 2021-10-04 15:40:29,521]\u001b[0m Trial 40 finished with value: 9.67281961669648 and parameters: {'reg_lambda': 50.0, 'colsample_bytree': 0.7, 'subsample': 0.8, 'learning_rate': 0.9150832013563148, 'n_estimators': 500, 'max_depth': 6, 'random_state': 2020, 'min_child_weight': 74}. Best is trial 12 with value: 9.55752234082176.\u001b[0m\n"
          ]
        },
        {
          "output_type": "stream",
          "name": "stdout",
          "text": [
            "[15:40:29] WARNING: /workspace/src/objective/regression_obj.cu:152: reg:linear is now deprecated in favor of reg:squarederror.\n"
          ]
        },
        {
          "output_type": "stream",
          "name": "stderr",
          "text": [
            "\u001b[32m[I 2021-10-04 15:40:45,403]\u001b[0m Trial 41 finished with value: 10.128048910431962 and parameters: {'reg_lambda': 0.1, 'colsample_bytree': 0.7, 'subsample': 0.8, 'learning_rate': 0.004881740892953266, 'n_estimators': 500, 'max_depth': 9, 'random_state': 2020, 'min_child_weight': 113}. Best is trial 12 with value: 9.55752234082176.\u001b[0m\n"
          ]
        },
        {
          "output_type": "stream",
          "name": "stdout",
          "text": [
            "[15:40:45] WARNING: /workspace/src/objective/regression_obj.cu:152: reg:linear is now deprecated in favor of reg:squarederror.\n"
          ]
        },
        {
          "output_type": "stream",
          "name": "stderr",
          "text": [
            "\u001b[32m[I 2021-10-04 15:40:49,959]\u001b[0m Trial 42 finished with value: 9.583924500377162 and parameters: {'reg_lambda': 0.1, 'colsample_bytree': 0.7, 'subsample': 0.8, 'learning_rate': 0.08008726010278316, 'n_estimators': 500, 'max_depth': 8, 'random_state': 2020, 'min_child_weight': 97}. Best is trial 12 with value: 9.55752234082176.\u001b[0m\n"
          ]
        },
        {
          "output_type": "stream",
          "name": "stdout",
          "text": [
            "[15:40:49] WARNING: /workspace/src/objective/regression_obj.cu:152: reg:linear is now deprecated in favor of reg:squarederror.\n"
          ]
        },
        {
          "output_type": "stream",
          "name": "stderr",
          "text": [
            "\u001b[32m[I 2021-10-04 15:40:54,824]\u001b[0m Trial 43 finished with value: 9.554353057916941 and parameters: {'reg_lambda': 0.1, 'colsample_bytree': 0.7, 'subsample': 0.8, 'learning_rate': 0.04683325567808581, 'n_estimators': 500, 'max_depth': 7, 'random_state': 2020, 'min_child_weight': 136}. Best is trial 43 with value: 9.554353057916941.\u001b[0m\n"
          ]
        },
        {
          "output_type": "stream",
          "name": "stdout",
          "text": [
            "[15:40:54] WARNING: /workspace/src/objective/regression_obj.cu:152: reg:linear is now deprecated in favor of reg:squarederror.\n"
          ]
        },
        {
          "output_type": "stream",
          "name": "stderr",
          "text": [
            "\u001b[32m[I 2021-10-04 15:41:00,081]\u001b[0m Trial 44 finished with value: 9.547606967659624 and parameters: {'reg_lambda': 0.1, 'colsample_bytree': 0.8, 'subsample': 0.8, 'learning_rate': 0.04753588425348945, 'n_estimators': 500, 'max_depth': 7, 'random_state': 24, 'min_child_weight': 142}. Best is trial 44 with value: 9.547606967659624.\u001b[0m\n"
          ]
        },
        {
          "output_type": "stream",
          "name": "stdout",
          "text": [
            "[15:41:00] WARNING: /workspace/src/objective/regression_obj.cu:152: reg:linear is now deprecated in favor of reg:squarederror.\n"
          ]
        },
        {
          "output_type": "stream",
          "name": "stderr",
          "text": [
            "\u001b[32m[I 2021-10-04 15:41:03,277]\u001b[0m Trial 45 finished with value: 9.58155096405566 and parameters: {'reg_lambda': 1.0, 'colsample_bytree': 0.8, 'subsample': 0.8, 'learning_rate': 0.1317917808929854, 'n_estimators': 500, 'max_depth': 7, 'random_state': 24, 'min_child_weight': 144}. Best is trial 44 with value: 9.547606967659624.\u001b[0m\n"
          ]
        },
        {
          "output_type": "stream",
          "name": "stdout",
          "text": [
            "[15:41:03] WARNING: /workspace/src/objective/regression_obj.cu:152: reg:linear is now deprecated in favor of reg:squarederror.\n"
          ]
        },
        {
          "output_type": "stream",
          "name": "stderr",
          "text": [
            "\u001b[32m[I 2021-10-04 15:41:10,316]\u001b[0m Trial 46 finished with value: 9.570046449121229 and parameters: {'reg_lambda': 100.0, 'colsample_bytree': 0.8, 'subsample': 0.6, 'learning_rate': 0.04078157172680426, 'n_estimators': 500, 'max_depth': 5, 'random_state': 24, 'min_child_weight': 212}. Best is trial 44 with value: 9.547606967659624.\u001b[0m\n"
          ]
        },
        {
          "output_type": "stream",
          "name": "stdout",
          "text": [
            "[15:41:10] WARNING: /workspace/src/objective/regression_obj.cu:152: reg:linear is now deprecated in favor of reg:squarederror.\n"
          ]
        },
        {
          "output_type": "stream",
          "name": "stderr",
          "text": [
            "\u001b[32m[I 2021-10-04 15:41:13,000]\u001b[0m Trial 47 finished with value: 9.565527702887112 and parameters: {'reg_lambda': 0.1, 'colsample_bytree': 0.8, 'subsample': 0.7, 'learning_rate': 0.19751539710618352, 'n_estimators': 500, 'max_depth': 6, 'random_state': 24, 'min_child_weight': 132}. Best is trial 44 with value: 9.547606967659624.\u001b[0m\n"
          ]
        },
        {
          "output_type": "stream",
          "name": "stdout",
          "text": [
            "[15:41:13] WARNING: /workspace/src/objective/regression_obj.cu:152: reg:linear is now deprecated in favor of reg:squarederror.\n"
          ]
        },
        {
          "output_type": "stream",
          "name": "stderr",
          "text": [
            "\u001b[32m[I 2021-10-04 15:41:15,511]\u001b[0m Trial 48 finished with value: 9.761532961093339 and parameters: {'reg_lambda': 5.0, 'colsample_bytree': 0.8, 'subsample': 0.4, 'learning_rate': 0.7747208301496255, 'n_estimators': 500, 'max_depth': 7, 'random_state': 24, 'min_child_weight': 178}. Best is trial 44 with value: 9.547606967659624.\u001b[0m\n"
          ]
        },
        {
          "output_type": "stream",
          "name": "stdout",
          "text": [
            "[15:41:15] WARNING: /workspace/src/objective/regression_obj.cu:152: reg:linear is now deprecated in favor of reg:squarederror.\n"
          ]
        },
        {
          "output_type": "stream",
          "name": "stderr",
          "text": [
            "\u001b[32m[I 2021-10-04 15:41:19,712]\u001b[0m Trial 49 finished with value: 9.585156661381234 and parameters: {'reg_lambda': 0.1, 'colsample_bytree': 0.9, 'subsample': 0.8, 'learning_rate': 0.15150397957646028, 'n_estimators': 500, 'max_depth': 9, 'random_state': 24, 'min_child_weight': 93}. Best is trial 44 with value: 9.547606967659624.\u001b[0m\n"
          ]
        },
        {
          "output_type": "stream",
          "name": "stdout",
          "text": [
            "Number of finished trials: 50\n",
            "Best trial: {'reg_lambda': 0.1, 'colsample_bytree': 0.8, 'subsample': 0.8, 'learning_rate': 0.04753588425348945, 'n_estimators': 500, 'max_depth': 7, 'random_state': 24, 'min_child_weight': 142}\n"
          ]
        }
      ]
    },
    {
      "cell_type": "code",
      "metadata": {
        "colab": {
          "base_uri": "https://localhost:8080/",
          "height": 1000
        },
        "id": "URK7Toa2OUXo",
        "outputId": "c9f81337-7e19-4a5d-df0a-4d3f232f7a70"
      },
      "source": [
        "study.trials_dataframe()"
      ],
      "execution_count": 113,
      "outputs": [
        {
          "output_type": "execute_result",
          "data": {
            "text/html": [
              "<div>\n",
              "<style scoped>\n",
              "    .dataframe tbody tr th:only-of-type {\n",
              "        vertical-align: middle;\n",
              "    }\n",
              "\n",
              "    .dataframe tbody tr th {\n",
              "        vertical-align: top;\n",
              "    }\n",
              "\n",
              "    .dataframe thead th {\n",
              "        text-align: right;\n",
              "    }\n",
              "</style>\n",
              "<table border=\"1\" class=\"dataframe\">\n",
              "  <thead>\n",
              "    <tr style=\"text-align: right;\">\n",
              "      <th></th>\n",
              "      <th>number</th>\n",
              "      <th>value</th>\n",
              "      <th>datetime_start</th>\n",
              "      <th>datetime_complete</th>\n",
              "      <th>duration</th>\n",
              "      <th>params_colsample_bytree</th>\n",
              "      <th>params_learning_rate</th>\n",
              "      <th>params_max_depth</th>\n",
              "      <th>params_min_child_weight</th>\n",
              "      <th>params_n_estimators</th>\n",
              "      <th>params_random_state</th>\n",
              "      <th>params_reg_lambda</th>\n",
              "      <th>params_subsample</th>\n",
              "      <th>state</th>\n",
              "    </tr>\n",
              "  </thead>\n",
              "  <tbody>\n",
              "    <tr>\n",
              "      <th>0</th>\n",
              "      <td>0</td>\n",
              "      <td>9.568782</td>\n",
              "      <td>2021-10-04 15:37:20.580618</td>\n",
              "      <td>2021-10-04 15:37:23.804087</td>\n",
              "      <td>0 days 00:00:03.223469</td>\n",
              "      <td>0.5</td>\n",
              "      <td>0.104686</td>\n",
              "      <td>5</td>\n",
              "      <td>150</td>\n",
              "      <td>500</td>\n",
              "      <td>48</td>\n",
              "      <td>10.0</td>\n",
              "      <td>0.5</td>\n",
              "      <td>COMPLETE</td>\n",
              "    </tr>\n",
              "    <tr>\n",
              "      <th>1</th>\n",
              "      <td>1</td>\n",
              "      <td>9.616388</td>\n",
              "      <td>2021-10-04 15:37:23.807187</td>\n",
              "      <td>2021-10-04 15:37:26.008108</td>\n",
              "      <td>0 days 00:00:02.200921</td>\n",
              "      <td>0.7</td>\n",
              "      <td>0.552178</td>\n",
              "      <td>2</td>\n",
              "      <td>169</td>\n",
              "      <td>500</td>\n",
              "      <td>48</td>\n",
              "      <td>100.0</td>\n",
              "      <td>0.8</td>\n",
              "      <td>COMPLETE</td>\n",
              "    </tr>\n",
              "    <tr>\n",
              "      <th>2</th>\n",
              "      <td>2</td>\n",
              "      <td>9.639972</td>\n",
              "      <td>2021-10-04 15:37:26.010513</td>\n",
              "      <td>2021-10-04 15:37:28.453869</td>\n",
              "      <td>0 days 00:00:02.443356</td>\n",
              "      <td>0.7</td>\n",
              "      <td>0.266776</td>\n",
              "      <td>5</td>\n",
              "      <td>35</td>\n",
              "      <td>500</td>\n",
              "      <td>48</td>\n",
              "      <td>50.0</td>\n",
              "      <td>0.7</td>\n",
              "      <td>COMPLETE</td>\n",
              "    </tr>\n",
              "    <tr>\n",
              "      <th>3</th>\n",
              "      <td>3</td>\n",
              "      <td>9.571687</td>\n",
              "      <td>2021-10-04 15:37:28.457331</td>\n",
              "      <td>2021-10-04 15:37:38.139511</td>\n",
              "      <td>0 days 00:00:09.682180</td>\n",
              "      <td>0.6</td>\n",
              "      <td>0.016964</td>\n",
              "      <td>9</td>\n",
              "      <td>107</td>\n",
              "      <td>500</td>\n",
              "      <td>48</td>\n",
              "      <td>0.1</td>\n",
              "      <td>1.0</td>\n",
              "      <td>COMPLETE</td>\n",
              "    </tr>\n",
              "    <tr>\n",
              "      <th>4</th>\n",
              "      <td>4</td>\n",
              "      <td>9.600254</td>\n",
              "      <td>2021-10-04 15:37:38.141879</td>\n",
              "      <td>2021-10-04 15:37:39.532264</td>\n",
              "      <td>0 days 00:00:01.390385</td>\n",
              "      <td>0.5</td>\n",
              "      <td>0.351013</td>\n",
              "      <td>3</td>\n",
              "      <td>156</td>\n",
              "      <td>500</td>\n",
              "      <td>2020</td>\n",
              "      <td>100.0</td>\n",
              "      <td>0.7</td>\n",
              "      <td>COMPLETE</td>\n",
              "    </tr>\n",
              "    <tr>\n",
              "      <th>5</th>\n",
              "      <td>5</td>\n",
              "      <td>9.656755</td>\n",
              "      <td>2021-10-04 15:37:39.534637</td>\n",
              "      <td>2021-10-04 15:37:43.462272</td>\n",
              "      <td>0 days 00:00:03.927635</td>\n",
              "      <td>0.9</td>\n",
              "      <td>0.560055</td>\n",
              "      <td>12</td>\n",
              "      <td>199</td>\n",
              "      <td>500</td>\n",
              "      <td>24</td>\n",
              "      <td>10.0</td>\n",
              "      <td>0.5</td>\n",
              "      <td>COMPLETE</td>\n",
              "    </tr>\n",
              "    <tr>\n",
              "      <th>6</th>\n",
              "      <td>6</td>\n",
              "      <td>9.577755</td>\n",
              "      <td>2021-10-04 15:37:43.465678</td>\n",
              "      <td>2021-10-04 15:37:48.404042</td>\n",
              "      <td>0 days 00:00:04.938364</td>\n",
              "      <td>0.8</td>\n",
              "      <td>0.117787</td>\n",
              "      <td>11</td>\n",
              "      <td>197</td>\n",
              "      <td>500</td>\n",
              "      <td>24</td>\n",
              "      <td>100.0</td>\n",
              "      <td>1.0</td>\n",
              "      <td>COMPLETE</td>\n",
              "    </tr>\n",
              "    <tr>\n",
              "      <th>7</th>\n",
              "      <td>7</td>\n",
              "      <td>9.836606</td>\n",
              "      <td>2021-10-04 15:37:48.406640</td>\n",
              "      <td>2021-10-04 15:37:52.883025</td>\n",
              "      <td>0 days 00:00:04.476385</td>\n",
              "      <td>0.8</td>\n",
              "      <td>0.744748</td>\n",
              "      <td>12</td>\n",
              "      <td>81</td>\n",
              "      <td>500</td>\n",
              "      <td>48</td>\n",
              "      <td>1.0</td>\n",
              "      <td>0.6</td>\n",
              "      <td>COMPLETE</td>\n",
              "    </tr>\n",
              "    <tr>\n",
              "      <th>8</th>\n",
              "      <td>8</td>\n",
              "      <td>9.636998</td>\n",
              "      <td>2021-10-04 15:37:52.885342</td>\n",
              "      <td>2021-10-04 15:37:57.813149</td>\n",
              "      <td>0 days 00:00:04.927807</td>\n",
              "      <td>1.0</td>\n",
              "      <td>0.506219</td>\n",
              "      <td>11</td>\n",
              "      <td>292</td>\n",
              "      <td>500</td>\n",
              "      <td>2020</td>\n",
              "      <td>100.0</td>\n",
              "      <td>0.8</td>\n",
              "      <td>COMPLETE</td>\n",
              "    </tr>\n",
              "    <tr>\n",
              "      <th>9</th>\n",
              "      <td>9</td>\n",
              "      <td>9.638093</td>\n",
              "      <td>2021-10-04 15:37:57.816248</td>\n",
              "      <td>2021-10-04 15:38:00.576574</td>\n",
              "      <td>0 days 00:00:02.760326</td>\n",
              "      <td>0.5</td>\n",
              "      <td>0.254431</td>\n",
              "      <td>12</td>\n",
              "      <td>252</td>\n",
              "      <td>500</td>\n",
              "      <td>48</td>\n",
              "      <td>1.0</td>\n",
              "      <td>0.5</td>\n",
              "      <td>COMPLETE</td>\n",
              "    </tr>\n",
              "    <tr>\n",
              "      <th>10</th>\n",
              "      <td>10</td>\n",
              "      <td>10.051718</td>\n",
              "      <td>2021-10-04 15:38:00.578746</td>\n",
              "      <td>2021-10-04 15:38:02.423900</td>\n",
              "      <td>0 days 00:00:01.845154</td>\n",
              "      <td>0.5</td>\n",
              "      <td>0.911271</td>\n",
              "      <td>6</td>\n",
              "      <td>16</td>\n",
              "      <td>500</td>\n",
              "      <td>24</td>\n",
              "      <td>10.0</td>\n",
              "      <td>0.4</td>\n",
              "      <td>COMPLETE</td>\n",
              "    </tr>\n",
              "    <tr>\n",
              "      <th>11</th>\n",
              "      <td>11</td>\n",
              "      <td>9.588661</td>\n",
              "      <td>2021-10-04 15:38:02.426319</td>\n",
              "      <td>2021-10-04 15:38:07.674502</td>\n",
              "      <td>0 days 00:00:05.248183</td>\n",
              "      <td>0.6</td>\n",
              "      <td>0.036373</td>\n",
              "      <td>8</td>\n",
              "      <td>97</td>\n",
              "      <td>500</td>\n",
              "      <td>48</td>\n",
              "      <td>0.1</td>\n",
              "      <td>1.0</td>\n",
              "      <td>COMPLETE</td>\n",
              "    </tr>\n",
              "    <tr>\n",
              "      <th>12</th>\n",
              "      <td>12</td>\n",
              "      <td>9.557522</td>\n",
              "      <td>2021-10-04 15:38:07.677950</td>\n",
              "      <td>2021-10-04 15:38:14.861757</td>\n",
              "      <td>0 days 00:00:07.183807</td>\n",
              "      <td>0.6</td>\n",
              "      <td>0.020245</td>\n",
              "      <td>8</td>\n",
              "      <td>113</td>\n",
              "      <td>500</td>\n",
              "      <td>48</td>\n",
              "      <td>5.0</td>\n",
              "      <td>1.0</td>\n",
              "      <td>COMPLETE</td>\n",
              "    </tr>\n",
              "    <tr>\n",
              "      <th>13</th>\n",
              "      <td>13</td>\n",
              "      <td>9.597397</td>\n",
              "      <td>2021-10-04 15:38:14.864726</td>\n",
              "      <td>2021-10-04 15:38:16.833320</td>\n",
              "      <td>0 days 00:00:01.968594</td>\n",
              "      <td>0.6</td>\n",
              "      <td>0.173044</td>\n",
              "      <td>4</td>\n",
              "      <td>123</td>\n",
              "      <td>500</td>\n",
              "      <td>48</td>\n",
              "      <td>5.0</td>\n",
              "      <td>0.5</td>\n",
              "      <td>COMPLETE</td>\n",
              "    </tr>\n",
              "    <tr>\n",
              "      <th>14</th>\n",
              "      <td>14</td>\n",
              "      <td>9.638888</td>\n",
              "      <td>2021-10-04 15:38:16.835708</td>\n",
              "      <td>2021-10-04 15:38:20.336769</td>\n",
              "      <td>0 days 00:00:03.501061</td>\n",
              "      <td>1.0</td>\n",
              "      <td>0.368132</td>\n",
              "      <td>7</td>\n",
              "      <td>57</td>\n",
              "      <td>500</td>\n",
              "      <td>48</td>\n",
              "      <td>5.0</td>\n",
              "      <td>0.6</td>\n",
              "      <td>COMPLETE</td>\n",
              "    </tr>\n",
              "    <tr>\n",
              "      <th>15</th>\n",
              "      <td>15</td>\n",
              "      <td>9.591936</td>\n",
              "      <td>2021-10-04 15:38:20.339206</td>\n",
              "      <td>2021-10-04 15:38:24.396417</td>\n",
              "      <td>0 days 00:00:04.057211</td>\n",
              "      <td>0.9</td>\n",
              "      <td>0.141150</td>\n",
              "      <td>9</td>\n",
              "      <td>139</td>\n",
              "      <td>500</td>\n",
              "      <td>2020</td>\n",
              "      <td>5.0</td>\n",
              "      <td>0.4</td>\n",
              "      <td>COMPLETE</td>\n",
              "    </tr>\n",
              "    <tr>\n",
              "      <th>16</th>\n",
              "      <td>16</td>\n",
              "      <td>9.581801</td>\n",
              "      <td>2021-10-04 15:38:24.399245</td>\n",
              "      <td>2021-10-04 15:38:26.213947</td>\n",
              "      <td>0 days 00:00:01.814702</td>\n",
              "      <td>0.6</td>\n",
              "      <td>0.374924</td>\n",
              "      <td>6</td>\n",
              "      <td>216</td>\n",
              "      <td>500</td>\n",
              "      <td>48</td>\n",
              "      <td>10.0</td>\n",
              "      <td>1.0</td>\n",
              "      <td>COMPLETE</td>\n",
              "    </tr>\n",
              "    <tr>\n",
              "      <th>17</th>\n",
              "      <td>17</td>\n",
              "      <td>9.767541</td>\n",
              "      <td>2021-10-04 15:38:26.217419</td>\n",
              "      <td>2021-10-04 15:38:28.771039</td>\n",
              "      <td>0 days 00:00:02.553620</td>\n",
              "      <td>0.5</td>\n",
              "      <td>0.707662</td>\n",
              "      <td>8</td>\n",
              "      <td>69</td>\n",
              "      <td>500</td>\n",
              "      <td>48</td>\n",
              "      <td>50.0</td>\n",
              "      <td>0.5</td>\n",
              "      <td>COMPLETE</td>\n",
              "    </tr>\n",
              "    <tr>\n",
              "      <th>18</th>\n",
              "      <td>18</td>\n",
              "      <td>23.434825</td>\n",
              "      <td>2021-10-04 15:38:28.776591</td>\n",
              "      <td>2021-10-04 15:38:33.513488</td>\n",
              "      <td>0 days 00:00:04.736897</td>\n",
              "      <td>0.5</td>\n",
              "      <td>0.001257</td>\n",
              "      <td>4</td>\n",
              "      <td>160</td>\n",
              "      <td>500</td>\n",
              "      <td>24</td>\n",
              "      <td>10.0</td>\n",
              "      <td>1.0</td>\n",
              "      <td>COMPLETE</td>\n",
              "    </tr>\n",
              "    <tr>\n",
              "      <th>19</th>\n",
              "      <td>19</td>\n",
              "      <td>9.592844</td>\n",
              "      <td>2021-10-04 15:38:33.515837</td>\n",
              "      <td>2021-10-04 15:38:35.922997</td>\n",
              "      <td>0 days 00:00:02.407160</td>\n",
              "      <td>0.6</td>\n",
              "      <td>0.242410</td>\n",
              "      <td>6</td>\n",
              "      <td>244</td>\n",
              "      <td>500</td>\n",
              "      <td>2020</td>\n",
              "      <td>5.0</td>\n",
              "      <td>0.5</td>\n",
              "      <td>COMPLETE</td>\n",
              "    </tr>\n",
              "    <tr>\n",
              "      <th>20</th>\n",
              "      <td>20</td>\n",
              "      <td>9.572856</td>\n",
              "      <td>2021-10-04 15:38:35.925480</td>\n",
              "      <td>2021-10-04 15:38:40.008183</td>\n",
              "      <td>0 days 00:00:04.082703</td>\n",
              "      <td>0.7</td>\n",
              "      <td>0.109911</td>\n",
              "      <td>9</td>\n",
              "      <td>125</td>\n",
              "      <td>500</td>\n",
              "      <td>48</td>\n",
              "      <td>10.0</td>\n",
              "      <td>0.8</td>\n",
              "      <td>COMPLETE</td>\n",
              "    </tr>\n",
              "    <tr>\n",
              "      <th>21</th>\n",
              "      <td>21</td>\n",
              "      <td>9.568942</td>\n",
              "      <td>2021-10-04 15:38:40.011336</td>\n",
              "      <td>2021-10-04 15:38:52.508986</td>\n",
              "      <td>0 days 00:00:12.497650</td>\n",
              "      <td>0.6</td>\n",
              "      <td>0.009979</td>\n",
              "      <td>9</td>\n",
              "      <td>104</td>\n",
              "      <td>500</td>\n",
              "      <td>48</td>\n",
              "      <td>0.1</td>\n",
              "      <td>1.0</td>\n",
              "      <td>COMPLETE</td>\n",
              "    </tr>\n",
              "    <tr>\n",
              "      <th>22</th>\n",
              "      <td>22</td>\n",
              "      <td>9.575018</td>\n",
              "      <td>2021-10-04 15:38:52.512288</td>\n",
              "      <td>2021-10-04 15:38:56.419003</td>\n",
              "      <td>0 days 00:00:03.906715</td>\n",
              "      <td>0.6</td>\n",
              "      <td>0.079906</td>\n",
              "      <td>10</td>\n",
              "      <td>87</td>\n",
              "      <td>500</td>\n",
              "      <td>48</td>\n",
              "      <td>0.1</td>\n",
              "      <td>1.0</td>\n",
              "      <td>COMPLETE</td>\n",
              "    </tr>\n",
              "    <tr>\n",
              "      <th>23</th>\n",
              "      <td>23</td>\n",
              "      <td>9.614894</td>\n",
              "      <td>2021-10-04 15:38:56.421548</td>\n",
              "      <td>2021-10-04 15:38:58.542673</td>\n",
              "      <td>0 days 00:00:02.121125</td>\n",
              "      <td>0.6</td>\n",
              "      <td>0.223818</td>\n",
              "      <td>7</td>\n",
              "      <td>53</td>\n",
              "      <td>500</td>\n",
              "      <td>48</td>\n",
              "      <td>0.1</td>\n",
              "      <td>1.0</td>\n",
              "      <td>COMPLETE</td>\n",
              "    </tr>\n",
              "    <tr>\n",
              "      <th>24</th>\n",
              "      <td>24</td>\n",
              "      <td>9.573773</td>\n",
              "      <td>2021-10-04 15:38:58.544849</td>\n",
              "      <td>2021-10-04 15:39:01.858640</td>\n",
              "      <td>0 days 00:00:03.313791</td>\n",
              "      <td>0.6</td>\n",
              "      <td>0.077917</td>\n",
              "      <td>8</td>\n",
              "      <td>184</td>\n",
              "      <td>500</td>\n",
              "      <td>48</td>\n",
              "      <td>0.1</td>\n",
              "      <td>1.0</td>\n",
              "      <td>COMPLETE</td>\n",
              "    </tr>\n",
              "    <tr>\n",
              "      <th>25</th>\n",
              "      <td>25</td>\n",
              "      <td>9.607310</td>\n",
              "      <td>2021-10-04 15:39:01.862237</td>\n",
              "      <td>2021-10-04 15:39:05.244775</td>\n",
              "      <td>0 days 00:00:03.382538</td>\n",
              "      <td>0.9</td>\n",
              "      <td>0.163776</td>\n",
              "      <td>5</td>\n",
              "      <td>133</td>\n",
              "      <td>500</td>\n",
              "      <td>48</td>\n",
              "      <td>5.0</td>\n",
              "      <td>0.6</td>\n",
              "      <td>COMPLETE</td>\n",
              "    </tr>\n",
              "    <tr>\n",
              "      <th>26</th>\n",
              "      <td>26</td>\n",
              "      <td>9.659686</td>\n",
              "      <td>2021-10-04 15:39:05.247172</td>\n",
              "      <td>2021-10-04 15:39:08.994664</td>\n",
              "      <td>0 days 00:00:03.747492</td>\n",
              "      <td>0.8</td>\n",
              "      <td>0.320106</td>\n",
              "      <td>10</td>\n",
              "      <td>109</td>\n",
              "      <td>500</td>\n",
              "      <td>48</td>\n",
              "      <td>50.0</td>\n",
              "      <td>0.4</td>\n",
              "      <td>COMPLETE</td>\n",
              "    </tr>\n",
              "    <tr>\n",
              "      <th>27</th>\n",
              "      <td>27</td>\n",
              "      <td>9.954823</td>\n",
              "      <td>2021-10-04 15:39:08.996974</td>\n",
              "      <td>2021-10-04 15:39:12.596232</td>\n",
              "      <td>0 days 00:00:03.599258</td>\n",
              "      <td>1.0</td>\n",
              "      <td>0.441257</td>\n",
              "      <td>7</td>\n",
              "      <td>2</td>\n",
              "      <td>500</td>\n",
              "      <td>48</td>\n",
              "      <td>1.0</td>\n",
              "      <td>0.7</td>\n",
              "      <td>COMPLETE</td>\n",
              "    </tr>\n",
              "    <tr>\n",
              "      <th>28</th>\n",
              "      <td>28</td>\n",
              "      <td>9.559012</td>\n",
              "      <td>2021-10-04 15:39:12.598555</td>\n",
              "      <td>2021-10-04 15:39:25.043986</td>\n",
              "      <td>0 days 00:00:12.445431</td>\n",
              "      <td>0.5</td>\n",
              "      <td>0.012368</td>\n",
              "      <td>10</td>\n",
              "      <td>145</td>\n",
              "      <td>500</td>\n",
              "      <td>2020</td>\n",
              "      <td>0.1</td>\n",
              "      <td>0.5</td>\n",
              "      <td>COMPLETE</td>\n",
              "    </tr>\n",
              "    <tr>\n",
              "      <th>29</th>\n",
              "      <td>29</td>\n",
              "      <td>9.668533</td>\n",
              "      <td>2021-10-04 15:39:25.046332</td>\n",
              "      <td>2021-10-04 15:39:26.237815</td>\n",
              "      <td>0 days 00:00:01.191483</td>\n",
              "      <td>0.5</td>\n",
              "      <td>0.601489</td>\n",
              "      <td>3</td>\n",
              "      <td>184</td>\n",
              "      <td>500</td>\n",
              "      <td>2020</td>\n",
              "      <td>10.0</td>\n",
              "      <td>0.5</td>\n",
              "      <td>COMPLETE</td>\n",
              "    </tr>\n",
              "    <tr>\n",
              "      <th>30</th>\n",
              "      <td>30</td>\n",
              "      <td>9.585943</td>\n",
              "      <td>2021-10-04 15:39:26.240975</td>\n",
              "      <td>2021-10-04 15:39:29.434787</td>\n",
              "      <td>0 days 00:00:03.193812</td>\n",
              "      <td>0.5</td>\n",
              "      <td>0.178360</td>\n",
              "      <td>10</td>\n",
              "      <td>150</td>\n",
              "      <td>500</td>\n",
              "      <td>2020</td>\n",
              "      <td>5.0</td>\n",
              "      <td>0.5</td>\n",
              "      <td>COMPLETE</td>\n",
              "    </tr>\n",
              "    <tr>\n",
              "      <th>31</th>\n",
              "      <td>31</td>\n",
              "      <td>9.570645</td>\n",
              "      <td>2021-10-04 15:39:29.437138</td>\n",
              "      <td>2021-10-04 15:39:35.288459</td>\n",
              "      <td>0 days 00:00:05.851321</td>\n",
              "      <td>0.5</td>\n",
              "      <td>0.069264</td>\n",
              "      <td>9</td>\n",
              "      <td>172</td>\n",
              "      <td>500</td>\n",
              "      <td>2020</td>\n",
              "      <td>0.1</td>\n",
              "      <td>0.5</td>\n",
              "      <td>COMPLETE</td>\n",
              "    </tr>\n",
              "    <tr>\n",
              "      <th>32</th>\n",
              "      <td>32</td>\n",
              "      <td>9.561621</td>\n",
              "      <td>2021-10-04 15:39:35.290727</td>\n",
              "      <td>2021-10-04 15:39:48.740897</td>\n",
              "      <td>0 days 00:00:13.450170</td>\n",
              "      <td>0.7</td>\n",
              "      <td>0.011009</td>\n",
              "      <td>8</td>\n",
              "      <td>111</td>\n",
              "      <td>500</td>\n",
              "      <td>2020</td>\n",
              "      <td>0.1</td>\n",
              "      <td>0.8</td>\n",
              "      <td>COMPLETE</td>\n",
              "    </tr>\n",
              "    <tr>\n",
              "      <th>33</th>\n",
              "      <td>33</td>\n",
              "      <td>9.559436</td>\n",
              "      <td>2021-10-04 15:39:48.743202</td>\n",
              "      <td>2021-10-04 15:39:53.654247</td>\n",
              "      <td>0 days 00:00:04.911045</td>\n",
              "      <td>0.7</td>\n",
              "      <td>0.063423</td>\n",
              "      <td>8</td>\n",
              "      <td>117</td>\n",
              "      <td>500</td>\n",
              "      <td>2020</td>\n",
              "      <td>0.1</td>\n",
              "      <td>0.8</td>\n",
              "      <td>COMPLETE</td>\n",
              "    </tr>\n",
              "    <tr>\n",
              "      <th>34</th>\n",
              "      <td>34</td>\n",
              "      <td>9.570272</td>\n",
              "      <td>2021-10-04 15:39:53.657772</td>\n",
              "      <td>2021-10-04 15:39:58.443312</td>\n",
              "      <td>0 days 00:00:04.785540</td>\n",
              "      <td>0.7</td>\n",
              "      <td>0.055089</td>\n",
              "      <td>8</td>\n",
              "      <td>120</td>\n",
              "      <td>500</td>\n",
              "      <td>2020</td>\n",
              "      <td>0.1</td>\n",
              "      <td>0.8</td>\n",
              "      <td>COMPLETE</td>\n",
              "    </tr>\n",
              "    <tr>\n",
              "      <th>35</th>\n",
              "      <td>35</td>\n",
              "      <td>9.571362</td>\n",
              "      <td>2021-10-04 15:39:58.452582</td>\n",
              "      <td>2021-10-04 15:40:02.547078</td>\n",
              "      <td>0 days 00:00:04.094496</td>\n",
              "      <td>0.7</td>\n",
              "      <td>0.202173</td>\n",
              "      <td>11</td>\n",
              "      <td>142</td>\n",
              "      <td>500</td>\n",
              "      <td>2020</td>\n",
              "      <td>0.1</td>\n",
              "      <td>0.8</td>\n",
              "      <td>COMPLETE</td>\n",
              "    </tr>\n",
              "    <tr>\n",
              "      <th>36</th>\n",
              "      <td>36</td>\n",
              "      <td>9.608658</td>\n",
              "      <td>2021-10-04 15:40:02.549518</td>\n",
              "      <td>2021-10-04 15:40:05.147789</td>\n",
              "      <td>0 days 00:00:02.598271</td>\n",
              "      <td>0.7</td>\n",
              "      <td>0.286007</td>\n",
              "      <td>7</td>\n",
              "      <td>80</td>\n",
              "      <td>500</td>\n",
              "      <td>2020</td>\n",
              "      <td>0.1</td>\n",
              "      <td>0.8</td>\n",
              "      <td>COMPLETE</td>\n",
              "    </tr>\n",
              "    <tr>\n",
              "      <th>37</th>\n",
              "      <td>37</td>\n",
              "      <td>9.627795</td>\n",
              "      <td>2021-10-04 15:40:05.151313</td>\n",
              "      <td>2021-10-04 15:40:09.502552</td>\n",
              "      <td>0 days 00:00:04.351239</td>\n",
              "      <td>0.7</td>\n",
              "      <td>0.131578</td>\n",
              "      <td>10</td>\n",
              "      <td>50</td>\n",
              "      <td>500</td>\n",
              "      <td>2020</td>\n",
              "      <td>0.1</td>\n",
              "      <td>0.8</td>\n",
              "      <td>COMPLETE</td>\n",
              "    </tr>\n",
              "    <tr>\n",
              "      <th>38</th>\n",
              "      <td>38</td>\n",
              "      <td>9.559281</td>\n",
              "      <td>2021-10-04 15:40:09.505656</td>\n",
              "      <td>2021-10-04 15:40:22.954246</td>\n",
              "      <td>0 days 00:00:13.448590</td>\n",
              "      <td>0.7</td>\n",
              "      <td>0.011277</td>\n",
              "      <td>8</td>\n",
              "      <td>114</td>\n",
              "      <td>500</td>\n",
              "      <td>2020</td>\n",
              "      <td>0.1</td>\n",
              "      <td>0.8</td>\n",
              "      <td>COMPLETE</td>\n",
              "    </tr>\n",
              "    <tr>\n",
              "      <th>39</th>\n",
              "      <td>39</td>\n",
              "      <td>9.580615</td>\n",
              "      <td>2021-10-04 15:40:22.958110</td>\n",
              "      <td>2021-10-04 15:40:27.374670</td>\n",
              "      <td>0 days 00:00:04.416560</td>\n",
              "      <td>0.7</td>\n",
              "      <td>0.107854</td>\n",
              "      <td>8</td>\n",
              "      <td>164</td>\n",
              "      <td>500</td>\n",
              "      <td>2020</td>\n",
              "      <td>100.0</td>\n",
              "      <td>0.7</td>\n",
              "      <td>COMPLETE</td>\n",
              "    </tr>\n",
              "    <tr>\n",
              "      <th>40</th>\n",
              "      <td>40</td>\n",
              "      <td>9.672820</td>\n",
              "      <td>2021-10-04 15:40:27.377124</td>\n",
              "      <td>2021-10-04 15:40:29.520852</td>\n",
              "      <td>0 days 00:00:02.143728</td>\n",
              "      <td>0.7</td>\n",
              "      <td>0.915083</td>\n",
              "      <td>6</td>\n",
              "      <td>74</td>\n",
              "      <td>500</td>\n",
              "      <td>2020</td>\n",
              "      <td>50.0</td>\n",
              "      <td>0.8</td>\n",
              "      <td>COMPLETE</td>\n",
              "    </tr>\n",
              "    <tr>\n",
              "      <th>41</th>\n",
              "      <td>41</td>\n",
              "      <td>10.128049</td>\n",
              "      <td>2021-10-04 15:40:29.524106</td>\n",
              "      <td>2021-10-04 15:40:45.403225</td>\n",
              "      <td>0 days 00:00:15.879119</td>\n",
              "      <td>0.7</td>\n",
              "      <td>0.004882</td>\n",
              "      <td>9</td>\n",
              "      <td>113</td>\n",
              "      <td>500</td>\n",
              "      <td>2020</td>\n",
              "      <td>0.1</td>\n",
              "      <td>0.8</td>\n",
              "      <td>COMPLETE</td>\n",
              "    </tr>\n",
              "    <tr>\n",
              "      <th>42</th>\n",
              "      <td>42</td>\n",
              "      <td>9.583925</td>\n",
              "      <td>2021-10-04 15:40:45.406571</td>\n",
              "      <td>2021-10-04 15:40:49.958511</td>\n",
              "      <td>0 days 00:00:04.551940</td>\n",
              "      <td>0.7</td>\n",
              "      <td>0.080087</td>\n",
              "      <td>8</td>\n",
              "      <td>97</td>\n",
              "      <td>500</td>\n",
              "      <td>2020</td>\n",
              "      <td>0.1</td>\n",
              "      <td>0.8</td>\n",
              "      <td>COMPLETE</td>\n",
              "    </tr>\n",
              "    <tr>\n",
              "      <th>43</th>\n",
              "      <td>43</td>\n",
              "      <td>9.554353</td>\n",
              "      <td>2021-10-04 15:40:49.962031</td>\n",
              "      <td>2021-10-04 15:40:54.823804</td>\n",
              "      <td>0 days 00:00:04.861773</td>\n",
              "      <td>0.7</td>\n",
              "      <td>0.046833</td>\n",
              "      <td>7</td>\n",
              "      <td>136</td>\n",
              "      <td>500</td>\n",
              "      <td>2020</td>\n",
              "      <td>0.1</td>\n",
              "      <td>0.8</td>\n",
              "      <td>COMPLETE</td>\n",
              "    </tr>\n",
              "    <tr>\n",
              "      <th>44</th>\n",
              "      <td>44</td>\n",
              "      <td>9.547607</td>\n",
              "      <td>2021-10-04 15:40:54.826218</td>\n",
              "      <td>2021-10-04 15:41:00.081254</td>\n",
              "      <td>0 days 00:00:05.255036</td>\n",
              "      <td>0.8</td>\n",
              "      <td>0.047536</td>\n",
              "      <td>7</td>\n",
              "      <td>142</td>\n",
              "      <td>500</td>\n",
              "      <td>24</td>\n",
              "      <td>0.1</td>\n",
              "      <td>0.8</td>\n",
              "      <td>COMPLETE</td>\n",
              "    </tr>\n",
              "    <tr>\n",
              "      <th>45</th>\n",
              "      <td>45</td>\n",
              "      <td>9.581551</td>\n",
              "      <td>2021-10-04 15:41:00.084355</td>\n",
              "      <td>2021-10-04 15:41:03.276486</td>\n",
              "      <td>0 days 00:00:03.192131</td>\n",
              "      <td>0.8</td>\n",
              "      <td>0.131792</td>\n",
              "      <td>7</td>\n",
              "      <td>144</td>\n",
              "      <td>500</td>\n",
              "      <td>24</td>\n",
              "      <td>1.0</td>\n",
              "      <td>0.8</td>\n",
              "      <td>COMPLETE</td>\n",
              "    </tr>\n",
              "    <tr>\n",
              "      <th>46</th>\n",
              "      <td>46</td>\n",
              "      <td>9.570046</td>\n",
              "      <td>2021-10-04 15:41:03.279883</td>\n",
              "      <td>2021-10-04 15:41:10.316340</td>\n",
              "      <td>0 days 00:00:07.036457</td>\n",
              "      <td>0.8</td>\n",
              "      <td>0.040782</td>\n",
              "      <td>5</td>\n",
              "      <td>212</td>\n",
              "      <td>500</td>\n",
              "      <td>24</td>\n",
              "      <td>100.0</td>\n",
              "      <td>0.6</td>\n",
              "      <td>COMPLETE</td>\n",
              "    </tr>\n",
              "    <tr>\n",
              "      <th>47</th>\n",
              "      <td>47</td>\n",
              "      <td>9.565528</td>\n",
              "      <td>2021-10-04 15:41:10.318735</td>\n",
              "      <td>2021-10-04 15:41:13.000315</td>\n",
              "      <td>0 days 00:00:02.681580</td>\n",
              "      <td>0.8</td>\n",
              "      <td>0.197515</td>\n",
              "      <td>6</td>\n",
              "      <td>132</td>\n",
              "      <td>500</td>\n",
              "      <td>24</td>\n",
              "      <td>0.1</td>\n",
              "      <td>0.7</td>\n",
              "      <td>COMPLETE</td>\n",
              "    </tr>\n",
              "    <tr>\n",
              "      <th>48</th>\n",
              "      <td>48</td>\n",
              "      <td>9.761533</td>\n",
              "      <td>2021-10-04 15:41:13.002615</td>\n",
              "      <td>2021-10-04 15:41:15.510821</td>\n",
              "      <td>0 days 00:00:02.508206</td>\n",
              "      <td>0.8</td>\n",
              "      <td>0.774721</td>\n",
              "      <td>7</td>\n",
              "      <td>178</td>\n",
              "      <td>500</td>\n",
              "      <td>24</td>\n",
              "      <td>5.0</td>\n",
              "      <td>0.4</td>\n",
              "      <td>COMPLETE</td>\n",
              "    </tr>\n",
              "    <tr>\n",
              "      <th>49</th>\n",
              "      <td>49</td>\n",
              "      <td>9.585157</td>\n",
              "      <td>2021-10-04 15:41:15.513227</td>\n",
              "      <td>2021-10-04 15:41:19.712177</td>\n",
              "      <td>0 days 00:00:04.198950</td>\n",
              "      <td>0.9</td>\n",
              "      <td>0.151504</td>\n",
              "      <td>9</td>\n",
              "      <td>93</td>\n",
              "      <td>500</td>\n",
              "      <td>24</td>\n",
              "      <td>0.1</td>\n",
              "      <td>0.8</td>\n",
              "      <td>COMPLETE</td>\n",
              "    </tr>\n",
              "  </tbody>\n",
              "</table>\n",
              "</div>"
            ],
            "text/plain": [
              "    number      value  ... params_subsample     state\n",
              "0        0   9.568782  ...              0.5  COMPLETE\n",
              "1        1   9.616388  ...              0.8  COMPLETE\n",
              "2        2   9.639972  ...              0.7  COMPLETE\n",
              "3        3   9.571687  ...              1.0  COMPLETE\n",
              "4        4   9.600254  ...              0.7  COMPLETE\n",
              "5        5   9.656755  ...              0.5  COMPLETE\n",
              "6        6   9.577755  ...              1.0  COMPLETE\n",
              "7        7   9.836606  ...              0.6  COMPLETE\n",
              "8        8   9.636998  ...              0.8  COMPLETE\n",
              "9        9   9.638093  ...              0.5  COMPLETE\n",
              "10      10  10.051718  ...              0.4  COMPLETE\n",
              "11      11   9.588661  ...              1.0  COMPLETE\n",
              "12      12   9.557522  ...              1.0  COMPLETE\n",
              "13      13   9.597397  ...              0.5  COMPLETE\n",
              "14      14   9.638888  ...              0.6  COMPLETE\n",
              "15      15   9.591936  ...              0.4  COMPLETE\n",
              "16      16   9.581801  ...              1.0  COMPLETE\n",
              "17      17   9.767541  ...              0.5  COMPLETE\n",
              "18      18  23.434825  ...              1.0  COMPLETE\n",
              "19      19   9.592844  ...              0.5  COMPLETE\n",
              "20      20   9.572856  ...              0.8  COMPLETE\n",
              "21      21   9.568942  ...              1.0  COMPLETE\n",
              "22      22   9.575018  ...              1.0  COMPLETE\n",
              "23      23   9.614894  ...              1.0  COMPLETE\n",
              "24      24   9.573773  ...              1.0  COMPLETE\n",
              "25      25   9.607310  ...              0.6  COMPLETE\n",
              "26      26   9.659686  ...              0.4  COMPLETE\n",
              "27      27   9.954823  ...              0.7  COMPLETE\n",
              "28      28   9.559012  ...              0.5  COMPLETE\n",
              "29      29   9.668533  ...              0.5  COMPLETE\n",
              "30      30   9.585943  ...              0.5  COMPLETE\n",
              "31      31   9.570645  ...              0.5  COMPLETE\n",
              "32      32   9.561621  ...              0.8  COMPLETE\n",
              "33      33   9.559436  ...              0.8  COMPLETE\n",
              "34      34   9.570272  ...              0.8  COMPLETE\n",
              "35      35   9.571362  ...              0.8  COMPLETE\n",
              "36      36   9.608658  ...              0.8  COMPLETE\n",
              "37      37   9.627795  ...              0.8  COMPLETE\n",
              "38      38   9.559281  ...              0.8  COMPLETE\n",
              "39      39   9.580615  ...              0.7  COMPLETE\n",
              "40      40   9.672820  ...              0.8  COMPLETE\n",
              "41      41  10.128049  ...              0.8  COMPLETE\n",
              "42      42   9.583925  ...              0.8  COMPLETE\n",
              "43      43   9.554353  ...              0.8  COMPLETE\n",
              "44      44   9.547607  ...              0.8  COMPLETE\n",
              "45      45   9.581551  ...              0.8  COMPLETE\n",
              "46      46   9.570046  ...              0.6  COMPLETE\n",
              "47      47   9.565528  ...              0.7  COMPLETE\n",
              "48      48   9.761533  ...              0.4  COMPLETE\n",
              "49      49   9.585157  ...              0.8  COMPLETE\n",
              "\n",
              "[50 rows x 14 columns]"
            ]
          },
          "metadata": {},
          "execution_count": 113
        }
      ]
    },
    {
      "cell_type": "code",
      "metadata": {
        "colab": {
          "base_uri": "https://localhost:8080/"
        },
        "id": "3_6ScI4uObJf",
        "outputId": "ab71a810-407a-4fd0-d076-84993f8b5008"
      },
      "source": [
        "study.best_params"
      ],
      "execution_count": 93,
      "outputs": [
        {
          "output_type": "execute_result",
          "data": {
            "text/plain": [
              "{'alpha': 1.3001207017027154e-07,\n",
              " 'colsample_bytree': 0.8,\n",
              " 'lambda': 0.05877022707100941,\n",
              " 'learning_rate': 0.0020427007920456926,\n",
              " 'max_depth': 10,\n",
              " 'min_child_weight': 259,\n",
              " 'random_state': 48,\n",
              " 'subsample': 1.0}"
            ]
          },
          "metadata": {},
          "execution_count": 93
        }
      ]
    },
    {
      "cell_type": "markdown",
      "metadata": {
        "id": "09-kkHE_rEeG"
      },
      "source": [
        "### Visualizing the Optimization History - Explains the best score at each trails."
      ]
    },
    {
      "cell_type": "code",
      "metadata": {
        "colab": {
          "base_uri": "https://localhost:8080/",
          "height": 542
        },
        "id": "AAhfYhOYOjuH",
        "outputId": "60639af6-7a5d-464a-8701-f52558588498"
      },
      "source": [
        "optuna.visualization.plot_optimization_history(study)"
      ],
      "execution_count": 115,
      "outputs": [
        {
          "output_type": "display_data",
          "data": {
            "text/html": [
              "<html>\n",
              "<head><meta charset=\"utf-8\" /></head>\n",
              "<body>\n",
              "    <div>\n",
              "            <script src=\"https://cdnjs.cloudflare.com/ajax/libs/mathjax/2.7.5/MathJax.js?config=TeX-AMS-MML_SVG\"></script><script type=\"text/javascript\">if (window.MathJax) {MathJax.Hub.Config({SVG: {font: \"STIX-Web\"}});}</script>\n",
              "                <script type=\"text/javascript\">window.PlotlyConfig = {MathJaxConfig: 'local'};</script>\n",
              "        <script src=\"https://cdn.plot.ly/plotly-latest.min.js\"></script>    \n",
              "            <div id=\"156a3875-fe06-4ea4-a13a-fb6098d593e9\" class=\"plotly-graph-div\" style=\"height:525px; width:100%;\"></div>\n",
              "            <script type=\"text/javascript\">\n",
              "                \n",
              "                    window.PLOTLYENV=window.PLOTLYENV || {};\n",
              "                    \n",
              "                if (document.getElementById(\"156a3875-fe06-4ea4-a13a-fb6098d593e9\")) {\n",
              "                    Plotly.newPlot(\n",
              "                        '156a3875-fe06-4ea4-a13a-fb6098d593e9',\n",
              "                        [{\"mode\": \"markers\", \"name\": \"Objective Value\", \"type\": \"scatter\", \"x\": [0, 1, 2, 3, 4, 5, 6, 7, 8, 9, 10, 11, 12, 13, 14, 15, 16, 17, 18, 19, 20, 21, 22, 23, 24, 25, 26, 27, 28, 29, 30, 31, 32, 33, 34, 35, 36, 37, 38, 39, 40, 41, 42, 43, 44, 45, 46, 47, 48, 49], \"y\": [9.568781637823227, 9.61638766800896, 9.639972369971087, 9.571686765652023, 9.600253517077046, 9.656755051752546, 9.577755218447942, 9.836606202560223, 9.636997910508535, 9.638093031123107, 10.051717817262857, 9.588660697142362, 9.55752234082176, 9.597397219374438, 9.63888835054381, 9.59193607885431, 9.581801430120228, 9.767541442806303, 23.434824768855417, 9.592843635105474, 9.572856454698744, 9.56894214739348, 9.575018409713248, 9.614893676173038, 9.573773365826595, 9.607309632949827, 9.65968609205725, 9.954822806152457, 9.559011794361863, 9.668533382786986, 9.585943341265375, 9.570645123669436, 9.561621278347758, 9.559435953147611, 9.570272380076588, 9.571362373800001, 9.608658239516233, 9.627795299190629, 9.559281168990369, 9.58061494638999, 9.67281961669648, 10.128048910431962, 9.583924500377162, 9.554353057916941, 9.547606967659624, 9.58155096405566, 9.570046449121229, 9.565527702887112, 9.761532961093339, 9.585156661381234]}, {\"name\": \"Best Value\", \"type\": \"scatter\", \"x\": [0, 1, 2, 3, 4, 5, 6, 7, 8, 9, 10, 11, 12, 13, 14, 15, 16, 17, 18, 19, 20, 21, 22, 23, 24, 25, 26, 27, 28, 29, 30, 31, 32, 33, 34, 35, 36, 37, 38, 39, 40, 41, 42, 43, 44, 45, 46, 47, 48, 49], \"y\": [9.568781637823227, 9.568781637823227, 9.568781637823227, 9.568781637823227, 9.568781637823227, 9.568781637823227, 9.568781637823227, 9.568781637823227, 9.568781637823227, 9.568781637823227, 9.568781637823227, 9.568781637823227, 9.55752234082176, 9.55752234082176, 9.55752234082176, 9.55752234082176, 9.55752234082176, 9.55752234082176, 9.55752234082176, 9.55752234082176, 9.55752234082176, 9.55752234082176, 9.55752234082176, 9.55752234082176, 9.55752234082176, 9.55752234082176, 9.55752234082176, 9.55752234082176, 9.55752234082176, 9.55752234082176, 9.55752234082176, 9.55752234082176, 9.55752234082176, 9.55752234082176, 9.55752234082176, 9.55752234082176, 9.55752234082176, 9.55752234082176, 9.55752234082176, 9.55752234082176, 9.55752234082176, 9.55752234082176, 9.55752234082176, 9.554353057916941, 9.547606967659624, 9.547606967659624, 9.547606967659624, 9.547606967659624, 9.547606967659624, 9.547606967659624]}],\n",
              "                        {\"template\": {\"data\": {\"bar\": [{\"error_x\": {\"color\": \"#2a3f5f\"}, \"error_y\": {\"color\": \"#2a3f5f\"}, \"marker\": {\"line\": {\"color\": \"#E5ECF6\", \"width\": 0.5}}, \"type\": \"bar\"}], \"barpolar\": [{\"marker\": {\"line\": {\"color\": \"#E5ECF6\", \"width\": 0.5}}, \"type\": \"barpolar\"}], \"carpet\": [{\"aaxis\": {\"endlinecolor\": \"#2a3f5f\", \"gridcolor\": \"white\", \"linecolor\": \"white\", \"minorgridcolor\": \"white\", \"startlinecolor\": \"#2a3f5f\"}, \"baxis\": {\"endlinecolor\": \"#2a3f5f\", \"gridcolor\": \"white\", \"linecolor\": \"white\", \"minorgridcolor\": \"white\", \"startlinecolor\": \"#2a3f5f\"}, \"type\": \"carpet\"}], \"choropleth\": [{\"colorbar\": {\"outlinewidth\": 0, \"ticks\": \"\"}, \"type\": \"choropleth\"}], \"contour\": [{\"colorbar\": {\"outlinewidth\": 0, \"ticks\": \"\"}, \"colorscale\": [[0.0, \"#0d0887\"], [0.1111111111111111, \"#46039f\"], [0.2222222222222222, \"#7201a8\"], [0.3333333333333333, \"#9c179e\"], [0.4444444444444444, \"#bd3786\"], [0.5555555555555556, \"#d8576b\"], [0.6666666666666666, \"#ed7953\"], [0.7777777777777778, \"#fb9f3a\"], [0.8888888888888888, \"#fdca26\"], [1.0, \"#f0f921\"]], \"type\": \"contour\"}], \"contourcarpet\": [{\"colorbar\": {\"outlinewidth\": 0, \"ticks\": \"\"}, \"type\": \"contourcarpet\"}], \"heatmap\": [{\"colorbar\": {\"outlinewidth\": 0, \"ticks\": \"\"}, \"colorscale\": [[0.0, \"#0d0887\"], [0.1111111111111111, \"#46039f\"], [0.2222222222222222, \"#7201a8\"], [0.3333333333333333, \"#9c179e\"], [0.4444444444444444, \"#bd3786\"], [0.5555555555555556, \"#d8576b\"], [0.6666666666666666, \"#ed7953\"], [0.7777777777777778, \"#fb9f3a\"], [0.8888888888888888, \"#fdca26\"], [1.0, \"#f0f921\"]], \"type\": \"heatmap\"}], \"heatmapgl\": [{\"colorbar\": {\"outlinewidth\": 0, \"ticks\": \"\"}, \"colorscale\": [[0.0, \"#0d0887\"], [0.1111111111111111, \"#46039f\"], [0.2222222222222222, \"#7201a8\"], [0.3333333333333333, \"#9c179e\"], [0.4444444444444444, \"#bd3786\"], [0.5555555555555556, \"#d8576b\"], [0.6666666666666666, \"#ed7953\"], [0.7777777777777778, \"#fb9f3a\"], [0.8888888888888888, \"#fdca26\"], [1.0, \"#f0f921\"]], \"type\": \"heatmapgl\"}], \"histogram\": [{\"marker\": {\"colorbar\": {\"outlinewidth\": 0, \"ticks\": \"\"}}, \"type\": \"histogram\"}], \"histogram2d\": [{\"colorbar\": {\"outlinewidth\": 0, \"ticks\": \"\"}, \"colorscale\": [[0.0, \"#0d0887\"], [0.1111111111111111, \"#46039f\"], [0.2222222222222222, \"#7201a8\"], [0.3333333333333333, \"#9c179e\"], [0.4444444444444444, \"#bd3786\"], [0.5555555555555556, \"#d8576b\"], [0.6666666666666666, \"#ed7953\"], [0.7777777777777778, \"#fb9f3a\"], [0.8888888888888888, \"#fdca26\"], [1.0, \"#f0f921\"]], \"type\": \"histogram2d\"}], \"histogram2dcontour\": [{\"colorbar\": {\"outlinewidth\": 0, \"ticks\": \"\"}, \"colorscale\": [[0.0, \"#0d0887\"], [0.1111111111111111, \"#46039f\"], [0.2222222222222222, \"#7201a8\"], [0.3333333333333333, \"#9c179e\"], [0.4444444444444444, \"#bd3786\"], [0.5555555555555556, \"#d8576b\"], [0.6666666666666666, \"#ed7953\"], [0.7777777777777778, \"#fb9f3a\"], [0.8888888888888888, \"#fdca26\"], [1.0, \"#f0f921\"]], \"type\": \"histogram2dcontour\"}], \"mesh3d\": [{\"colorbar\": {\"outlinewidth\": 0, \"ticks\": \"\"}, \"type\": \"mesh3d\"}], \"parcoords\": [{\"line\": {\"colorbar\": {\"outlinewidth\": 0, \"ticks\": \"\"}}, \"type\": \"parcoords\"}], \"pie\": [{\"automargin\": true, \"type\": \"pie\"}], \"scatter\": [{\"marker\": {\"colorbar\": {\"outlinewidth\": 0, \"ticks\": \"\"}}, \"type\": \"scatter\"}], \"scatter3d\": [{\"line\": {\"colorbar\": {\"outlinewidth\": 0, \"ticks\": \"\"}}, \"marker\": {\"colorbar\": {\"outlinewidth\": 0, \"ticks\": \"\"}}, \"type\": \"scatter3d\"}], \"scattercarpet\": [{\"marker\": {\"colorbar\": {\"outlinewidth\": 0, \"ticks\": \"\"}}, \"type\": \"scattercarpet\"}], \"scattergeo\": [{\"marker\": {\"colorbar\": {\"outlinewidth\": 0, \"ticks\": \"\"}}, \"type\": \"scattergeo\"}], \"scattergl\": [{\"marker\": {\"colorbar\": {\"outlinewidth\": 0, \"ticks\": \"\"}}, \"type\": \"scattergl\"}], \"scattermapbox\": [{\"marker\": {\"colorbar\": {\"outlinewidth\": 0, \"ticks\": \"\"}}, \"type\": \"scattermapbox\"}], \"scatterpolar\": [{\"marker\": {\"colorbar\": {\"outlinewidth\": 0, \"ticks\": \"\"}}, \"type\": \"scatterpolar\"}], \"scatterpolargl\": [{\"marker\": {\"colorbar\": {\"outlinewidth\": 0, \"ticks\": \"\"}}, \"type\": \"scatterpolargl\"}], \"scatterternary\": [{\"marker\": {\"colorbar\": {\"outlinewidth\": 0, \"ticks\": \"\"}}, \"type\": \"scatterternary\"}], \"surface\": [{\"colorbar\": {\"outlinewidth\": 0, \"ticks\": \"\"}, \"colorscale\": [[0.0, \"#0d0887\"], [0.1111111111111111, \"#46039f\"], [0.2222222222222222, \"#7201a8\"], [0.3333333333333333, \"#9c179e\"], [0.4444444444444444, \"#bd3786\"], [0.5555555555555556, \"#d8576b\"], [0.6666666666666666, \"#ed7953\"], [0.7777777777777778, \"#fb9f3a\"], [0.8888888888888888, \"#fdca26\"], [1.0, \"#f0f921\"]], \"type\": \"surface\"}], \"table\": [{\"cells\": {\"fill\": {\"color\": \"#EBF0F8\"}, \"line\": {\"color\": \"white\"}}, \"header\": {\"fill\": {\"color\": \"#C8D4E3\"}, \"line\": {\"color\": \"white\"}}, \"type\": \"table\"}]}, \"layout\": {\"annotationdefaults\": {\"arrowcolor\": \"#2a3f5f\", \"arrowhead\": 0, \"arrowwidth\": 1}, \"coloraxis\": {\"colorbar\": {\"outlinewidth\": 0, \"ticks\": \"\"}}, \"colorscale\": {\"diverging\": [[0, \"#8e0152\"], [0.1, \"#c51b7d\"], [0.2, \"#de77ae\"], [0.3, \"#f1b6da\"], [0.4, \"#fde0ef\"], [0.5, \"#f7f7f7\"], [0.6, \"#e6f5d0\"], [0.7, \"#b8e186\"], [0.8, \"#7fbc41\"], [0.9, \"#4d9221\"], [1, \"#276419\"]], \"sequential\": [[0.0, \"#0d0887\"], [0.1111111111111111, \"#46039f\"], [0.2222222222222222, \"#7201a8\"], [0.3333333333333333, \"#9c179e\"], [0.4444444444444444, \"#bd3786\"], [0.5555555555555556, \"#d8576b\"], [0.6666666666666666, \"#ed7953\"], [0.7777777777777778, \"#fb9f3a\"], [0.8888888888888888, \"#fdca26\"], [1.0, \"#f0f921\"]], \"sequentialminus\": [[0.0, \"#0d0887\"], [0.1111111111111111, \"#46039f\"], [0.2222222222222222, \"#7201a8\"], [0.3333333333333333, \"#9c179e\"], [0.4444444444444444, \"#bd3786\"], [0.5555555555555556, \"#d8576b\"], [0.6666666666666666, \"#ed7953\"], [0.7777777777777778, \"#fb9f3a\"], [0.8888888888888888, \"#fdca26\"], [1.0, \"#f0f921\"]]}, \"colorway\": [\"#636efa\", \"#EF553B\", \"#00cc96\", \"#ab63fa\", \"#FFA15A\", \"#19d3f3\", \"#FF6692\", \"#B6E880\", \"#FF97FF\", \"#FECB52\"], \"font\": {\"color\": \"#2a3f5f\"}, \"geo\": {\"bgcolor\": \"white\", \"lakecolor\": \"white\", \"landcolor\": \"#E5ECF6\", \"showlakes\": true, \"showland\": true, \"subunitcolor\": \"white\"}, \"hoverlabel\": {\"align\": \"left\"}, \"hovermode\": \"closest\", \"mapbox\": {\"style\": \"light\"}, \"paper_bgcolor\": \"white\", \"plot_bgcolor\": \"#E5ECF6\", \"polar\": {\"angularaxis\": {\"gridcolor\": \"white\", \"linecolor\": \"white\", \"ticks\": \"\"}, \"bgcolor\": \"#E5ECF6\", \"radialaxis\": {\"gridcolor\": \"white\", \"linecolor\": \"white\", \"ticks\": \"\"}}, \"scene\": {\"xaxis\": {\"backgroundcolor\": \"#E5ECF6\", \"gridcolor\": \"white\", \"gridwidth\": 2, \"linecolor\": \"white\", \"showbackground\": true, \"ticks\": \"\", \"zerolinecolor\": \"white\"}, \"yaxis\": {\"backgroundcolor\": \"#E5ECF6\", \"gridcolor\": \"white\", \"gridwidth\": 2, \"linecolor\": \"white\", \"showbackground\": true, \"ticks\": \"\", \"zerolinecolor\": \"white\"}, \"zaxis\": {\"backgroundcolor\": \"#E5ECF6\", \"gridcolor\": \"white\", \"gridwidth\": 2, \"linecolor\": \"white\", \"showbackground\": true, \"ticks\": \"\", \"zerolinecolor\": \"white\"}}, \"shapedefaults\": {\"line\": {\"color\": \"#2a3f5f\"}}, \"ternary\": {\"aaxis\": {\"gridcolor\": \"white\", \"linecolor\": \"white\", \"ticks\": \"\"}, \"baxis\": {\"gridcolor\": \"white\", \"linecolor\": \"white\", \"ticks\": \"\"}, \"bgcolor\": \"#E5ECF6\", \"caxis\": {\"gridcolor\": \"white\", \"linecolor\": \"white\", \"ticks\": \"\"}}, \"title\": {\"x\": 0.05}, \"xaxis\": {\"automargin\": true, \"gridcolor\": \"white\", \"linecolor\": \"white\", \"ticks\": \"\", \"title\": {\"standoff\": 15}, \"zerolinecolor\": \"white\", \"zerolinewidth\": 2}, \"yaxis\": {\"automargin\": true, \"gridcolor\": \"white\", \"linecolor\": \"white\", \"ticks\": \"\", \"title\": {\"standoff\": 15}, \"zerolinecolor\": \"white\", \"zerolinewidth\": 2}}}, \"title\": {\"text\": \"Optimization History Plot\"}, \"xaxis\": {\"title\": {\"text\": \"#Trials\"}}, \"yaxis\": {\"title\": {\"text\": \"Objective Value\"}}},\n",
              "                        {\"responsive\": true}\n",
              "                    ).then(function(){\n",
              "                            \n",
              "var gd = document.getElementById('156a3875-fe06-4ea4-a13a-fb6098d593e9');\n",
              "var x = new MutationObserver(function (mutations, observer) {{\n",
              "        var display = window.getComputedStyle(gd).display;\n",
              "        if (!display || display === 'none') {{\n",
              "            console.log([gd, 'removed!']);\n",
              "            Plotly.purge(gd);\n",
              "            observer.disconnect();\n",
              "        }}\n",
              "}});\n",
              "\n",
              "// Listen for the removal of the full notebook cells\n",
              "var notebookContainer = gd.closest('#notebook-container');\n",
              "if (notebookContainer) {{\n",
              "    x.observe(notebookContainer, {childList: true});\n",
              "}}\n",
              "\n",
              "// Listen for the clearing of the current output cell\n",
              "var outputEl = gd.closest('.output');\n",
              "if (outputEl) {{\n",
              "    x.observe(outputEl, {childList: true});\n",
              "}}\n",
              "\n",
              "                        })\n",
              "                };\n",
              "                \n",
              "            </script>\n",
              "        </div>\n",
              "</body>\n",
              "</html>"
            ]
          },
          "metadata": {}
        }
      ]
    },
    {
      "cell_type": "markdown",
      "metadata": {
        "id": "5STPbJQUOqyM"
      },
      "source": [
        "### Plot_parallel_coordinate: interactively visualizes the hyperparameters and scores"
      ]
    },
    {
      "cell_type": "code",
      "metadata": {
        "colab": {
          "base_uri": "https://localhost:8080/",
          "height": 542
        },
        "id": "MTMBc0gkOuyO",
        "outputId": "30075637-55d6-443f-ab27-742f920f875b"
      },
      "source": [
        "optuna.visualization.plot_parallel_coordinate(study)"
      ],
      "execution_count": 116,
      "outputs": [
        {
          "output_type": "display_data",
          "data": {
            "text/html": [
              "<html>\n",
              "<head><meta charset=\"utf-8\" /></head>\n",
              "<body>\n",
              "    <div>\n",
              "            <script src=\"https://cdnjs.cloudflare.com/ajax/libs/mathjax/2.7.5/MathJax.js?config=TeX-AMS-MML_SVG\"></script><script type=\"text/javascript\">if (window.MathJax) {MathJax.Hub.Config({SVG: {font: \"STIX-Web\"}});}</script>\n",
              "                <script type=\"text/javascript\">window.PlotlyConfig = {MathJaxConfig: 'local'};</script>\n",
              "        <script src=\"https://cdn.plot.ly/plotly-latest.min.js\"></script>    \n",
              "            <div id=\"751844b1-fc0a-48bf-b10b-b233bcfac879\" class=\"plotly-graph-div\" style=\"height:525px; width:100%;\"></div>\n",
              "            <script type=\"text/javascript\">\n",
              "                \n",
              "                    window.PLOTLYENV=window.PLOTLYENV || {};\n",
              "                    \n",
              "                if (document.getElementById(\"751844b1-fc0a-48bf-b10b-b233bcfac879\")) {\n",
              "                    Plotly.newPlot(\n",
              "                        '751844b1-fc0a-48bf-b10b-b233bcfac879',\n",
              "                        [{\"dimensions\": [{\"label\": \"Objective Value\", \"range\": [9.547606967659624, 23.434824768855417], \"values\": [10.051717817262857, 23.434824768855417, 9.638093031123107, 9.568781637823227, 9.767541442806303, 9.559011794361863, 9.570645123669436, 9.585943341265375, 9.668533382786986, 9.600253517077046, 9.571686765652023, 9.588660697142362, 9.56894214739348, 9.575018409713248, 9.614893676173038, 9.573773365826595, 9.597397219374438, 9.55752234082176, 9.581801430120228, 9.592843635105474, 9.572856454698744, 9.639972369971087, 9.61638766800896, 9.561621278347758, 9.559435953147611, 9.570272380076588, 9.571362373800001, 9.608658239516233, 9.627795299190629, 9.559281168990369, 10.128048910431962, 9.583924500377162, 9.554353057916941, 9.67281961669648, 9.58061494638999, 9.565527702887112, 9.547606967659624, 9.58155096405566, 9.761532961093339, 9.570046449121229, 9.577755218447942, 9.836606202560223, 9.65968609205725, 9.585156661381234, 9.656755051752546, 9.607309632949827, 9.59193607885431, 9.954822806152457, 9.63888835054381, 9.636997910508535]}, {\"label\": \"colsample_bytree\", \"range\": [0, 5], \"ticktext\": [0.5, 0.6, 0.7, 0.8, 0.9, 1.0], \"tickvals\": [0, 1, 2, 3, 4, 5], \"values\": [0, 0, 0, 0, 0, 0, 0, 0, 0, 0, 1, 1, 1, 1, 1, 1, 1, 1, 1, 1, 2, 2, 2, 2, 2, 2, 2, 2, 2, 2, 2, 2, 2, 2, 2, 3, 3, 3, 3, 3, 3, 3, 3, 4, 4, 4, 4, 5, 5, 5]}, {\"label\": \"learning_rate\", \"range\": [0.0012571553319187072, 0.9150832013563148], \"values\": [0.9112709116935019, 0.0012571553319187072, 0.25443092569660947, 0.10468598509995006, 0.7076617506202928, 0.0123682956180217, 0.0692642812431251, 0.1783601870724144, 0.6014893339519825, 0.35101312667035056, 0.016964294086155896, 0.03637259470182558, 0.00997893926385062, 0.07990571782485359, 0.22381759001174278, 0.07791736840959575, 0.1730438801188095, 0.020245263713278283, 0.3749238671121523, 0.24240989832841286, 0.10991137580789087, 0.26677563404135307, 0.5521781910953454, 0.011008747514058115, 0.06342267482151942, 0.055089374664581164, 0.20217309174671275, 0.2860065791038583, 0.13157844891547432, 0.011276695037204769, 0.004881740892953266, 0.08008726010278316, 0.04683325567808581, 0.9150832013563148, 0.1078542035997751, 0.19751539710618352, 0.04753588425348945, 0.1317917808929854, 0.7747208301496255, 0.04078157172680426, 0.11778742760482278, 0.7447483170416535, 0.32010584309181245, 0.15150397957646028, 0.5600553959069497, 0.16377553143687246, 0.14114996819063488, 0.44125682465757116, 0.36813215691575385, 0.5062185148570854]}, {\"label\": \"max_depth\", \"range\": [2, 12], \"values\": [6, 4, 12, 5, 8, 10, 9, 10, 3, 3, 9, 8, 9, 10, 7, 8, 4, 8, 6, 6, 9, 5, 2, 8, 8, 8, 11, 7, 10, 8, 9, 8, 7, 6, 8, 6, 7, 7, 7, 5, 11, 12, 10, 9, 12, 5, 9, 7, 7, 11]}, {\"label\": \"min_child_weight\", \"range\": [2, 292], \"values\": [16, 160, 252, 150, 69, 145, 172, 150, 184, 156, 107, 97, 104, 87, 53, 184, 123, 113, 216, 244, 125, 35, 169, 111, 117, 120, 142, 80, 50, 114, 113, 97, 136, 74, 164, 132, 142, 144, 178, 212, 197, 81, 109, 93, 199, 133, 139, 2, 57, 292]}, {\"label\": \"n_estimators\", \"range\": [0, 0], \"ticktext\": [500], \"tickvals\": [0], \"values\": [0, 0, 0, 0, 0, 0, 0, 0, 0, 0, 0, 0, 0, 0, 0, 0, 0, 0, 0, 0, 0, 0, 0, 0, 0, 0, 0, 0, 0, 0, 0, 0, 0, 0, 0, 0, 0, 0, 0, 0, 0, 0, 0, 0, 0, 0, 0, 0, 0, 0]}, {\"label\": \"random_state\", \"range\": [0, 2], \"ticktext\": [24, 48, 2020], \"tickvals\": [0, 1, 2], \"values\": [0, 0, 1, 1, 1, 2, 2, 2, 2, 2, 1, 1, 1, 1, 1, 1, 1, 1, 1, 2, 1, 1, 1, 2, 2, 2, 2, 2, 2, 2, 2, 2, 2, 2, 2, 0, 0, 0, 0, 0, 0, 1, 1, 0, 0, 1, 2, 1, 1, 2]}, {\"label\": \"reg_lambda\", \"range\": [0, 5], \"ticktext\": [0.1, 1.0, 5.0, 10.0, 50.0, 100.0], \"tickvals\": [0, 1, 2, 3, 4, 5], \"values\": [3, 3, 1, 3, 4, 0, 0, 2, 3, 5, 0, 0, 0, 0, 0, 0, 2, 2, 3, 2, 3, 4, 5, 0, 0, 0, 0, 0, 0, 0, 0, 0, 0, 4, 5, 0, 0, 1, 2, 5, 5, 1, 4, 0, 3, 2, 2, 1, 2, 5]}, {\"label\": \"subsample\", \"range\": [0, 5], \"ticktext\": [0.4, 0.5, 0.6, 0.7, 0.8, 1.0], \"tickvals\": [0, 1, 2, 3, 4, 5], \"values\": [0, 5, 1, 1, 1, 1, 1, 1, 1, 3, 5, 5, 5, 5, 5, 5, 1, 5, 5, 1, 4, 3, 4, 4, 4, 4, 4, 4, 4, 4, 4, 4, 4, 4, 3, 3, 4, 4, 0, 2, 5, 2, 0, 4, 1, 2, 0, 3, 2, 4]}], \"labelangle\": 30, \"labelside\": \"bottom\", \"line\": {\"color\": [10.051717817262857, 23.434824768855417, 9.638093031123107, 9.568781637823227, 9.767541442806303, 9.559011794361863, 9.570645123669436, 9.585943341265375, 9.668533382786986, 9.600253517077046, 9.571686765652023, 9.588660697142362, 9.56894214739348, 9.575018409713248, 9.614893676173038, 9.573773365826595, 9.597397219374438, 9.55752234082176, 9.581801430120228, 9.592843635105474, 9.572856454698744, 9.639972369971087, 9.61638766800896, 9.561621278347758, 9.559435953147611, 9.570272380076588, 9.571362373800001, 9.608658239516233, 9.627795299190629, 9.559281168990369, 10.128048910431962, 9.583924500377162, 9.554353057916941, 9.67281961669648, 9.58061494638999, 9.565527702887112, 9.547606967659624, 9.58155096405566, 9.761532961093339, 9.570046449121229, 9.577755218447942, 9.836606202560223, 9.65968609205725, 9.585156661381234, 9.656755051752546, 9.607309632949827, 9.59193607885431, 9.954822806152457, 9.63888835054381, 9.636997910508535], \"colorbar\": {\"title\": {\"text\": \"Objective Value\"}}, \"colorscale\": [[0.0, \"rgb(247,251,255)\"], [0.125, \"rgb(222,235,247)\"], [0.25, \"rgb(198,219,239)\"], [0.375, \"rgb(158,202,225)\"], [0.5, \"rgb(107,174,214)\"], [0.625, \"rgb(66,146,198)\"], [0.75, \"rgb(33,113,181)\"], [0.875, \"rgb(8,81,156)\"], [1.0, \"rgb(8,48,107)\"]], \"reversescale\": true, \"showscale\": true}, \"type\": \"parcoords\"}],\n",
              "                        {\"template\": {\"data\": {\"bar\": [{\"error_x\": {\"color\": \"#2a3f5f\"}, \"error_y\": {\"color\": \"#2a3f5f\"}, \"marker\": {\"line\": {\"color\": \"#E5ECF6\", \"width\": 0.5}}, \"type\": \"bar\"}], \"barpolar\": [{\"marker\": {\"line\": {\"color\": \"#E5ECF6\", \"width\": 0.5}}, \"type\": \"barpolar\"}], \"carpet\": [{\"aaxis\": {\"endlinecolor\": \"#2a3f5f\", \"gridcolor\": \"white\", \"linecolor\": \"white\", \"minorgridcolor\": \"white\", \"startlinecolor\": \"#2a3f5f\"}, \"baxis\": {\"endlinecolor\": \"#2a3f5f\", \"gridcolor\": \"white\", \"linecolor\": \"white\", \"minorgridcolor\": \"white\", \"startlinecolor\": \"#2a3f5f\"}, \"type\": \"carpet\"}], \"choropleth\": [{\"colorbar\": {\"outlinewidth\": 0, \"ticks\": \"\"}, \"type\": \"choropleth\"}], \"contour\": [{\"colorbar\": {\"outlinewidth\": 0, \"ticks\": \"\"}, \"colorscale\": [[0.0, \"#0d0887\"], [0.1111111111111111, \"#46039f\"], [0.2222222222222222, \"#7201a8\"], [0.3333333333333333, \"#9c179e\"], [0.4444444444444444, \"#bd3786\"], [0.5555555555555556, \"#d8576b\"], [0.6666666666666666, \"#ed7953\"], [0.7777777777777778, \"#fb9f3a\"], [0.8888888888888888, \"#fdca26\"], [1.0, \"#f0f921\"]], \"type\": \"contour\"}], \"contourcarpet\": [{\"colorbar\": {\"outlinewidth\": 0, \"ticks\": \"\"}, \"type\": \"contourcarpet\"}], \"heatmap\": [{\"colorbar\": {\"outlinewidth\": 0, \"ticks\": \"\"}, \"colorscale\": [[0.0, \"#0d0887\"], [0.1111111111111111, \"#46039f\"], [0.2222222222222222, \"#7201a8\"], [0.3333333333333333, \"#9c179e\"], [0.4444444444444444, \"#bd3786\"], [0.5555555555555556, \"#d8576b\"], [0.6666666666666666, \"#ed7953\"], [0.7777777777777778, \"#fb9f3a\"], [0.8888888888888888, \"#fdca26\"], [1.0, \"#f0f921\"]], \"type\": \"heatmap\"}], \"heatmapgl\": [{\"colorbar\": {\"outlinewidth\": 0, \"ticks\": \"\"}, \"colorscale\": [[0.0, \"#0d0887\"], [0.1111111111111111, \"#46039f\"], [0.2222222222222222, \"#7201a8\"], [0.3333333333333333, \"#9c179e\"], [0.4444444444444444, \"#bd3786\"], [0.5555555555555556, \"#d8576b\"], [0.6666666666666666, \"#ed7953\"], [0.7777777777777778, \"#fb9f3a\"], [0.8888888888888888, \"#fdca26\"], [1.0, \"#f0f921\"]], \"type\": \"heatmapgl\"}], \"histogram\": [{\"marker\": {\"colorbar\": {\"outlinewidth\": 0, \"ticks\": \"\"}}, \"type\": \"histogram\"}], \"histogram2d\": [{\"colorbar\": {\"outlinewidth\": 0, \"ticks\": \"\"}, \"colorscale\": [[0.0, \"#0d0887\"], [0.1111111111111111, \"#46039f\"], [0.2222222222222222, \"#7201a8\"], [0.3333333333333333, \"#9c179e\"], [0.4444444444444444, \"#bd3786\"], [0.5555555555555556, \"#d8576b\"], [0.6666666666666666, \"#ed7953\"], [0.7777777777777778, \"#fb9f3a\"], [0.8888888888888888, \"#fdca26\"], [1.0, \"#f0f921\"]], \"type\": \"histogram2d\"}], \"histogram2dcontour\": [{\"colorbar\": {\"outlinewidth\": 0, \"ticks\": \"\"}, \"colorscale\": [[0.0, \"#0d0887\"], [0.1111111111111111, \"#46039f\"], [0.2222222222222222, \"#7201a8\"], [0.3333333333333333, \"#9c179e\"], [0.4444444444444444, \"#bd3786\"], [0.5555555555555556, \"#d8576b\"], [0.6666666666666666, \"#ed7953\"], [0.7777777777777778, \"#fb9f3a\"], [0.8888888888888888, \"#fdca26\"], [1.0, \"#f0f921\"]], \"type\": \"histogram2dcontour\"}], \"mesh3d\": [{\"colorbar\": {\"outlinewidth\": 0, \"ticks\": \"\"}, \"type\": \"mesh3d\"}], \"parcoords\": [{\"line\": {\"colorbar\": {\"outlinewidth\": 0, \"ticks\": \"\"}}, \"type\": \"parcoords\"}], \"pie\": [{\"automargin\": true, \"type\": \"pie\"}], \"scatter\": [{\"marker\": {\"colorbar\": {\"outlinewidth\": 0, \"ticks\": \"\"}}, \"type\": \"scatter\"}], \"scatter3d\": [{\"line\": {\"colorbar\": {\"outlinewidth\": 0, \"ticks\": \"\"}}, \"marker\": {\"colorbar\": {\"outlinewidth\": 0, \"ticks\": \"\"}}, \"type\": \"scatter3d\"}], \"scattercarpet\": [{\"marker\": {\"colorbar\": {\"outlinewidth\": 0, \"ticks\": \"\"}}, \"type\": \"scattercarpet\"}], \"scattergeo\": [{\"marker\": {\"colorbar\": {\"outlinewidth\": 0, \"ticks\": \"\"}}, \"type\": \"scattergeo\"}], \"scattergl\": [{\"marker\": {\"colorbar\": {\"outlinewidth\": 0, \"ticks\": \"\"}}, \"type\": \"scattergl\"}], \"scattermapbox\": [{\"marker\": {\"colorbar\": {\"outlinewidth\": 0, \"ticks\": \"\"}}, \"type\": \"scattermapbox\"}], \"scatterpolar\": [{\"marker\": {\"colorbar\": {\"outlinewidth\": 0, \"ticks\": \"\"}}, \"type\": \"scatterpolar\"}], \"scatterpolargl\": [{\"marker\": {\"colorbar\": {\"outlinewidth\": 0, \"ticks\": \"\"}}, \"type\": \"scatterpolargl\"}], \"scatterternary\": [{\"marker\": {\"colorbar\": {\"outlinewidth\": 0, \"ticks\": \"\"}}, \"type\": \"scatterternary\"}], \"surface\": [{\"colorbar\": {\"outlinewidth\": 0, \"ticks\": \"\"}, \"colorscale\": [[0.0, \"#0d0887\"], [0.1111111111111111, \"#46039f\"], [0.2222222222222222, \"#7201a8\"], [0.3333333333333333, \"#9c179e\"], [0.4444444444444444, \"#bd3786\"], [0.5555555555555556, \"#d8576b\"], [0.6666666666666666, \"#ed7953\"], [0.7777777777777778, \"#fb9f3a\"], [0.8888888888888888, \"#fdca26\"], [1.0, \"#f0f921\"]], \"type\": \"surface\"}], \"table\": [{\"cells\": {\"fill\": {\"color\": \"#EBF0F8\"}, \"line\": {\"color\": \"white\"}}, \"header\": {\"fill\": {\"color\": \"#C8D4E3\"}, \"line\": {\"color\": \"white\"}}, \"type\": \"table\"}]}, \"layout\": {\"annotationdefaults\": {\"arrowcolor\": \"#2a3f5f\", \"arrowhead\": 0, \"arrowwidth\": 1}, \"coloraxis\": {\"colorbar\": {\"outlinewidth\": 0, \"ticks\": \"\"}}, \"colorscale\": {\"diverging\": [[0, \"#8e0152\"], [0.1, \"#c51b7d\"], [0.2, \"#de77ae\"], [0.3, \"#f1b6da\"], [0.4, \"#fde0ef\"], [0.5, \"#f7f7f7\"], [0.6, \"#e6f5d0\"], [0.7, \"#b8e186\"], [0.8, \"#7fbc41\"], [0.9, \"#4d9221\"], [1, \"#276419\"]], \"sequential\": [[0.0, \"#0d0887\"], [0.1111111111111111, \"#46039f\"], [0.2222222222222222, \"#7201a8\"], [0.3333333333333333, \"#9c179e\"], [0.4444444444444444, \"#bd3786\"], [0.5555555555555556, \"#d8576b\"], [0.6666666666666666, \"#ed7953\"], [0.7777777777777778, \"#fb9f3a\"], [0.8888888888888888, \"#fdca26\"], [1.0, \"#f0f921\"]], \"sequentialminus\": [[0.0, \"#0d0887\"], [0.1111111111111111, \"#46039f\"], [0.2222222222222222, \"#7201a8\"], [0.3333333333333333, \"#9c179e\"], [0.4444444444444444, \"#bd3786\"], [0.5555555555555556, \"#d8576b\"], [0.6666666666666666, \"#ed7953\"], [0.7777777777777778, \"#fb9f3a\"], [0.8888888888888888, \"#fdca26\"], [1.0, \"#f0f921\"]]}, \"colorway\": [\"#636efa\", \"#EF553B\", \"#00cc96\", \"#ab63fa\", \"#FFA15A\", \"#19d3f3\", \"#FF6692\", \"#B6E880\", \"#FF97FF\", \"#FECB52\"], \"font\": {\"color\": \"#2a3f5f\"}, \"geo\": {\"bgcolor\": \"white\", \"lakecolor\": \"white\", \"landcolor\": \"#E5ECF6\", \"showlakes\": true, \"showland\": true, \"subunitcolor\": \"white\"}, \"hoverlabel\": {\"align\": \"left\"}, \"hovermode\": \"closest\", \"mapbox\": {\"style\": \"light\"}, \"paper_bgcolor\": \"white\", \"plot_bgcolor\": \"#E5ECF6\", \"polar\": {\"angularaxis\": {\"gridcolor\": \"white\", \"linecolor\": \"white\", \"ticks\": \"\"}, \"bgcolor\": \"#E5ECF6\", \"radialaxis\": {\"gridcolor\": \"white\", \"linecolor\": \"white\", \"ticks\": \"\"}}, \"scene\": {\"xaxis\": {\"backgroundcolor\": \"#E5ECF6\", \"gridcolor\": \"white\", \"gridwidth\": 2, \"linecolor\": \"white\", \"showbackground\": true, \"ticks\": \"\", \"zerolinecolor\": \"white\"}, \"yaxis\": {\"backgroundcolor\": \"#E5ECF6\", \"gridcolor\": \"white\", \"gridwidth\": 2, \"linecolor\": \"white\", \"showbackground\": true, \"ticks\": \"\", \"zerolinecolor\": \"white\"}, \"zaxis\": {\"backgroundcolor\": \"#E5ECF6\", \"gridcolor\": \"white\", \"gridwidth\": 2, \"linecolor\": \"white\", \"showbackground\": true, \"ticks\": \"\", \"zerolinecolor\": \"white\"}}, \"shapedefaults\": {\"line\": {\"color\": \"#2a3f5f\"}}, \"ternary\": {\"aaxis\": {\"gridcolor\": \"white\", \"linecolor\": \"white\", \"ticks\": \"\"}, \"baxis\": {\"gridcolor\": \"white\", \"linecolor\": \"white\", \"ticks\": \"\"}, \"bgcolor\": \"#E5ECF6\", \"caxis\": {\"gridcolor\": \"white\", \"linecolor\": \"white\", \"ticks\": \"\"}}, \"title\": {\"x\": 0.05}, \"xaxis\": {\"automargin\": true, \"gridcolor\": \"white\", \"linecolor\": \"white\", \"ticks\": \"\", \"title\": {\"standoff\": 15}, \"zerolinecolor\": \"white\", \"zerolinewidth\": 2}, \"yaxis\": {\"automargin\": true, \"gridcolor\": \"white\", \"linecolor\": \"white\", \"ticks\": \"\", \"title\": {\"standoff\": 15}, \"zerolinecolor\": \"white\", \"zerolinewidth\": 2}}}, \"title\": {\"text\": \"Parallel Coordinate Plot\"}},\n",
              "                        {\"responsive\": true}\n",
              "                    ).then(function(){\n",
              "                            \n",
              "var gd = document.getElementById('751844b1-fc0a-48bf-b10b-b233bcfac879');\n",
              "var x = new MutationObserver(function (mutations, observer) {{\n",
              "        var display = window.getComputedStyle(gd).display;\n",
              "        if (!display || display === 'none') {{\n",
              "            console.log([gd, 'removed!']);\n",
              "            Plotly.purge(gd);\n",
              "            observer.disconnect();\n",
              "        }}\n",
              "}});\n",
              "\n",
              "// Listen for the removal of the full notebook cells\n",
              "var notebookContainer = gd.closest('#notebook-container');\n",
              "if (notebookContainer) {{\n",
              "    x.observe(notebookContainer, {childList: true});\n",
              "}}\n",
              "\n",
              "// Listen for the clearing of the current output cell\n",
              "var outputEl = gd.closest('.output');\n",
              "if (outputEl) {{\n",
              "    x.observe(outputEl, {childList: true});\n",
              "}}\n",
              "\n",
              "                        })\n",
              "                };\n",
              "                \n",
              "            </script>\n",
              "        </div>\n",
              "</body>\n",
              "</html>"
            ]
          },
          "metadata": {}
        }
      ]
    },
    {
      "cell_type": "markdown",
      "metadata": {
        "id": "ZWZdCfM5rWIK"
      },
      "source": [
        "### Visualizing High-dimensional Parameter Relationships"
      ]
    },
    {
      "cell_type": "code",
      "metadata": {
        "colab": {
          "base_uri": "https://localhost:8080/",
          "height": 562
        },
        "id": "t8xeTkD4PVG1",
        "outputId": "323e0768-6d3f-4a9c-8c2d-99aa54e38e92"
      },
      "source": [
        "optuna.visualization.plot_slice(study)"
      ],
      "execution_count": 117,
      "outputs": [
        {
          "output_type": "display_data",
          "data": {
            "text/html": [
              "<html>\n",
              "<head><meta charset=\"utf-8\" /></head>\n",
              "<body>\n",
              "    <div>\n",
              "            <script src=\"https://cdnjs.cloudflare.com/ajax/libs/mathjax/2.7.5/MathJax.js?config=TeX-AMS-MML_SVG\"></script><script type=\"text/javascript\">if (window.MathJax) {MathJax.Hub.Config({SVG: {font: \"STIX-Web\"}});}</script>\n",
              "                <script type=\"text/javascript\">window.PlotlyConfig = {MathJaxConfig: 'local'};</script>\n",
              "        <script src=\"https://cdn.plot.ly/plotly-latest.min.js\"></script>    \n",
              "            <div id=\"c79d915f-3056-4257-8e21-4a0f827c6f71\" class=\"plotly-graph-div\" style=\"height:525px; width:2400px;\"></div>\n",
              "            <script type=\"text/javascript\">\n",
              "                \n",
              "                    window.PLOTLYENV=window.PLOTLYENV || {};\n",
              "                    \n",
              "                if (document.getElementById(\"c79d915f-3056-4257-8e21-4a0f827c6f71\")) {\n",
              "                    Plotly.newPlot(\n",
              "                        'c79d915f-3056-4257-8e21-4a0f827c6f71',\n",
              "                        [{\"marker\": {\"color\": [0, 1, 2, 3, 4, 5, 6, 7, 8, 9, 10, 11, 12, 13, 14, 15, 16, 17, 18, 19, 20, 21, 22, 23, 24, 25, 26, 27, 28, 29, 30, 31, 32, 33, 34, 35, 36, 37, 38, 39, 40, 41, 42, 43, 44, 45, 46, 47, 48, 49], \"colorbar\": {\"title\": {\"text\": \"#Trials\"}, \"x\": 1.0, \"xpad\": 40}, \"colorscale\": [[0.0, \"rgb(247,251,255)\"], [0.125, \"rgb(222,235,247)\"], [0.25, \"rgb(198,219,239)\"], [0.375, \"rgb(158,202,225)\"], [0.5, \"rgb(107,174,214)\"], [0.625, \"rgb(66,146,198)\"], [0.75, \"rgb(33,113,181)\"], [0.875, \"rgb(8,81,156)\"], [1.0, \"rgb(8,48,107)\"]], \"line\": {\"color\": \"Grey\", \"width\": 0.5}, \"showscale\": true}, \"mode\": \"markers\", \"showlegend\": false, \"type\": \"scatter\", \"x\": [0.5, 0.7, 0.7, 0.6, 0.5, 0.9, 0.8, 0.8, 1.0, 0.5, 0.5, 0.6, 0.6, 0.6, 1.0, 0.9, 0.6, 0.5, 0.5, 0.6, 0.7, 0.6, 0.6, 0.6, 0.6, 0.9, 0.8, 1.0, 0.5, 0.5, 0.5, 0.5, 0.7, 0.7, 0.7, 0.7, 0.7, 0.7, 0.7, 0.7, 0.7, 0.7, 0.7, 0.7, 0.8, 0.8, 0.8, 0.8, 0.8, 0.9], \"xaxis\": \"x\", \"y\": [9.568781637823227, 9.61638766800896, 9.639972369971087, 9.571686765652023, 9.600253517077046, 9.656755051752546, 9.577755218447942, 9.836606202560223, 9.636997910508535, 9.638093031123107, 10.051717817262857, 9.588660697142362, 9.55752234082176, 9.597397219374438, 9.63888835054381, 9.59193607885431, 9.581801430120228, 9.767541442806303, 23.434824768855417, 9.592843635105474, 9.572856454698744, 9.56894214739348, 9.575018409713248, 9.614893676173038, 9.573773365826595, 9.607309632949827, 9.65968609205725, 9.954822806152457, 9.559011794361863, 9.668533382786986, 9.585943341265375, 9.570645123669436, 9.561621278347758, 9.559435953147611, 9.570272380076588, 9.571362373800001, 9.608658239516233, 9.627795299190629, 9.559281168990369, 9.58061494638999, 9.67281961669648, 10.128048910431962, 9.583924500377162, 9.554353057916941, 9.547606967659624, 9.58155096405566, 9.570046449121229, 9.565527702887112, 9.761532961093339, 9.585156661381234], \"yaxis\": \"y\"}, {\"marker\": {\"color\": [0, 1, 2, 3, 4, 5, 6, 7, 8, 9, 10, 11, 12, 13, 14, 15, 16, 17, 18, 19, 20, 21, 22, 23, 24, 25, 26, 27, 28, 29, 30, 31, 32, 33, 34, 35, 36, 37, 38, 39, 40, 41, 42, 43, 44, 45, 46, 47, 48, 49], \"colorbar\": {\"title\": {\"text\": \"#Trials\"}, \"x\": 1.0, \"xpad\": 40}, \"colorscale\": [[0.0, \"rgb(247,251,255)\"], [0.125, \"rgb(222,235,247)\"], [0.25, \"rgb(198,219,239)\"], [0.375, \"rgb(158,202,225)\"], [0.5, \"rgb(107,174,214)\"], [0.625, \"rgb(66,146,198)\"], [0.75, \"rgb(33,113,181)\"], [0.875, \"rgb(8,81,156)\"], [1.0, \"rgb(8,48,107)\"]], \"line\": {\"color\": \"Grey\", \"width\": 0.5}, \"showscale\": false}, \"mode\": \"markers\", \"showlegend\": false, \"type\": \"scatter\", \"x\": [0.10468598509995006, 0.5521781910953454, 0.26677563404135307, 0.016964294086155896, 0.35101312667035056, 0.5600553959069497, 0.11778742760482278, 0.7447483170416535, 0.5062185148570854, 0.25443092569660947, 0.9112709116935019, 0.03637259470182558, 0.020245263713278283, 0.1730438801188095, 0.36813215691575385, 0.14114996819063488, 0.3749238671121523, 0.7076617506202928, 0.0012571553319187072, 0.24240989832841286, 0.10991137580789087, 0.00997893926385062, 0.07990571782485359, 0.22381759001174278, 0.07791736840959575, 0.16377553143687246, 0.32010584309181245, 0.44125682465757116, 0.0123682956180217, 0.6014893339519825, 0.1783601870724144, 0.0692642812431251, 0.011008747514058115, 0.06342267482151942, 0.055089374664581164, 0.20217309174671275, 0.2860065791038583, 0.13157844891547432, 0.011276695037204769, 0.1078542035997751, 0.9150832013563148, 0.004881740892953266, 0.08008726010278316, 0.04683325567808581, 0.04753588425348945, 0.1317917808929854, 0.04078157172680426, 0.19751539710618352, 0.7747208301496255, 0.15150397957646028], \"xaxis\": \"x2\", \"y\": [9.568781637823227, 9.61638766800896, 9.639972369971087, 9.571686765652023, 9.600253517077046, 9.656755051752546, 9.577755218447942, 9.836606202560223, 9.636997910508535, 9.638093031123107, 10.051717817262857, 9.588660697142362, 9.55752234082176, 9.597397219374438, 9.63888835054381, 9.59193607885431, 9.581801430120228, 9.767541442806303, 23.434824768855417, 9.592843635105474, 9.572856454698744, 9.56894214739348, 9.575018409713248, 9.614893676173038, 9.573773365826595, 9.607309632949827, 9.65968609205725, 9.954822806152457, 9.559011794361863, 9.668533382786986, 9.585943341265375, 9.570645123669436, 9.561621278347758, 9.559435953147611, 9.570272380076588, 9.571362373800001, 9.608658239516233, 9.627795299190629, 9.559281168990369, 9.58061494638999, 9.67281961669648, 10.128048910431962, 9.583924500377162, 9.554353057916941, 9.547606967659624, 9.58155096405566, 9.570046449121229, 9.565527702887112, 9.761532961093339, 9.585156661381234], \"yaxis\": \"y2\"}, {\"marker\": {\"color\": [0, 1, 2, 3, 4, 5, 6, 7, 8, 9, 10, 11, 12, 13, 14, 15, 16, 17, 18, 19, 20, 21, 22, 23, 24, 25, 26, 27, 28, 29, 30, 31, 32, 33, 34, 35, 36, 37, 38, 39, 40, 41, 42, 43, 44, 45, 46, 47, 48, 49], \"colorbar\": {\"title\": {\"text\": \"#Trials\"}, \"x\": 1.0, \"xpad\": 40}, \"colorscale\": [[0.0, \"rgb(247,251,255)\"], [0.125, \"rgb(222,235,247)\"], [0.25, \"rgb(198,219,239)\"], [0.375, \"rgb(158,202,225)\"], [0.5, \"rgb(107,174,214)\"], [0.625, \"rgb(66,146,198)\"], [0.75, \"rgb(33,113,181)\"], [0.875, \"rgb(8,81,156)\"], [1.0, \"rgb(8,48,107)\"]], \"line\": {\"color\": \"Grey\", \"width\": 0.5}, \"showscale\": false}, \"mode\": \"markers\", \"showlegend\": false, \"type\": \"scatter\", \"x\": [5, 2, 5, 9, 3, 12, 11, 12, 11, 12, 6, 8, 8, 4, 7, 9, 6, 8, 4, 6, 9, 9, 10, 7, 8, 5, 10, 7, 10, 3, 10, 9, 8, 8, 8, 11, 7, 10, 8, 8, 6, 9, 8, 7, 7, 7, 5, 6, 7, 9], \"xaxis\": \"x3\", \"y\": [9.568781637823227, 9.61638766800896, 9.639972369971087, 9.571686765652023, 9.600253517077046, 9.656755051752546, 9.577755218447942, 9.836606202560223, 9.636997910508535, 9.638093031123107, 10.051717817262857, 9.588660697142362, 9.55752234082176, 9.597397219374438, 9.63888835054381, 9.59193607885431, 9.581801430120228, 9.767541442806303, 23.434824768855417, 9.592843635105474, 9.572856454698744, 9.56894214739348, 9.575018409713248, 9.614893676173038, 9.573773365826595, 9.607309632949827, 9.65968609205725, 9.954822806152457, 9.559011794361863, 9.668533382786986, 9.585943341265375, 9.570645123669436, 9.561621278347758, 9.559435953147611, 9.570272380076588, 9.571362373800001, 9.608658239516233, 9.627795299190629, 9.559281168990369, 9.58061494638999, 9.67281961669648, 10.128048910431962, 9.583924500377162, 9.554353057916941, 9.547606967659624, 9.58155096405566, 9.570046449121229, 9.565527702887112, 9.761532961093339, 9.585156661381234], \"yaxis\": \"y3\"}, {\"marker\": {\"color\": [0, 1, 2, 3, 4, 5, 6, 7, 8, 9, 10, 11, 12, 13, 14, 15, 16, 17, 18, 19, 20, 21, 22, 23, 24, 25, 26, 27, 28, 29, 30, 31, 32, 33, 34, 35, 36, 37, 38, 39, 40, 41, 42, 43, 44, 45, 46, 47, 48, 49], \"colorbar\": {\"title\": {\"text\": \"#Trials\"}, \"x\": 1.0, \"xpad\": 40}, \"colorscale\": [[0.0, \"rgb(247,251,255)\"], [0.125, \"rgb(222,235,247)\"], [0.25, \"rgb(198,219,239)\"], [0.375, \"rgb(158,202,225)\"], [0.5, \"rgb(107,174,214)\"], [0.625, \"rgb(66,146,198)\"], [0.75, \"rgb(33,113,181)\"], [0.875, \"rgb(8,81,156)\"], [1.0, \"rgb(8,48,107)\"]], \"line\": {\"color\": \"Grey\", \"width\": 0.5}, \"showscale\": false}, \"mode\": \"markers\", \"showlegend\": false, \"type\": \"scatter\", \"x\": [150, 169, 35, 107, 156, 199, 197, 81, 292, 252, 16, 97, 113, 123, 57, 139, 216, 69, 160, 244, 125, 104, 87, 53, 184, 133, 109, 2, 145, 184, 150, 172, 111, 117, 120, 142, 80, 50, 114, 164, 74, 113, 97, 136, 142, 144, 212, 132, 178, 93], \"xaxis\": \"x4\", \"y\": [9.568781637823227, 9.61638766800896, 9.639972369971087, 9.571686765652023, 9.600253517077046, 9.656755051752546, 9.577755218447942, 9.836606202560223, 9.636997910508535, 9.638093031123107, 10.051717817262857, 9.588660697142362, 9.55752234082176, 9.597397219374438, 9.63888835054381, 9.59193607885431, 9.581801430120228, 9.767541442806303, 23.434824768855417, 9.592843635105474, 9.572856454698744, 9.56894214739348, 9.575018409713248, 9.614893676173038, 9.573773365826595, 9.607309632949827, 9.65968609205725, 9.954822806152457, 9.559011794361863, 9.668533382786986, 9.585943341265375, 9.570645123669436, 9.561621278347758, 9.559435953147611, 9.570272380076588, 9.571362373800001, 9.608658239516233, 9.627795299190629, 9.559281168990369, 9.58061494638999, 9.67281961669648, 10.128048910431962, 9.583924500377162, 9.554353057916941, 9.547606967659624, 9.58155096405566, 9.570046449121229, 9.565527702887112, 9.761532961093339, 9.585156661381234], \"yaxis\": \"y4\"}, {\"marker\": {\"color\": [0, 1, 2, 3, 4, 5, 6, 7, 8, 9, 10, 11, 12, 13, 14, 15, 16, 17, 18, 19, 20, 21, 22, 23, 24, 25, 26, 27, 28, 29, 30, 31, 32, 33, 34, 35, 36, 37, 38, 39, 40, 41, 42, 43, 44, 45, 46, 47, 48, 49], \"colorbar\": {\"title\": {\"text\": \"#Trials\"}, \"x\": 1.0, \"xpad\": 40}, \"colorscale\": [[0.0, \"rgb(247,251,255)\"], [0.125, \"rgb(222,235,247)\"], [0.25, \"rgb(198,219,239)\"], [0.375, \"rgb(158,202,225)\"], [0.5, \"rgb(107,174,214)\"], [0.625, \"rgb(66,146,198)\"], [0.75, \"rgb(33,113,181)\"], [0.875, \"rgb(8,81,156)\"], [1.0, \"rgb(8,48,107)\"]], \"line\": {\"color\": \"Grey\", \"width\": 0.5}, \"showscale\": false}, \"mode\": \"markers\", \"showlegend\": false, \"type\": \"scatter\", \"x\": [500, 500, 500, 500, 500, 500, 500, 500, 500, 500, 500, 500, 500, 500, 500, 500, 500, 500, 500, 500, 500, 500, 500, 500, 500, 500, 500, 500, 500, 500, 500, 500, 500, 500, 500, 500, 500, 500, 500, 500, 500, 500, 500, 500, 500, 500, 500, 500, 500, 500], \"xaxis\": \"x5\", \"y\": [9.568781637823227, 9.61638766800896, 9.639972369971087, 9.571686765652023, 9.600253517077046, 9.656755051752546, 9.577755218447942, 9.836606202560223, 9.636997910508535, 9.638093031123107, 10.051717817262857, 9.588660697142362, 9.55752234082176, 9.597397219374438, 9.63888835054381, 9.59193607885431, 9.581801430120228, 9.767541442806303, 23.434824768855417, 9.592843635105474, 9.572856454698744, 9.56894214739348, 9.575018409713248, 9.614893676173038, 9.573773365826595, 9.607309632949827, 9.65968609205725, 9.954822806152457, 9.559011794361863, 9.668533382786986, 9.585943341265375, 9.570645123669436, 9.561621278347758, 9.559435953147611, 9.570272380076588, 9.571362373800001, 9.608658239516233, 9.627795299190629, 9.559281168990369, 9.58061494638999, 9.67281961669648, 10.128048910431962, 9.583924500377162, 9.554353057916941, 9.547606967659624, 9.58155096405566, 9.570046449121229, 9.565527702887112, 9.761532961093339, 9.585156661381234], \"yaxis\": \"y5\"}, {\"marker\": {\"color\": [0, 1, 2, 3, 4, 5, 6, 7, 8, 9, 10, 11, 12, 13, 14, 15, 16, 17, 18, 19, 20, 21, 22, 23, 24, 25, 26, 27, 28, 29, 30, 31, 32, 33, 34, 35, 36, 37, 38, 39, 40, 41, 42, 43, 44, 45, 46, 47, 48, 49], \"colorbar\": {\"title\": {\"text\": \"#Trials\"}, \"x\": 1.0, \"xpad\": 40}, \"colorscale\": [[0.0, \"rgb(247,251,255)\"], [0.125, \"rgb(222,235,247)\"], [0.25, \"rgb(198,219,239)\"], [0.375, \"rgb(158,202,225)\"], [0.5, \"rgb(107,174,214)\"], [0.625, \"rgb(66,146,198)\"], [0.75, \"rgb(33,113,181)\"], [0.875, \"rgb(8,81,156)\"], [1.0, \"rgb(8,48,107)\"]], \"line\": {\"color\": \"Grey\", \"width\": 0.5}, \"showscale\": false}, \"mode\": \"markers\", \"showlegend\": false, \"type\": \"scatter\", \"x\": [48, 48, 48, 48, 2020, 24, 24, 48, 2020, 48, 24, 48, 48, 48, 48, 2020, 48, 48, 24, 2020, 48, 48, 48, 48, 48, 48, 48, 48, 2020, 2020, 2020, 2020, 2020, 2020, 2020, 2020, 2020, 2020, 2020, 2020, 2020, 2020, 2020, 2020, 24, 24, 24, 24, 24, 24], \"xaxis\": \"x6\", \"y\": [9.568781637823227, 9.61638766800896, 9.639972369971087, 9.571686765652023, 9.600253517077046, 9.656755051752546, 9.577755218447942, 9.836606202560223, 9.636997910508535, 9.638093031123107, 10.051717817262857, 9.588660697142362, 9.55752234082176, 9.597397219374438, 9.63888835054381, 9.59193607885431, 9.581801430120228, 9.767541442806303, 23.434824768855417, 9.592843635105474, 9.572856454698744, 9.56894214739348, 9.575018409713248, 9.614893676173038, 9.573773365826595, 9.607309632949827, 9.65968609205725, 9.954822806152457, 9.559011794361863, 9.668533382786986, 9.585943341265375, 9.570645123669436, 9.561621278347758, 9.559435953147611, 9.570272380076588, 9.571362373800001, 9.608658239516233, 9.627795299190629, 9.559281168990369, 9.58061494638999, 9.67281961669648, 10.128048910431962, 9.583924500377162, 9.554353057916941, 9.547606967659624, 9.58155096405566, 9.570046449121229, 9.565527702887112, 9.761532961093339, 9.585156661381234], \"yaxis\": \"y6\"}, {\"marker\": {\"color\": [0, 1, 2, 3, 4, 5, 6, 7, 8, 9, 10, 11, 12, 13, 14, 15, 16, 17, 18, 19, 20, 21, 22, 23, 24, 25, 26, 27, 28, 29, 30, 31, 32, 33, 34, 35, 36, 37, 38, 39, 40, 41, 42, 43, 44, 45, 46, 47, 48, 49], \"colorbar\": {\"title\": {\"text\": \"#Trials\"}, \"x\": 1.0, \"xpad\": 40}, \"colorscale\": [[0.0, \"rgb(247,251,255)\"], [0.125, \"rgb(222,235,247)\"], [0.25, \"rgb(198,219,239)\"], [0.375, \"rgb(158,202,225)\"], [0.5, \"rgb(107,174,214)\"], [0.625, \"rgb(66,146,198)\"], [0.75, \"rgb(33,113,181)\"], [0.875, \"rgb(8,81,156)\"], [1.0, \"rgb(8,48,107)\"]], \"line\": {\"color\": \"Grey\", \"width\": 0.5}, \"showscale\": false}, \"mode\": \"markers\", \"showlegend\": false, \"type\": \"scatter\", \"x\": [10.0, 100.0, 50.0, 0.1, 100.0, 10.0, 100.0, 1.0, 100.0, 1.0, 10.0, 0.1, 5.0, 5.0, 5.0, 5.0, 10.0, 50.0, 10.0, 5.0, 10.0, 0.1, 0.1, 0.1, 0.1, 5.0, 50.0, 1.0, 0.1, 10.0, 5.0, 0.1, 0.1, 0.1, 0.1, 0.1, 0.1, 0.1, 0.1, 100.0, 50.0, 0.1, 0.1, 0.1, 0.1, 1.0, 100.0, 0.1, 5.0, 0.1], \"xaxis\": \"x7\", \"y\": [9.568781637823227, 9.61638766800896, 9.639972369971087, 9.571686765652023, 9.600253517077046, 9.656755051752546, 9.577755218447942, 9.836606202560223, 9.636997910508535, 9.638093031123107, 10.051717817262857, 9.588660697142362, 9.55752234082176, 9.597397219374438, 9.63888835054381, 9.59193607885431, 9.581801430120228, 9.767541442806303, 23.434824768855417, 9.592843635105474, 9.572856454698744, 9.56894214739348, 9.575018409713248, 9.614893676173038, 9.573773365826595, 9.607309632949827, 9.65968609205725, 9.954822806152457, 9.559011794361863, 9.668533382786986, 9.585943341265375, 9.570645123669436, 9.561621278347758, 9.559435953147611, 9.570272380076588, 9.571362373800001, 9.608658239516233, 9.627795299190629, 9.559281168990369, 9.58061494638999, 9.67281961669648, 10.128048910431962, 9.583924500377162, 9.554353057916941, 9.547606967659624, 9.58155096405566, 9.570046449121229, 9.565527702887112, 9.761532961093339, 9.585156661381234], \"yaxis\": \"y7\"}, {\"marker\": {\"color\": [0, 1, 2, 3, 4, 5, 6, 7, 8, 9, 10, 11, 12, 13, 14, 15, 16, 17, 18, 19, 20, 21, 22, 23, 24, 25, 26, 27, 28, 29, 30, 31, 32, 33, 34, 35, 36, 37, 38, 39, 40, 41, 42, 43, 44, 45, 46, 47, 48, 49], \"colorbar\": {\"title\": {\"text\": \"#Trials\"}, \"x\": 1.0, \"xpad\": 40}, \"colorscale\": [[0.0, \"rgb(247,251,255)\"], [0.125, \"rgb(222,235,247)\"], [0.25, \"rgb(198,219,239)\"], [0.375, \"rgb(158,202,225)\"], [0.5, \"rgb(107,174,214)\"], [0.625, \"rgb(66,146,198)\"], [0.75, \"rgb(33,113,181)\"], [0.875, \"rgb(8,81,156)\"], [1.0, \"rgb(8,48,107)\"]], \"line\": {\"color\": \"Grey\", \"width\": 0.5}, \"showscale\": false}, \"mode\": \"markers\", \"showlegend\": false, \"type\": \"scatter\", \"x\": [0.5, 0.8, 0.7, 1.0, 0.7, 0.5, 1.0, 0.6, 0.8, 0.5, 0.4, 1.0, 1.0, 0.5, 0.6, 0.4, 1.0, 0.5, 1.0, 0.5, 0.8, 1.0, 1.0, 1.0, 1.0, 0.6, 0.4, 0.7, 0.5, 0.5, 0.5, 0.5, 0.8, 0.8, 0.8, 0.8, 0.8, 0.8, 0.8, 0.7, 0.8, 0.8, 0.8, 0.8, 0.8, 0.8, 0.6, 0.7, 0.4, 0.8], \"xaxis\": \"x8\", \"y\": [9.568781637823227, 9.61638766800896, 9.639972369971087, 9.571686765652023, 9.600253517077046, 9.656755051752546, 9.577755218447942, 9.836606202560223, 9.636997910508535, 9.638093031123107, 10.051717817262857, 9.588660697142362, 9.55752234082176, 9.597397219374438, 9.63888835054381, 9.59193607885431, 9.581801430120228, 9.767541442806303, 23.434824768855417, 9.592843635105474, 9.572856454698744, 9.56894214739348, 9.575018409713248, 9.614893676173038, 9.573773365826595, 9.607309632949827, 9.65968609205725, 9.954822806152457, 9.559011794361863, 9.668533382786986, 9.585943341265375, 9.570645123669436, 9.561621278347758, 9.559435953147611, 9.570272380076588, 9.571362373800001, 9.608658239516233, 9.627795299190629, 9.559281168990369, 9.58061494638999, 9.67281961669648, 10.128048910431962, 9.583924500377162, 9.554353057916941, 9.547606967659624, 9.58155096405566, 9.570046449121229, 9.565527702887112, 9.761532961093339, 9.585156661381234], \"yaxis\": \"y8\"}],\n",
              "                        {\"template\": {\"data\": {\"bar\": [{\"error_x\": {\"color\": \"#2a3f5f\"}, \"error_y\": {\"color\": \"#2a3f5f\"}, \"marker\": {\"line\": {\"color\": \"#E5ECF6\", \"width\": 0.5}}, \"type\": \"bar\"}], \"barpolar\": [{\"marker\": {\"line\": {\"color\": \"#E5ECF6\", \"width\": 0.5}}, \"type\": \"barpolar\"}], \"carpet\": [{\"aaxis\": {\"endlinecolor\": \"#2a3f5f\", \"gridcolor\": \"white\", \"linecolor\": \"white\", \"minorgridcolor\": \"white\", \"startlinecolor\": \"#2a3f5f\"}, \"baxis\": {\"endlinecolor\": \"#2a3f5f\", \"gridcolor\": \"white\", \"linecolor\": \"white\", \"minorgridcolor\": \"white\", \"startlinecolor\": \"#2a3f5f\"}, \"type\": \"carpet\"}], \"choropleth\": [{\"colorbar\": {\"outlinewidth\": 0, \"ticks\": \"\"}, \"type\": \"choropleth\"}], \"contour\": [{\"colorbar\": {\"outlinewidth\": 0, \"ticks\": \"\"}, \"colorscale\": [[0.0, \"#0d0887\"], [0.1111111111111111, \"#46039f\"], [0.2222222222222222, \"#7201a8\"], [0.3333333333333333, \"#9c179e\"], [0.4444444444444444, \"#bd3786\"], [0.5555555555555556, \"#d8576b\"], [0.6666666666666666, \"#ed7953\"], [0.7777777777777778, \"#fb9f3a\"], [0.8888888888888888, \"#fdca26\"], [1.0, \"#f0f921\"]], \"type\": \"contour\"}], \"contourcarpet\": [{\"colorbar\": {\"outlinewidth\": 0, \"ticks\": \"\"}, \"type\": \"contourcarpet\"}], \"heatmap\": [{\"colorbar\": {\"outlinewidth\": 0, \"ticks\": \"\"}, \"colorscale\": [[0.0, \"#0d0887\"], [0.1111111111111111, \"#46039f\"], [0.2222222222222222, \"#7201a8\"], [0.3333333333333333, \"#9c179e\"], [0.4444444444444444, \"#bd3786\"], [0.5555555555555556, \"#d8576b\"], [0.6666666666666666, \"#ed7953\"], [0.7777777777777778, \"#fb9f3a\"], [0.8888888888888888, \"#fdca26\"], [1.0, \"#f0f921\"]], \"type\": \"heatmap\"}], \"heatmapgl\": [{\"colorbar\": {\"outlinewidth\": 0, \"ticks\": \"\"}, \"colorscale\": [[0.0, \"#0d0887\"], [0.1111111111111111, \"#46039f\"], [0.2222222222222222, \"#7201a8\"], [0.3333333333333333, \"#9c179e\"], [0.4444444444444444, \"#bd3786\"], [0.5555555555555556, \"#d8576b\"], [0.6666666666666666, \"#ed7953\"], [0.7777777777777778, \"#fb9f3a\"], [0.8888888888888888, \"#fdca26\"], [1.0, \"#f0f921\"]], \"type\": \"heatmapgl\"}], \"histogram\": [{\"marker\": {\"colorbar\": {\"outlinewidth\": 0, \"ticks\": \"\"}}, \"type\": \"histogram\"}], \"histogram2d\": [{\"colorbar\": {\"outlinewidth\": 0, \"ticks\": \"\"}, \"colorscale\": [[0.0, \"#0d0887\"], [0.1111111111111111, \"#46039f\"], [0.2222222222222222, \"#7201a8\"], [0.3333333333333333, \"#9c179e\"], [0.4444444444444444, \"#bd3786\"], [0.5555555555555556, \"#d8576b\"], [0.6666666666666666, \"#ed7953\"], [0.7777777777777778, \"#fb9f3a\"], [0.8888888888888888, \"#fdca26\"], [1.0, \"#f0f921\"]], \"type\": \"histogram2d\"}], \"histogram2dcontour\": [{\"colorbar\": {\"outlinewidth\": 0, \"ticks\": \"\"}, \"colorscale\": [[0.0, \"#0d0887\"], [0.1111111111111111, \"#46039f\"], [0.2222222222222222, \"#7201a8\"], [0.3333333333333333, \"#9c179e\"], [0.4444444444444444, \"#bd3786\"], [0.5555555555555556, \"#d8576b\"], [0.6666666666666666, \"#ed7953\"], [0.7777777777777778, \"#fb9f3a\"], [0.8888888888888888, \"#fdca26\"], [1.0, \"#f0f921\"]], \"type\": \"histogram2dcontour\"}], \"mesh3d\": [{\"colorbar\": {\"outlinewidth\": 0, \"ticks\": \"\"}, \"type\": \"mesh3d\"}], \"parcoords\": [{\"line\": {\"colorbar\": {\"outlinewidth\": 0, \"ticks\": \"\"}}, \"type\": \"parcoords\"}], \"pie\": [{\"automargin\": true, \"type\": \"pie\"}], \"scatter\": [{\"marker\": {\"colorbar\": {\"outlinewidth\": 0, \"ticks\": \"\"}}, \"type\": \"scatter\"}], \"scatter3d\": [{\"line\": {\"colorbar\": {\"outlinewidth\": 0, \"ticks\": \"\"}}, \"marker\": {\"colorbar\": {\"outlinewidth\": 0, \"ticks\": \"\"}}, \"type\": \"scatter3d\"}], \"scattercarpet\": [{\"marker\": {\"colorbar\": {\"outlinewidth\": 0, \"ticks\": \"\"}}, \"type\": \"scattercarpet\"}], \"scattergeo\": [{\"marker\": {\"colorbar\": {\"outlinewidth\": 0, \"ticks\": \"\"}}, \"type\": \"scattergeo\"}], \"scattergl\": [{\"marker\": {\"colorbar\": {\"outlinewidth\": 0, \"ticks\": \"\"}}, \"type\": \"scattergl\"}], \"scattermapbox\": [{\"marker\": {\"colorbar\": {\"outlinewidth\": 0, \"ticks\": \"\"}}, \"type\": \"scattermapbox\"}], \"scatterpolar\": [{\"marker\": {\"colorbar\": {\"outlinewidth\": 0, \"ticks\": \"\"}}, \"type\": \"scatterpolar\"}], \"scatterpolargl\": [{\"marker\": {\"colorbar\": {\"outlinewidth\": 0, \"ticks\": \"\"}}, \"type\": \"scatterpolargl\"}], \"scatterternary\": [{\"marker\": {\"colorbar\": {\"outlinewidth\": 0, \"ticks\": \"\"}}, \"type\": \"scatterternary\"}], \"surface\": [{\"colorbar\": {\"outlinewidth\": 0, \"ticks\": \"\"}, \"colorscale\": [[0.0, \"#0d0887\"], [0.1111111111111111, \"#46039f\"], [0.2222222222222222, \"#7201a8\"], [0.3333333333333333, \"#9c179e\"], [0.4444444444444444, \"#bd3786\"], [0.5555555555555556, \"#d8576b\"], [0.6666666666666666, \"#ed7953\"], [0.7777777777777778, \"#fb9f3a\"], [0.8888888888888888, \"#fdca26\"], [1.0, \"#f0f921\"]], \"type\": \"surface\"}], \"table\": [{\"cells\": {\"fill\": {\"color\": \"#EBF0F8\"}, \"line\": {\"color\": \"white\"}}, \"header\": {\"fill\": {\"color\": \"#C8D4E3\"}, \"line\": {\"color\": \"white\"}}, \"type\": \"table\"}]}, \"layout\": {\"annotationdefaults\": {\"arrowcolor\": \"#2a3f5f\", \"arrowhead\": 0, \"arrowwidth\": 1}, \"coloraxis\": {\"colorbar\": {\"outlinewidth\": 0, \"ticks\": \"\"}}, \"colorscale\": {\"diverging\": [[0, \"#8e0152\"], [0.1, \"#c51b7d\"], [0.2, \"#de77ae\"], [0.3, \"#f1b6da\"], [0.4, \"#fde0ef\"], [0.5, \"#f7f7f7\"], [0.6, \"#e6f5d0\"], [0.7, \"#b8e186\"], [0.8, \"#7fbc41\"], [0.9, \"#4d9221\"], [1, \"#276419\"]], \"sequential\": [[0.0, \"#0d0887\"], [0.1111111111111111, \"#46039f\"], [0.2222222222222222, \"#7201a8\"], [0.3333333333333333, \"#9c179e\"], [0.4444444444444444, \"#bd3786\"], [0.5555555555555556, \"#d8576b\"], [0.6666666666666666, \"#ed7953\"], [0.7777777777777778, \"#fb9f3a\"], [0.8888888888888888, \"#fdca26\"], [1.0, \"#f0f921\"]], \"sequentialminus\": [[0.0, \"#0d0887\"], [0.1111111111111111, \"#46039f\"], [0.2222222222222222, \"#7201a8\"], [0.3333333333333333, \"#9c179e\"], [0.4444444444444444, \"#bd3786\"], [0.5555555555555556, \"#d8576b\"], [0.6666666666666666, \"#ed7953\"], [0.7777777777777778, \"#fb9f3a\"], [0.8888888888888888, \"#fdca26\"], [1.0, \"#f0f921\"]]}, \"colorway\": [\"#636efa\", \"#EF553B\", \"#00cc96\", \"#ab63fa\", \"#FFA15A\", \"#19d3f3\", \"#FF6692\", \"#B6E880\", \"#FF97FF\", \"#FECB52\"], \"font\": {\"color\": \"#2a3f5f\"}, \"geo\": {\"bgcolor\": \"white\", \"lakecolor\": \"white\", \"landcolor\": \"#E5ECF6\", \"showlakes\": true, \"showland\": true, \"subunitcolor\": \"white\"}, \"hoverlabel\": {\"align\": \"left\"}, \"hovermode\": \"closest\", \"mapbox\": {\"style\": \"light\"}, \"paper_bgcolor\": \"white\", \"plot_bgcolor\": \"#E5ECF6\", \"polar\": {\"angularaxis\": {\"gridcolor\": \"white\", \"linecolor\": \"white\", \"ticks\": \"\"}, \"bgcolor\": \"#E5ECF6\", \"radialaxis\": {\"gridcolor\": \"white\", \"linecolor\": \"white\", \"ticks\": \"\"}}, \"scene\": {\"xaxis\": {\"backgroundcolor\": \"#E5ECF6\", \"gridcolor\": \"white\", \"gridwidth\": 2, \"linecolor\": \"white\", \"showbackground\": true, \"ticks\": \"\", \"zerolinecolor\": \"white\"}, \"yaxis\": {\"backgroundcolor\": \"#E5ECF6\", \"gridcolor\": \"white\", \"gridwidth\": 2, \"linecolor\": \"white\", \"showbackground\": true, \"ticks\": \"\", \"zerolinecolor\": \"white\"}, \"zaxis\": {\"backgroundcolor\": \"#E5ECF6\", \"gridcolor\": \"white\", \"gridwidth\": 2, \"linecolor\": \"white\", \"showbackground\": true, \"ticks\": \"\", \"zerolinecolor\": \"white\"}}, \"shapedefaults\": {\"line\": {\"color\": \"#2a3f5f\"}}, \"ternary\": {\"aaxis\": {\"gridcolor\": \"white\", \"linecolor\": \"white\", \"ticks\": \"\"}, \"baxis\": {\"gridcolor\": \"white\", \"linecolor\": \"white\", \"ticks\": \"\"}, \"bgcolor\": \"#E5ECF6\", \"caxis\": {\"gridcolor\": \"white\", \"linecolor\": \"white\", \"ticks\": \"\"}}, \"title\": {\"x\": 0.05}, \"xaxis\": {\"automargin\": true, \"gridcolor\": \"white\", \"linecolor\": \"white\", \"ticks\": \"\", \"title\": {\"standoff\": 15}, \"zerolinecolor\": \"white\", \"zerolinewidth\": 2}, \"yaxis\": {\"automargin\": true, \"gridcolor\": \"white\", \"linecolor\": \"white\", \"ticks\": \"\", \"title\": {\"standoff\": 15}, \"zerolinecolor\": \"white\", \"zerolinewidth\": 2}}}, \"title\": {\"text\": \"Slice Plot\"}, \"width\": 2400, \"xaxis\": {\"anchor\": \"y\", \"domain\": [0.0, 0.103125], \"title\": {\"text\": \"colsample_bytree\"}}, \"xaxis2\": {\"anchor\": \"y2\", \"domain\": [0.128125, 0.23124999999999998], \"title\": {\"text\": \"learning_rate\"}}, \"xaxis3\": {\"anchor\": \"y3\", \"domain\": [0.25625, 0.359375], \"title\": {\"text\": \"max_depth\"}}, \"xaxis4\": {\"anchor\": \"y4\", \"domain\": [0.38437499999999997, 0.48749999999999993], \"title\": {\"text\": \"min_child_weight\"}}, \"xaxis5\": {\"anchor\": \"y5\", \"domain\": [0.5125, 0.615625], \"title\": {\"text\": \"n_estimators\"}}, \"xaxis6\": {\"anchor\": \"y6\", \"domain\": [0.640625, 0.74375], \"title\": {\"text\": \"random_state\"}}, \"xaxis7\": {\"anchor\": \"y7\", \"domain\": [0.76875, 0.8718750000000001], \"title\": {\"text\": \"reg_lambda\"}}, \"xaxis8\": {\"anchor\": \"y8\", \"domain\": [0.8968750000000001, 1.0], \"title\": {\"text\": \"subsample\"}}, \"yaxis\": {\"anchor\": \"x\", \"domain\": [0.0, 1.0], \"title\": {\"text\": \"Objective Value\"}}, \"yaxis2\": {\"anchor\": \"x2\", \"domain\": [0.0, 1.0], \"matches\": \"y\", \"showticklabels\": false}, \"yaxis3\": {\"anchor\": \"x3\", \"domain\": [0.0, 1.0], \"matches\": \"y\", \"showticklabels\": false}, \"yaxis4\": {\"anchor\": \"x4\", \"domain\": [0.0, 1.0], \"matches\": \"y\", \"showticklabels\": false}, \"yaxis5\": {\"anchor\": \"x5\", \"domain\": [0.0, 1.0], \"matches\": \"y\", \"showticklabels\": false}, \"yaxis6\": {\"anchor\": \"x6\", \"domain\": [0.0, 1.0], \"matches\": \"y\", \"showticklabels\": false}, \"yaxis7\": {\"anchor\": \"x7\", \"domain\": [0.0, 1.0], \"matches\": \"y\", \"showticklabels\": false}, \"yaxis8\": {\"anchor\": \"x8\", \"domain\": [0.0, 1.0], \"matches\": \"y\", \"showticklabels\": false}},\n",
              "                        {\"responsive\": true}\n",
              "                    ).then(function(){\n",
              "                            \n",
              "var gd = document.getElementById('c79d915f-3056-4257-8e21-4a0f827c6f71');\n",
              "var x = new MutationObserver(function (mutations, observer) {{\n",
              "        var display = window.getComputedStyle(gd).display;\n",
              "        if (!display || display === 'none') {{\n",
              "            console.log([gd, 'removed!']);\n",
              "            Plotly.purge(gd);\n",
              "            observer.disconnect();\n",
              "        }}\n",
              "}});\n",
              "\n",
              "// Listen for the removal of the full notebook cells\n",
              "var notebookContainer = gd.closest('#notebook-container');\n",
              "if (notebookContainer) {{\n",
              "    x.observe(notebookContainer, {childList: true});\n",
              "}}\n",
              "\n",
              "// Listen for the clearing of the current output cell\n",
              "var outputEl = gd.closest('.output');\n",
              "if (outputEl) {{\n",
              "    x.observe(outputEl, {childList: true});\n",
              "}}\n",
              "\n",
              "                        })\n",
              "                };\n",
              "                \n",
              "            </script>\n",
              "        </div>\n",
              "</body>\n",
              "</html>"
            ]
          },
          "metadata": {}
        }
      ]
    },
    {
      "cell_type": "markdown",
      "metadata": {
        "id": "nluxwSJyr-yn"
      },
      "source": [
        "### Visualizing Parameter Importances"
      ]
    },
    {
      "cell_type": "code",
      "metadata": {
        "colab": {
          "base_uri": "https://localhost:8080/",
          "height": 542
        },
        "id": "47N-FNp_Ppoz",
        "outputId": "375383c9-7b64-4262-d479-7090b92dc4e1"
      },
      "source": [
        "optuna.visualization.plot_param_importances(study)"
      ],
      "execution_count": 118,
      "outputs": [
        {
          "output_type": "display_data",
          "data": {
            "text/html": [
              "<html>\n",
              "<head><meta charset=\"utf-8\" /></head>\n",
              "<body>\n",
              "    <div>\n",
              "            <script src=\"https://cdnjs.cloudflare.com/ajax/libs/mathjax/2.7.5/MathJax.js?config=TeX-AMS-MML_SVG\"></script><script type=\"text/javascript\">if (window.MathJax) {MathJax.Hub.Config({SVG: {font: \"STIX-Web\"}});}</script>\n",
              "                <script type=\"text/javascript\">window.PlotlyConfig = {MathJaxConfig: 'local'};</script>\n",
              "        <script src=\"https://cdn.plot.ly/plotly-latest.min.js\"></script>    \n",
              "            <div id=\"8ee58048-8da9-444b-af06-f6e0e4882d1e\" class=\"plotly-graph-div\" style=\"height:525px; width:100%;\"></div>\n",
              "            <script type=\"text/javascript\">\n",
              "                \n",
              "                    window.PLOTLYENV=window.PLOTLYENV || {};\n",
              "                    \n",
              "                if (document.getElementById(\"8ee58048-8da9-444b-af06-f6e0e4882d1e\")) {\n",
              "                    Plotly.newPlot(\n",
              "                        '8ee58048-8da9-444b-af06-f6e0e4882d1e',\n",
              "                        [{\"cliponaxis\": false, \"hovertemplate\": [\"n_estimators (CategoricalDistribution): 0.0<extra></extra>\", \"max_depth (IntUniformDistribution): 0.0011624351499190748<extra></extra>\", \"colsample_bytree (CategoricalDistribution): 0.0018410673610416745<extra></extra>\", \"random_state (CategoricalDistribution): 0.003000447915307478<extra></extra>\", \"subsample (CategoricalDistribution): 0.008607635109699351<extra></extra>\", \"reg_lambda (CategoricalDistribution): 0.014877385604370396<extra></extra>\", \"min_child_weight (IntUniformDistribution): 0.17241974905855373<extra></extra>\", \"learning_rate (UniformDistribution): 0.7980912798011084<extra></extra>\"], \"marker\": {\"color\": \"rgb(66,146,198)\"}, \"orientation\": \"h\", \"text\": [\"0.0\", \"0.0011624351499190748\", \"0.0018410673610416745\", \"0.003000447915307478\", \"0.008607635109699351\", \"0.014877385604370396\", \"0.17241974905855373\", \"0.7980912798011084\"], \"textposition\": \"outside\", \"texttemplate\": \"%{text:.2f}\", \"type\": \"bar\", \"x\": [0.0, 0.0011624351499190748, 0.0018410673610416745, 0.003000447915307478, 0.008607635109699351, 0.014877385604370396, 0.17241974905855373, 0.7980912798011084], \"y\": [\"n_estimators\", \"max_depth\", \"colsample_bytree\", \"random_state\", \"subsample\", \"reg_lambda\", \"min_child_weight\", \"learning_rate\"]}],\n",
              "                        {\"showlegend\": false, \"template\": {\"data\": {\"bar\": [{\"error_x\": {\"color\": \"#2a3f5f\"}, \"error_y\": {\"color\": \"#2a3f5f\"}, \"marker\": {\"line\": {\"color\": \"#E5ECF6\", \"width\": 0.5}}, \"type\": \"bar\"}], \"barpolar\": [{\"marker\": {\"line\": {\"color\": \"#E5ECF6\", \"width\": 0.5}}, \"type\": \"barpolar\"}], \"carpet\": [{\"aaxis\": {\"endlinecolor\": \"#2a3f5f\", \"gridcolor\": \"white\", \"linecolor\": \"white\", \"minorgridcolor\": \"white\", \"startlinecolor\": \"#2a3f5f\"}, \"baxis\": {\"endlinecolor\": \"#2a3f5f\", \"gridcolor\": \"white\", \"linecolor\": \"white\", \"minorgridcolor\": \"white\", \"startlinecolor\": \"#2a3f5f\"}, \"type\": \"carpet\"}], \"choropleth\": [{\"colorbar\": {\"outlinewidth\": 0, \"ticks\": \"\"}, \"type\": \"choropleth\"}], \"contour\": [{\"colorbar\": {\"outlinewidth\": 0, \"ticks\": \"\"}, \"colorscale\": [[0.0, \"#0d0887\"], [0.1111111111111111, \"#46039f\"], [0.2222222222222222, \"#7201a8\"], [0.3333333333333333, \"#9c179e\"], [0.4444444444444444, \"#bd3786\"], [0.5555555555555556, \"#d8576b\"], [0.6666666666666666, \"#ed7953\"], [0.7777777777777778, \"#fb9f3a\"], [0.8888888888888888, \"#fdca26\"], [1.0, \"#f0f921\"]], \"type\": \"contour\"}], \"contourcarpet\": [{\"colorbar\": {\"outlinewidth\": 0, \"ticks\": \"\"}, \"type\": \"contourcarpet\"}], \"heatmap\": [{\"colorbar\": {\"outlinewidth\": 0, \"ticks\": \"\"}, \"colorscale\": [[0.0, \"#0d0887\"], [0.1111111111111111, \"#46039f\"], [0.2222222222222222, \"#7201a8\"], [0.3333333333333333, \"#9c179e\"], [0.4444444444444444, \"#bd3786\"], [0.5555555555555556, \"#d8576b\"], [0.6666666666666666, \"#ed7953\"], [0.7777777777777778, \"#fb9f3a\"], [0.8888888888888888, \"#fdca26\"], [1.0, \"#f0f921\"]], \"type\": \"heatmap\"}], \"heatmapgl\": [{\"colorbar\": {\"outlinewidth\": 0, \"ticks\": \"\"}, \"colorscale\": [[0.0, \"#0d0887\"], [0.1111111111111111, \"#46039f\"], [0.2222222222222222, \"#7201a8\"], [0.3333333333333333, \"#9c179e\"], [0.4444444444444444, \"#bd3786\"], [0.5555555555555556, \"#d8576b\"], [0.6666666666666666, \"#ed7953\"], [0.7777777777777778, \"#fb9f3a\"], [0.8888888888888888, \"#fdca26\"], [1.0, \"#f0f921\"]], \"type\": \"heatmapgl\"}], \"histogram\": [{\"marker\": {\"colorbar\": {\"outlinewidth\": 0, \"ticks\": \"\"}}, \"type\": \"histogram\"}], \"histogram2d\": [{\"colorbar\": {\"outlinewidth\": 0, \"ticks\": \"\"}, \"colorscale\": [[0.0, \"#0d0887\"], [0.1111111111111111, \"#46039f\"], [0.2222222222222222, \"#7201a8\"], [0.3333333333333333, \"#9c179e\"], [0.4444444444444444, \"#bd3786\"], [0.5555555555555556, \"#d8576b\"], [0.6666666666666666, \"#ed7953\"], [0.7777777777777778, \"#fb9f3a\"], [0.8888888888888888, \"#fdca26\"], [1.0, \"#f0f921\"]], \"type\": \"histogram2d\"}], \"histogram2dcontour\": [{\"colorbar\": {\"outlinewidth\": 0, \"ticks\": \"\"}, \"colorscale\": [[0.0, \"#0d0887\"], [0.1111111111111111, \"#46039f\"], [0.2222222222222222, \"#7201a8\"], [0.3333333333333333, \"#9c179e\"], [0.4444444444444444, \"#bd3786\"], [0.5555555555555556, \"#d8576b\"], [0.6666666666666666, \"#ed7953\"], [0.7777777777777778, \"#fb9f3a\"], [0.8888888888888888, \"#fdca26\"], [1.0, \"#f0f921\"]], \"type\": \"histogram2dcontour\"}], \"mesh3d\": [{\"colorbar\": {\"outlinewidth\": 0, \"ticks\": \"\"}, \"type\": \"mesh3d\"}], \"parcoords\": [{\"line\": {\"colorbar\": {\"outlinewidth\": 0, \"ticks\": \"\"}}, \"type\": \"parcoords\"}], \"pie\": [{\"automargin\": true, \"type\": \"pie\"}], \"scatter\": [{\"marker\": {\"colorbar\": {\"outlinewidth\": 0, \"ticks\": \"\"}}, \"type\": \"scatter\"}], \"scatter3d\": [{\"line\": {\"colorbar\": {\"outlinewidth\": 0, \"ticks\": \"\"}}, \"marker\": {\"colorbar\": {\"outlinewidth\": 0, \"ticks\": \"\"}}, \"type\": \"scatter3d\"}], \"scattercarpet\": [{\"marker\": {\"colorbar\": {\"outlinewidth\": 0, \"ticks\": \"\"}}, \"type\": \"scattercarpet\"}], \"scattergeo\": [{\"marker\": {\"colorbar\": {\"outlinewidth\": 0, \"ticks\": \"\"}}, \"type\": \"scattergeo\"}], \"scattergl\": [{\"marker\": {\"colorbar\": {\"outlinewidth\": 0, \"ticks\": \"\"}}, \"type\": \"scattergl\"}], \"scattermapbox\": [{\"marker\": {\"colorbar\": {\"outlinewidth\": 0, \"ticks\": \"\"}}, \"type\": \"scattermapbox\"}], \"scatterpolar\": [{\"marker\": {\"colorbar\": {\"outlinewidth\": 0, \"ticks\": \"\"}}, \"type\": \"scatterpolar\"}], \"scatterpolargl\": [{\"marker\": {\"colorbar\": {\"outlinewidth\": 0, \"ticks\": \"\"}}, \"type\": \"scatterpolargl\"}], \"scatterternary\": [{\"marker\": {\"colorbar\": {\"outlinewidth\": 0, \"ticks\": \"\"}}, \"type\": \"scatterternary\"}], \"surface\": [{\"colorbar\": {\"outlinewidth\": 0, \"ticks\": \"\"}, \"colorscale\": [[0.0, \"#0d0887\"], [0.1111111111111111, \"#46039f\"], [0.2222222222222222, \"#7201a8\"], [0.3333333333333333, \"#9c179e\"], [0.4444444444444444, \"#bd3786\"], [0.5555555555555556, \"#d8576b\"], [0.6666666666666666, \"#ed7953\"], [0.7777777777777778, \"#fb9f3a\"], [0.8888888888888888, \"#fdca26\"], [1.0, \"#f0f921\"]], \"type\": \"surface\"}], \"table\": [{\"cells\": {\"fill\": {\"color\": \"#EBF0F8\"}, \"line\": {\"color\": \"white\"}}, \"header\": {\"fill\": {\"color\": \"#C8D4E3\"}, \"line\": {\"color\": \"white\"}}, \"type\": \"table\"}]}, \"layout\": {\"annotationdefaults\": {\"arrowcolor\": \"#2a3f5f\", \"arrowhead\": 0, \"arrowwidth\": 1}, \"coloraxis\": {\"colorbar\": {\"outlinewidth\": 0, \"ticks\": \"\"}}, \"colorscale\": {\"diverging\": [[0, \"#8e0152\"], [0.1, \"#c51b7d\"], [0.2, \"#de77ae\"], [0.3, \"#f1b6da\"], [0.4, \"#fde0ef\"], [0.5, \"#f7f7f7\"], [0.6, \"#e6f5d0\"], [0.7, \"#b8e186\"], [0.8, \"#7fbc41\"], [0.9, \"#4d9221\"], [1, \"#276419\"]], \"sequential\": [[0.0, \"#0d0887\"], [0.1111111111111111, \"#46039f\"], [0.2222222222222222, \"#7201a8\"], [0.3333333333333333, \"#9c179e\"], [0.4444444444444444, \"#bd3786\"], [0.5555555555555556, \"#d8576b\"], [0.6666666666666666, \"#ed7953\"], [0.7777777777777778, \"#fb9f3a\"], [0.8888888888888888, \"#fdca26\"], [1.0, \"#f0f921\"]], \"sequentialminus\": [[0.0, \"#0d0887\"], [0.1111111111111111, \"#46039f\"], [0.2222222222222222, \"#7201a8\"], [0.3333333333333333, \"#9c179e\"], [0.4444444444444444, \"#bd3786\"], [0.5555555555555556, \"#d8576b\"], [0.6666666666666666, \"#ed7953\"], [0.7777777777777778, \"#fb9f3a\"], [0.8888888888888888, \"#fdca26\"], [1.0, \"#f0f921\"]]}, \"colorway\": [\"#636efa\", \"#EF553B\", \"#00cc96\", \"#ab63fa\", \"#FFA15A\", \"#19d3f3\", \"#FF6692\", \"#B6E880\", \"#FF97FF\", \"#FECB52\"], \"font\": {\"color\": \"#2a3f5f\"}, \"geo\": {\"bgcolor\": \"white\", \"lakecolor\": \"white\", \"landcolor\": \"#E5ECF6\", \"showlakes\": true, \"showland\": true, \"subunitcolor\": \"white\"}, \"hoverlabel\": {\"align\": \"left\"}, \"hovermode\": \"closest\", \"mapbox\": {\"style\": \"light\"}, \"paper_bgcolor\": \"white\", \"plot_bgcolor\": \"#E5ECF6\", \"polar\": {\"angularaxis\": {\"gridcolor\": \"white\", \"linecolor\": \"white\", \"ticks\": \"\"}, \"bgcolor\": \"#E5ECF6\", \"radialaxis\": {\"gridcolor\": \"white\", \"linecolor\": \"white\", \"ticks\": \"\"}}, \"scene\": {\"xaxis\": {\"backgroundcolor\": \"#E5ECF6\", \"gridcolor\": \"white\", \"gridwidth\": 2, \"linecolor\": \"white\", \"showbackground\": true, \"ticks\": \"\", \"zerolinecolor\": \"white\"}, \"yaxis\": {\"backgroundcolor\": \"#E5ECF6\", \"gridcolor\": \"white\", \"gridwidth\": 2, \"linecolor\": \"white\", \"showbackground\": true, \"ticks\": \"\", \"zerolinecolor\": \"white\"}, \"zaxis\": {\"backgroundcolor\": \"#E5ECF6\", \"gridcolor\": \"white\", \"gridwidth\": 2, \"linecolor\": \"white\", \"showbackground\": true, \"ticks\": \"\", \"zerolinecolor\": \"white\"}}, \"shapedefaults\": {\"line\": {\"color\": \"#2a3f5f\"}}, \"ternary\": {\"aaxis\": {\"gridcolor\": \"white\", \"linecolor\": \"white\", \"ticks\": \"\"}, \"baxis\": {\"gridcolor\": \"white\", \"linecolor\": \"white\", \"ticks\": \"\"}, \"bgcolor\": \"#E5ECF6\", \"caxis\": {\"gridcolor\": \"white\", \"linecolor\": \"white\", \"ticks\": \"\"}}, \"title\": {\"x\": 0.05}, \"xaxis\": {\"automargin\": true, \"gridcolor\": \"white\", \"linecolor\": \"white\", \"ticks\": \"\", \"title\": {\"standoff\": 15}, \"zerolinecolor\": \"white\", \"zerolinewidth\": 2}, \"yaxis\": {\"automargin\": true, \"gridcolor\": \"white\", \"linecolor\": \"white\", \"ticks\": \"\", \"title\": {\"standoff\": 15}, \"zerolinecolor\": \"white\", \"zerolinewidth\": 2}}}, \"title\": {\"text\": \"Hyperparameter Importances\"}, \"xaxis\": {\"title\": {\"text\": \"Importance for Objective Value\"}}, \"yaxis\": {\"title\": {\"text\": \"Hyperparameter\"}}},\n",
              "                        {\"responsive\": true}\n",
              "                    ).then(function(){\n",
              "                            \n",
              "var gd = document.getElementById('8ee58048-8da9-444b-af06-f6e0e4882d1e');\n",
              "var x = new MutationObserver(function (mutations, observer) {{\n",
              "        var display = window.getComputedStyle(gd).display;\n",
              "        if (!display || display === 'none') {{\n",
              "            console.log([gd, 'removed!']);\n",
              "            Plotly.purge(gd);\n",
              "            observer.disconnect();\n",
              "        }}\n",
              "}});\n",
              "\n",
              "// Listen for the removal of the full notebook cells\n",
              "var notebookContainer = gd.closest('#notebook-container');\n",
              "if (notebookContainer) {{\n",
              "    x.observe(notebookContainer, {childList: true});\n",
              "}}\n",
              "\n",
              "// Listen for the clearing of the current output cell\n",
              "var outputEl = gd.closest('.output');\n",
              "if (outputEl) {{\n",
              "    x.observe(outputEl, {childList: true});\n",
              "}}\n",
              "\n",
              "                        })\n",
              "                };\n",
              "                \n",
              "            </script>\n",
              "        </div>\n",
              "</body>\n",
              "</html>"
            ]
          },
          "metadata": {}
        }
      ]
    },
    {
      "cell_type": "markdown",
      "metadata": {
        "id": "arW52Vy7sDli"
      },
      "source": [
        "### Get the best parameters from optuna study"
      ]
    },
    {
      "cell_type": "code",
      "metadata": {
        "id": "IGH_UpfARylY"
      },
      "source": [
        "updated_params=study.best_params"
      ],
      "execution_count": 119,
      "outputs": []
    },
    {
      "cell_type": "markdown",
      "metadata": {
        "id": "0khZ0ZAasLFy"
      },
      "source": [
        "### Create a model with new parameters"
      ]
    },
    {
      "cell_type": "code",
      "metadata": {
        "id": "DkR_HQwlSTar"
      },
      "source": [
        "model = xgb.XGBRegressor(**updated_params,early_stopping_rounds=10)"
      ],
      "execution_count": 120,
      "outputs": []
    },
    {
      "cell_type": "markdown",
      "metadata": {
        "id": "GHmy6iWOsR5C"
      },
      "source": [
        "### Fit the model"
      ]
    },
    {
      "cell_type": "code",
      "metadata": {
        "colab": {
          "base_uri": "https://localhost:8080/"
        },
        "id": "Lg-_Bo0PQLNO",
        "outputId": "8de5b9ff-0892-4bc6-d0d6-76155b94b161"
      },
      "source": [
        "model.fit(X,y)"
      ],
      "execution_count": 121,
      "outputs": [
        {
          "output_type": "stream",
          "name": "stdout",
          "text": [
            "[15:53:28] WARNING: /workspace/src/objective/regression_obj.cu:152: reg:linear is now deprecated in favor of reg:squarederror.\n"
          ]
        },
        {
          "output_type": "execute_result",
          "data": {
            "text/plain": [
              "XGBRegressor(colsample_bytree=0.8, early_stopping_rounds=10,\n",
              "             learning_rate=0.04753588425348945, max_depth=7,\n",
              "             min_child_weight=142, n_estimators=500, random_state=24,\n",
              "             reg_lambda=0.1, subsample=0.8)"
            ]
          },
          "metadata": {},
          "execution_count": 121
        }
      ]
    },
    {
      "cell_type": "markdown",
      "metadata": {
        "id": "iMoTnsZAsVRa"
      },
      "source": [
        "### Import shap for model explaination"
      ]
    },
    {
      "cell_type": "code",
      "metadata": {
        "colab": {
          "base_uri": "https://localhost:8080/"
        },
        "id": "fGfjqGHKSxp8",
        "outputId": "819cf588-bdf5-4f0a-a737-46b1c9dcb425"
      },
      "source": [
        "!pip install shap"
      ],
      "execution_count": 40,
      "outputs": [
        {
          "output_type": "stream",
          "name": "stdout",
          "text": [
            "Requirement already satisfied: shap in /usr/local/lib/python3.7/dist-packages (0.39.0)\n",
            "Requirement already satisfied: cloudpickle in /usr/local/lib/python3.7/dist-packages (from shap) (1.3.0)\n",
            "Requirement already satisfied: numba in /usr/local/lib/python3.7/dist-packages (from shap) (0.51.2)\n",
            "Requirement already satisfied: scipy in /usr/local/lib/python3.7/dist-packages (from shap) (1.4.1)\n",
            "Requirement already satisfied: numpy in /usr/local/lib/python3.7/dist-packages (from shap) (1.19.5)\n",
            "Requirement already satisfied: slicer==0.0.7 in /usr/local/lib/python3.7/dist-packages (from shap) (0.0.7)\n",
            "Requirement already satisfied: tqdm>4.25.0 in /usr/local/lib/python3.7/dist-packages (from shap) (4.62.3)\n",
            "Requirement already satisfied: scikit-learn in /usr/local/lib/python3.7/dist-packages (from shap) (1.0)\n",
            "Requirement already satisfied: pandas in /usr/local/lib/python3.7/dist-packages (from shap) (1.1.5)\n",
            "Requirement already satisfied: llvmlite<0.35,>=0.34.0.dev0 in /usr/local/lib/python3.7/dist-packages (from numba->shap) (0.34.0)\n",
            "Requirement already satisfied: setuptools in /usr/local/lib/python3.7/dist-packages (from numba->shap) (57.4.0)\n",
            "Requirement already satisfied: pytz>=2017.2 in /usr/local/lib/python3.7/dist-packages (from pandas->shap) (2018.9)\n",
            "Requirement already satisfied: python-dateutil>=2.7.3 in /usr/local/lib/python3.7/dist-packages (from pandas->shap) (2.8.2)\n",
            "Requirement already satisfied: six>=1.5 in /usr/local/lib/python3.7/dist-packages (from python-dateutil>=2.7.3->pandas->shap) (1.15.0)\n",
            "Requirement already satisfied: threadpoolctl>=2.0.0 in /usr/local/lib/python3.7/dist-packages (from scikit-learn->shap) (3.0.0)\n",
            "Requirement already satisfied: joblib>=0.11 in /usr/local/lib/python3.7/dist-packages (from scikit-learn->shap) (1.0.1)\n"
          ]
        }
      ]
    },
    {
      "cell_type": "code",
      "metadata": {
        "id": "gyA7IBMfTgzx"
      },
      "source": [
        "import shap"
      ],
      "execution_count": 41,
      "outputs": []
    },
    {
      "cell_type": "code",
      "metadata": {
        "id": "pbfMHYkOTYZi"
      },
      "source": [
        "explainer = shap.Explainer(model)\n",
        "shap_values = explainer(X)"
      ],
      "execution_count": 122,
      "outputs": []
    },
    {
      "cell_type": "markdown",
      "metadata": {
        "id": "yh4JS0dbscd_"
      },
      "source": [
        "### Feature importance plot."
      ]
    },
    {
      "cell_type": "code",
      "metadata": {
        "colab": {
          "base_uri": "https://localhost:8080/",
          "height": 772
        },
        "id": "MSGeDBs4nyvW",
        "outputId": "d06888a4-1c58-46fb-e034-13d83dc6a57f"
      },
      "source": [
        "shap.plots.bar(shap_values,max_display=30)"
      ],
      "execution_count": 123,
      "outputs": [
        {
          "output_type": "display_data",
          "data": {
            "image/png": "[encoded data removed]",
            "text/plain": [
              "<Figure size 576x936 with 1 Axes>"
            ]
          },
          "metadata": {}
        }
      ]
    },
    {
      "cell_type": "markdown",
      "metadata": {
        "id": "CABdx8h0smL4"
      },
      "source": [
        "### Top features impact the model"
      ]
    },
    {
      "cell_type": "code",
      "metadata": {
        "colab": {
          "base_uri": "https://localhost:8080/",
          "height": 651
        },
        "id": "9E_ImGoKpiQu",
        "outputId": "afeccbce-b6f7-4f95-85e6-4aafa741e5b8"
      },
      "source": [
        "shap.plots.beeswarm(shap_values,max_display=30)"
      ],
      "execution_count": 124,
      "outputs": [
        {
          "output_type": "display_data",
          "data": {
            "image/png": "[encoded data removed]",
            "text/plain": [
              "<Figure size 576x770.4 with 2 Axes>"
            ]
          },
          "metadata": {
            "needs_background": "light"
          }
        }
      ]
    },
    {
      "cell_type": "markdown",
      "metadata": {
        "id": "QSqiCR8ps05B"
      },
      "source": [
        "### Predict the test data"
      ]
    },
    {
      "cell_type": "code",
      "metadata": {
        "id": "MEsBJohGzwza"
      },
      "source": [
        "preds=model.predict(test.iloc[:,np.r_[0:4,5:9,10,11,13,15:27]])"
      ],
      "execution_count": 125,
      "outputs": []
    },
    {
      "cell_type": "markdown",
      "metadata": {
        "id": "HJId1XZwsonY"
      },
      "source": [
        "### Store prediction in dataframe"
      ]
    },
    {
      "cell_type": "code",
      "metadata": {
        "id": "Okq2RJcvz9cj"
      },
      "source": [
        "res=pd.DataFrame({'hours-per-week':preds})"
      ],
      "execution_count": 126,
      "outputs": []
    },
    {
      "cell_type": "markdown",
      "metadata": {
        "id": "piWWuX0usyae"
      },
      "source": [
        "### Write the dataframe as csv file"
      ]
    },
    {
      "cell_type": "code",
      "metadata": {
        "id": "z2chIc500LnW"
      },
      "source": [
        "res.to_csv(\"xgboost with optuna.csv\",index=False)"
      ],
      "execution_count": 127,
      "outputs": []
    }
  ]
}